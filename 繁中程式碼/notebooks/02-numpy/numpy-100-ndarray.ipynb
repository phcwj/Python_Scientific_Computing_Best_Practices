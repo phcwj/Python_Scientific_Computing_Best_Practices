{
 "cells": [
  {
   "cell_type": "code",
   "execution_count": 1,
   "metadata": {},
   "outputs": [
    {
     "name": "stderr",
     "output_type": "stream",
     "text": [
      "e:\\05_Cloud_Disk\\Google_Drive\\Work\\GitHub\\Python_Scientific_Computing_Best_Practices\\繁中程式碼\\codes\\scpy2\\utils\\program_finder.py:21: UserWarning: Graphviz not found\n",
      "  warnings.warn(\"Graphviz not found\")\n",
      "e:\\05_Cloud_Disk\\Google_Drive\\Work\\GitHub\\Python_Scientific_Computing_Best_Practices\\繁中程式碼\\codes\\scpy2\\utils\\program_finder.py:25: UserWarning: Inkscape not found\n",
      "  warnings.warn(\"Inkscape not found\")\n"
     ]
    }
   ],
   "source": [
    "import sys, os\n",
    "sys.path.append(os.path.abspath(os.path.join(os.getcwd(), \"../../codes/\")))\n",
    "sys.path.append(os.path.abspath(os.path.join(os.getcwd(), \"../../codes/scpy2/\")))\n",
    "\n",
    "from scpy2.utils.nbmagics import install_magics\n",
    "install_magics()\n",
    "del install_magics"
   ]
  },
  {
   "cell_type": "code",
   "execution_count": 2,
   "metadata": {
    "collapsed": false
   },
   "outputs": [],
   "source": [
    "%matplotlib_svg\n",
    "import numpy as np"
   ]
  },
  {
   "cell_type": "markdown",
   "metadata": {},
   "source": [
    "# NumPy-快速處理資料"
   ]
  },
  {
   "cell_type": "code",
   "execution_count": 3,
   "metadata": {
    "collapsed": false
   },
   "outputs": [
    {
     "data": {
      "text/plain": [
       "'1.21.2'"
      ]
     },
     "execution_count": 3,
     "metadata": {},
     "output_type": "execute_result"
    }
   ],
   "source": [
    "import numpy\n",
    "numpy.__version__"
   ]
  },
  {
   "cell_type": "markdown",
   "metadata": {},
   "source": [
    "## `ndarray`物件"
   ]
  },
  {
   "cell_type": "code",
   "execution_count": 4,
   "metadata": {
    "collapsed": false
   },
   "outputs": [],
   "source": [
    "import numpy as np"
   ]
  },
  {
   "cell_type": "markdown",
   "metadata": {},
   "source": [
    "### 建立\n",
    "\n",
    "需要建立陣列才能運算和操作。  \n",
    "可以透過 `array()` 函數傳遞 python 的序移物件來建立陣列，如果傳遞的是多層巢狀結構的序列，將建立多維陣列。"
   ]
  },
  {
   "cell_type": "code",
   "execution_count": 5,
   "metadata": {
    "collapsed": false
   },
   "outputs": [
    {
     "name": "stdout",
     "output_type": "stream",
     "text": [
      "     b                c         \n",
      "------------  ------------------\n",
      "[5, 6, 7, 8]  [[ 1,  2,  3,  4],\n",
      "               [ 4,  5,  6,  7],\n",
      "               [ 7,  8,  9, 10]]\n"
     ]
    }
   ],
   "source": [
    "a = np.array([1, 2, 3, 4])\n",
    "b = np.array((5, 6, 7, 8))\n",
    "c = np.array([[1, 2, 3, 4], [4, 5, 6, 7], [7, 8, 9, 10]])\n",
    "%C b; c"
   ]
  },
  {
   "cell_type": "markdown",
   "metadata": {},
   "source": [
    "陣列的形狀可以透過 `shape屬性` 獲得，它是一個描述陣列各個軸的長度的元組(tuple):"
   ]
  },
  {
   "cell_type": "code",
   "execution_count": 6,
   "metadata": {
    "collapsed": false
   },
   "outputs": [
    {
     "name": "stdout",
     "output_type": "stream",
     "text": [
      "a.shape  b.shape  c.shape\n",
      "-------  -------  -------\n",
      "(4,)     (4,)     (3, 4) \n"
     ]
    }
   ],
   "source": [
    "%C a.shape; b.shape; c.shape"
   ]
  },
  {
   "cell_type": "markdown",
   "metadata": {},
   "source": [
    "還可以透過修改陣列的 `shape屬性`，在保持陣列元素個數不變的情況下，改變陣列每個軸的長度。\n",
    "> 注意：只是改變每個軸的大小，陣列元素在記憶體中的位置並沒有改變。"
   ]
  },
  {
   "cell_type": "code",
   "execution_count": 7,
   "metadata": {
    "collapsed": false
   },
   "outputs": [
    {
     "data": {
      "text/plain": [
       "array([[ 1,  2,  3],\n",
       "       [ 4,  4,  5],\n",
       "       [ 6,  7,  7],\n",
       "       [ 8,  9, 10]])"
      ]
     },
     "execution_count": 7,
     "metadata": {},
     "output_type": "execute_result"
    }
   ],
   "source": [
    "c.shape = 4, 3\n",
    "c"
   ]
  },
  {
   "cell_type": "markdown",
   "metadata": {},
   "source": [
    "當設定某個軸的元素個數為 `-1` 時，將自動計算此軸的長度。"
   ]
  },
  {
   "cell_type": "code",
   "execution_count": 8,
   "metadata": {
    "collapsed": false
   },
   "outputs": [
    {
     "data": {
      "text/plain": [
       "array([[ 1,  2,  3,  4,  4,  5],\n",
       "       [ 6,  7,  7,  8,  9, 10]])"
      ]
     },
     "execution_count": 8,
     "metadata": {},
     "output_type": "execute_result"
    }
   ],
   "source": [
    "c.shape = 2, -1\n",
    "c"
   ]
  },
  {
   "cell_type": "markdown",
   "metadata": {},
   "source": [
    "使用陣列的 `reshape()` 方法，可以建立指定形狀的新陣列，而原陣列的形狀保持不變。"
   ]
  },
  {
   "cell_type": "code",
   "execution_count": 9,
   "metadata": {
    "collapsed": false
   },
   "outputs": [
    {
     "name": "stdout",
     "output_type": "stream",
     "text": [
      "   d           a      \n",
      "--------  ------------\n",
      "[[1, 2],  [1, 2, 3, 4]\n",
      " [3, 4]]              \n"
     ]
    }
   ],
   "source": [
    "d = a.reshape((2,2)) # 也可以用a.reshape(2,2)\n",
    "%C d; a"
   ]
  },
  {
   "cell_type": "markdown",
   "metadata": {},
   "source": [
    "陣列 a 和 b 其實共用資料儲存空間，因此俢改其中一任意一個陣列的元素都會同時修改另一個陣列的內容。  "
   ]
  },
  {
   "cell_type": "code",
   "execution_count": 10,
   "metadata": {
    "collapsed": false
   },
   "outputs": [
    {
     "name": "stdout",
     "output_type": "stream",
     "text": [
      "     a           d    \n",
      "------------  --------\n",
      "[1, 2, 3, 4]  [[1, 2],\n",
      "               [3, 4]]\n",
      "         a                 d      \n",
      "--------------------  ------------\n",
      "[  1, 100,   3,   4]  [[  1, 100],\n",
      "                       [  3,   4]]\n"
     ]
    }
   ],
   "source": [
    "%C a; d\n",
    "a[1] = 100 # 將陣列a的第1個元素改為100\n",
    "%C a; d"
   ]
  },
  {
   "cell_type": "markdown",
   "metadata": {},
   "source": [
    "### 元素型態\n",
    "\n",
    "陣列的元素類型可以透過 `dtype屬性` 獲得。\n",
    "\n",
    "如果使用 64位元的作業系統 和 python，那麼預設整數類型的長度為 64 位元。"
   ]
  },
  {
   "cell_type": "code",
   "execution_count": 11,
   "metadata": {
    "collapsed": false
   },
   "outputs": [
    {
     "data": {
      "text/plain": [
       "dtype('int32')"
      ]
     },
     "execution_count": 11,
     "metadata": {},
     "output_type": "execute_result"
    }
   ],
   "source": [
    "c.dtype"
   ]
  },
  {
   "cell_type": "markdown",
   "metadata": {},
   "source": [
    "可以透過 `dtype` 參數在建立陣列時指定元素類型，注意 `float` 類型是 64位元的雙精度浮點數類型，而 `complex` 是 128位的雙精度複數類型。"
   ]
  },
  {
   "cell_type": "code",
   "execution_count": 12,
   "metadata": {
    "collapsed": false
   },
   "outputs": [
    {
     "name": "stdout",
     "output_type": "stream",
     "text": [
      "  ai32.dtype        af.dtype            ac.dtype     \n",
      "--------------  ----------------  -------------------\n",
      "dtype('int32')  dtype('float64')  dtype('complex128')\n"
     ]
    }
   ],
   "source": [
    "ai32 = np.array([1, 2, 3, 4], dtype=np.int32)\n",
    "af = np.array([1, 2, 3, 4], dtype=float)\n",
    "ac = np.array([1, 2, 3, 4], dtype=complex)\n",
    "%C ai32.dtype; af.dtype; ac.dtype"
   ]
  },
  {
   "cell_type": "markdown",
   "metadata": {},
   "source": [
    "上例中，`float` 和 `complex` 為 python 內建的浮點數類型和複數類型，而 `np.int32` 是 numpy 定義的新的資料類型。 \n",
    "\n",
    "Numpy 自己的浮點數類型有：`float16`, `float32`, `float64`, `float128`。\n",
    "\n",
    "在需要指定 `dtype` 參數時，也可以傳遞一個字串來表示元素的數值型態。 numpy 中的每個數值型態都有幾種字串表示法，字串和類型之間的對應關係都儲存在 `typeDict` 字典中。\n",
    "\n",
    "下面的程式獲得與 `float64` 類型對應的所有鍵值："
   ]
  },
  {
   "cell_type": "code",
   "execution_count": 13,
   "metadata": {
    "collapsed": false
   },
   "outputs": [
    {
     "name": "stderr",
     "output_type": "stream",
     "text": [
      "<ipython-input-13-b3ac95bf03fb>:1: DeprecationWarning: `np.typeDict` is a deprecated alias for `np.sctypeDict`.\n",
      "  [key for key, value in np.typeDict.items() if value is np.float64]\n"
     ]
    },
    {
     "data": {
      "text/plain": [
       "['double', 'd', 12, 'float64', 'f8', 'float_', 'float']"
      ]
     },
     "execution_count": 13,
     "metadata": {},
     "output_type": "execute_result"
    }
   ],
   "source": [
    "[key for key, value in np.typeDict.items() if value is np.float64]"
   ]
  },
  {
   "cell_type": "markdown",
   "metadata": {},
   "source": [
    "完整的類型列表可以透過下面的斜述獲得，它將 `typeDict` 字典中所有的值轉為一個集合，進一步去除其中的重複項："
   ]
  },
  {
   "cell_type": "code",
   "execution_count": 14,
   "metadata": {
    "collapsed": false
   },
   "outputs": [
    {
     "name": "stdout",
     "output_type": "stream",
     "text": [
      "{numpy.bool_,          numpy.bytes_,         numpy.clongdouble,    numpy.complex128,    \n",
      " numpy.complex64,      numpy.datetime64,     numpy.float16,        numpy.float32,       \n",
      " numpy.float64,        numpy.int16,          numpy.int32,          numpy.int64,         \n",
      " numpy.int8,           numpy.intc,           numpy.longdouble,     numpy.object_,       \n",
      " numpy.str_,           numpy.timedelta64,    numpy.uint16,         numpy.uint32,        \n",
      " numpy.uint64,         numpy.uint8,          numpy.uintc,          numpy.void}          \n"
     ]
    },
    {
     "name": "stderr",
     "output_type": "stream",
     "text": [
      "<string>:1: DeprecationWarning: `np.typeDict` is a deprecated alias for `np.sctypeDict`.\n"
     ]
    }
   ],
   "source": [
    "%col 4 set(np.typeDict.values())"
   ]
  },
  {
   "cell_type": "markdown",
   "metadata": {},
   "source": [
    "上面顯示的數值型態與陣列的 `dtype屬性` 是不同的物件。透過 `dtype物件` 的 `type屬性` 可以獲得與其對應的數值型態："
   ]
  },
  {
   "cell_type": "code",
   "execution_count": 15,
   "metadata": {
    "collapsed": false
   },
   "outputs": [
    {
     "data": {
      "text/plain": [
       "numpy.int32"
      ]
     },
     "execution_count": 15,
     "metadata": {},
     "output_type": "execute_result"
    }
   ],
   "source": [
    "c.dtype.type"
   ]
  },
  {
   "cell_type": "markdown",
   "metadata": {},
   "source": [
    "透過 numpy 的數值型態也可以建立數值物件，它與 python 的整數物件不同的是，它的設定範圍有限，因此計算 `200*200` 會溢位，獲得一個負數，這一點與 C 語言的結果相同："
   ]
  },
  {
   "cell_type": "code",
   "execution_count": 16,
   "metadata": {
    "collapsed": false
   },
   "outputs": [
    {
     "name": "stderr",
     "output_type": "stream",
     "text": [
      "<ipython-input-16-4c2c60806930>:2: RuntimeWarning: overflow encountered in short_scalars\n",
      "  a*a\n"
     ]
    },
    {
     "data": {
      "text/plain": [
       "-25536"
      ]
     },
     "execution_count": 16,
     "metadata": {},
     "output_type": "execute_result"
    }
   ],
   "source": [
    "a = np.int16(200)\n",
    "a*a"
   ]
  },
  {
   "cell_type": "markdown",
   "metadata": {},
   "source": [
    "> 注意： numpy 的數值物件的運算速度比 python 的內建類型的運算速度慢很多，如果程式中需要大量地對單一數值運算，應當儘量避免使用 numpy 的數值物件。\n",
    "\n",
    "下面比較 python 內建的與 numpy 的雙精度浮點數值 `float64` 的乘法運算的速度："
   ]
  },
  {
   "cell_type": "code",
   "execution_count": 17,
   "metadata": {
    "collapsed": false
   },
   "outputs": [
    {
     "name": "stdout",
     "output_type": "stream",
     "text": [
      "35.7 ns ± 1.48 ns per loop (mean ± std. dev. of 7 runs, 10000000 loops each)\n",
      "65.3 ns ± 2.25 ns per loop (mean ± std. dev. of 7 runs, 10000000 loops each)\n"
     ]
    }
   ],
   "source": [
    "v1 = 3.14\n",
    "v2 = np.float64(v1)\n",
    "%timeit v1*v1\n",
    "%timeit v2*v2"
   ]
  },
  {
   "cell_type": "markdown",
   "metadata": {},
   "source": [
    "使用 `astype()` 方法可以對陣列的元素類型進行轉換，  \n",
    "下面將浮點數陣列 t1 轉為 32位元整數陣列，將雙精度的複數陣列 t2 轉換成單精度的複數陣列："
   ]
  },
  {
   "cell_type": "code",
   "execution_count": 18,
   "metadata": {
    "collapsed": false
   },
   "outputs": [],
   "source": [
    "t1 = np.array([1, 2, 3, 4], dtype=float)\n",
    "t2 = np.array([1, 2, 3, 4], dtype=complex)\n",
    "t3 = t1.astype(np.int32)\n",
    "t4 = t2.astype(np.complex64)"
   ]
  },
  {
   "cell_type": "markdown",
   "metadata": {},
   "source": [
    "### 自動產生陣列"
   ]
  },
  {
   "cell_type": "markdown",
   "metadata": {},
   "source": [
    "前面的實例都是先建立一個 python 的序列物件，然後透過 `np.array()` 將其轉為陣列，這樣做顯然效率不高。因此 numpy 提供了很多專門用於建立陣列的函數。下面的每個函數都有一些關鍵字參數，實際用法請檢視函數說明。\n",
    "\n",
    "`np.arange()` 類似內建函數 `range()` ，透過指定 `開始值`、`終值` 和 `步進值` 來建立表示等差數列的一維陣列，注意所得到的結果中不包含 `終值`。"
   ]
  },
  {
   "cell_type": "code",
   "execution_count": 19,
   "metadata": {
    "collapsed": false
   },
   "outputs": [
    {
     "data": {
      "text/plain": [
       "array([0. , 0.1, 0.2, 0.3, 0.4, 0.5, 0.6, 0.7, 0.8, 0.9])"
      ]
     },
     "execution_count": 19,
     "metadata": {},
     "output_type": "execute_result"
    }
   ],
   "source": [
    "np.arange(0, 1, 0.1)"
   ]
  },
  {
   "cell_type": "markdown",
   "metadata": {},
   "source": [
    "`np.linspane()` 透過指定 `開始值`、`終值`和`元素個數`來建立表示等差數列的一維陣列，可以透過 `endpoint` 參數指定是否包含 `終值`，預設值為 `True`，即包含 `終值`。"
   ]
  },
  {
   "cell_type": "code",
   "execution_count": 20,
   "metadata": {
    "collapsed": false
   },
   "outputs": [
    {
     "data": {
      "text/plain": [
       "array([0.        , 0.11111111, 0.22222222, 0.33333333, 0.44444444,\n",
       "       0.55555556, 0.66666667, 0.77777778, 0.88888889, 1.        ])"
      ]
     },
     "execution_count": 20,
     "metadata": {},
     "output_type": "execute_result"
    }
   ],
   "source": [
    "np.linspace(0, 1, 10) # 步長為1/9      # endpoint=True 表示包含 終值"
   ]
  },
  {
   "cell_type": "code",
   "execution_count": 21,
   "metadata": {
    "collapsed": false
   },
   "outputs": [
    {
     "data": {
      "text/plain": [
       "array([0. , 0.1, 0.2, 0.3, 0.4, 0.5, 0.6, 0.7, 0.8, 0.9])"
      ]
     },
     "execution_count": 21,
     "metadata": {},
     "output_type": "execute_result"
    }
   ],
   "source": [
    "np.linspace(0, 1, 10, endpoint=False) # 步長為1/10      # endpoint=False 表示不包含 終值"
   ]
  },
  {
   "cell_type": "markdown",
   "metadata": {},
   "source": [
    "`np.logspace()` 和 `np.linspace()` 類似，不過它所建立的陣列是等比數列。\n",
    "\n",
    "下面的實例產生從 $10^0$ ~ $10^2$ ，有 5 個元素的等比數列，注意起始值 0 表示 $10^0$，而終值 2 表示 $10^2$："
   ]
  },
  {
   "cell_type": "code",
   "execution_count": 22,
   "metadata": {
    "collapsed": false
   },
   "outputs": [
    {
     "data": {
      "text/plain": [
       "array([  1.        ,   3.16227766,  10.        ,  31.6227766 ,\n",
       "       100.        ])"
      ]
     },
     "execution_count": 22,
     "metadata": {},
     "output_type": "execute_result"
    }
   ],
   "source": [
    "np.logspace(0, 2, 5)"
   ]
  },
  {
   "cell_type": "markdown",
   "metadata": {},
   "source": [
    "基數可以透過 `base` 參數的指定，其預設值為 10。\n",
    "\n",
    "下面透過將 `base` 參數設定為 2，並設定 `endpoint` 參數為 False，建之一個比例為 $2^{1/12}$ 的等比陣列。"
   ]
  },
  {
   "cell_type": "code",
   "execution_count": 23,
   "metadata": {
    "collapsed": false
   },
   "outputs": [
    {
     "data": {
      "text/plain": [
       "array([1.        , 1.05946309, 1.12246205, 1.18920712, 1.25992105,\n",
       "       1.33483985, 1.41421356, 1.49830708, 1.58740105, 1.68179283,\n",
       "       1.78179744, 1.88774863])"
      ]
     },
     "execution_count": 23,
     "metadata": {},
     "output_type": "execute_result"
    }
   ],
   "source": [
    "np.logspace(0, 1, 12, base=2, endpoint=False)"
   ]
  },
  {
   "cell_type": "markdown",
   "metadata": {},
   "source": [
    "`np.zeros()`, `np.ones()`, `np.empty()` 可以建立指定形狀和類型的陣列。其中 `np.empty()` 只分配陣列所使用的記憶體，不對陣列元素進行初始化操作，因此它的執行速度是最快的。\n"
   ]
  },
  {
   "cell_type": "code",
   "execution_count": 24,
   "metadata": {
    "collapsed": false
   },
   "outputs": [
    {
     "data": {
      "text/plain": [
       "array([[         0,          0,          0],\n",
       "       [1071644672,          0, 1072693248]])"
      ]
     },
     "execution_count": 24,
     "metadata": {},
     "output_type": "execute_result"
    }
   ],
   "source": [
    "np.empty((2,3), np.int32)       # 其中的元素值沒有被初始化"
   ]
  },
  {
   "cell_type": "code",
   "execution_count": 25,
   "metadata": {
    "collapsed": false
   },
   "outputs": [
    {
     "data": {
      "text/plain": [
       "array([0, 0, 0, 0])"
      ]
     },
     "execution_count": 25,
     "metadata": {},
     "output_type": "execute_result"
    }
   ],
   "source": [
    "np.zeros(4, np.int32)       # 其中的元素值被初始化為 0"
   ]
  },
  {
   "cell_type": "code",
   "execution_count": 26,
   "metadata": {
    "collapsed": false
   },
   "outputs": [
    {
     "data": {
      "text/plain": [
       "array([3.14159265, 3.14159265, 3.14159265, 3.14159265])"
      ]
     },
     "execution_count": 26,
     "metadata": {},
     "output_type": "execute_result"
    }
   ],
   "source": [
    "np.full(4, np.pi)           # 其中的元素值被初始化為 pi"
   ]
  },
  {
   "cell_type": "markdown",
   "metadata": {},
   "source": [
    "此外，`np.zeros_like()`, `np.ones_like()`, `np.empty_like()`, `np.full_like()` 等函數建立與參數陣列的形狀和類型相同的陣列，因此 `np.zeros_like(a)` 和 `np.zeros(a.shape, a.dtype)` 的效果相同。"
   ]
  },
  {
   "cell_type": "markdown",
   "metadata": {},
   "source": [
    "`np.frombuffer()`, `np.fromstring()`, `np.fromfile()` 等函數可以從位元組序列或檔案建立陣列。\n",
    "\n",
    "下面以 `np.fromstring()` 為例介紹它們的用法"
   ]
  },
  {
   "cell_type": "code",
   "execution_count": 27,
   "metadata": {
    "collapsed": false
   },
   "outputs": [],
   "source": [
    "s = \"abcdefgh\""
   ]
  },
  {
   "cell_type": "markdown",
   "metadata": {},
   "source": [
    "python 的字串實際上是一個位元組序列，每個字元佔一個位元組。因此如果從字串 s 建立一個 8 位元的整數陣列，所得到的陣列正好就是字串中每個字元的 ASCII 編碼："
   ]
  },
  {
   "cell_type": "code",
   "execution_count": 28,
   "metadata": {
    "collapsed": false
   },
   "outputs": [
    {
     "name": "stderr",
     "output_type": "stream",
     "text": [
      "<ipython-input-28-f9e7abe56b2b>:1: DeprecationWarning: The binary mode of fromstring is deprecated, as it behaves surprisingly on unicode inputs. Use frombuffer instead\n",
      "  np.fromstring(s, dtype=np.int8)\n"
     ]
    },
    {
     "data": {
      "text/plain": [
       "array([ 97,  98,  99, 100, 101, 102, 103, 104], dtype=int8)"
      ]
     },
     "execution_count": 28,
     "metadata": {},
     "output_type": "execute_result"
    }
   ],
   "source": [
    "np.fromstring(s, dtype=np.int8)"
   ]
  },
  {
   "cell_type": "markdown",
   "metadata": {},
   "source": [
    "如果從字串 s 建立 16 位元的整數陣列，那麼兩個相鄰的位元就表示一個整數，把位元組 98 和位元組 97 當作一個 16 位元的整數，它的值就是 $98*256+97=25185$。\n",
    "\n",
    "可以看出，16位元的整數是以低位元組在前(little-endian)的方式儲存在記憶體中的。"
   ]
  },
  {
   "cell_type": "code",
   "execution_count": 29,
   "metadata": {
    "collapsed": false
   },
   "outputs": [
    {
     "name": "stdout",
     "output_type": "stream",
     "text": [
      "25185\n"
     ]
    },
    {
     "name": "stderr",
     "output_type": "stream",
     "text": [
      "<ipython-input-29-8e33713fb92e>:2: DeprecationWarning: The binary mode of fromstring is deprecated, as it behaves surprisingly on unicode inputs. Use frombuffer instead\n",
      "  np.fromstring(s, dtype=np.int16)\n"
     ]
    },
    {
     "data": {
      "text/plain": [
       "array([25185, 25699, 26213, 26727], dtype=int16)"
      ]
     },
     "execution_count": 29,
     "metadata": {},
     "output_type": "execute_result"
    }
   ],
   "source": [
    "print( 98*256+97 )\n",
    "np.fromstring(s, dtype=np.int16)"
   ]
  },
  {
   "cell_type": "markdown",
   "metadata": {},
   "source": [
    "如果把整個字串轉為一個 64 位元的雙精度浮點數陣列，那麼它的值是："
   ]
  },
  {
   "cell_type": "code",
   "execution_count": 30,
   "metadata": {
    "collapsed": false
   },
   "outputs": [
    {
     "name": "stderr",
     "output_type": "stream",
     "text": [
      "<ipython-input-30-04bfbf3987ca>:1: DeprecationWarning: The binary mode of fromstring is deprecated, as it behaves surprisingly on unicode inputs. Use frombuffer instead\n",
      "  np.fromstring(s, dtype=np.float64)\n"
     ]
    },
    {
     "data": {
      "text/plain": [
       "array([8.54088322e+194])"
      ]
     },
     "execution_count": 30,
     "metadata": {},
     "output_type": "execute_result"
    }
   ],
   "source": [
    "np.fromstring(s, dtype=np.float64)"
   ]
  },
  {
   "cell_type": "markdown",
   "metadata": {},
   "source": [
    "如果我們用 C 語言的二進位方式寫了一組 double 類型的數值到某個檔案中，那就可以從此檔案讀取對應的資料，並透過 `np.fromstring()` 將其轉為 float64 類型的陣列，或直接使用 `fromfile()` 從二進位檔案讀取資料。\n",
    "\n",
    "`np.fromstring()` 會對字串的位元組序列進行複製，而使用 `np.frombuffer()` 建立的陣列 **與原始字串共用記憶體**。由於字串是唯讀的，因此無法修改所建立的陣列的內容："
   ]
  },
  {
   "cell_type": "code",
   "execution_count": 31,
   "metadata": {
    "collapsed": false
   },
   "outputs": [
    {
     "ename": "ValueError",
     "evalue": "assignment destination is read-only",
     "output_type": "error",
     "traceback": [
      "\u001b[1;31m---------------------------------------------------------------------------\u001b[0m",
      "\u001b[1;31mValueError\u001b[0m                                Traceback (most recent call last)",
      "\u001b[1;32m<ipython-input-31-5387894f055a>\u001b[0m in \u001b[0;36m<module>\u001b[1;34m\u001b[0m\n\u001b[0;32m      1\u001b[0m \u001b[0mbuf\u001b[0m \u001b[1;33m=\u001b[0m \u001b[0mnp\u001b[0m\u001b[1;33m.\u001b[0m\u001b[0mfrombuffer\u001b[0m\u001b[1;33m(\u001b[0m\u001b[0ms\u001b[0m\u001b[1;33m.\u001b[0m\u001b[0mencode\u001b[0m\u001b[1;33m(\u001b[0m\u001b[1;33m)\u001b[0m\u001b[1;33m,\u001b[0m \u001b[0mdtype\u001b[0m\u001b[1;33m=\u001b[0m\u001b[0mnp\u001b[0m\u001b[1;33m.\u001b[0m\u001b[0mint16\u001b[0m\u001b[1;33m)\u001b[0m\u001b[1;33m\u001b[0m\u001b[1;33m\u001b[0m\u001b[0m\n\u001b[1;32m----> 2\u001b[1;33m \u001b[0mbuf\u001b[0m\u001b[1;33m[\u001b[0m\u001b[1;36m1\u001b[0m\u001b[1;33m]\u001b[0m \u001b[1;33m=\u001b[0m \u001b[1;36m10\u001b[0m\u001b[1;33m\u001b[0m\u001b[1;33m\u001b[0m\u001b[0m\n\u001b[0m",
      "\u001b[1;31mValueError\u001b[0m: assignment destination is read-only"
     ]
    }
   ],
   "source": [
    "buf = np.frombuffer(s.encode(), dtype=np.int16)\n",
    "buf[1] = 10"
   ]
  },
  {
   "cell_type": "markdown",
   "metadata": {},
   "source": [
    "python 中還有一些類型也支援 buffer 介面，例如 `bytearray()`, `array.array()` 等。\n",
    "\n",
    "還可以先定義一個從索引計算數值的函數，然後用 `np.fromfunction()` 透過此函數建立陣列："
   ]
  },
  {
   "cell_type": "code",
   "execution_count": 32,
   "metadata": {
    "collapsed": false
   },
   "outputs": [
    {
     "data": {
      "text/plain": [
       "array([1., 2., 3., 4., 1., 2., 3., 4., 1., 2.])"
      ]
     },
     "execution_count": 32,
     "metadata": {},
     "output_type": "execute_result"
    }
   ],
   "source": [
    "def func(i):\n",
    "    return i % 4 + 1\n",
    "\n",
    "np.fromfunction(func, (10,))"
   ]
  },
  {
   "cell_type": "markdown",
   "metadata": {},
   "source": [
    "`np.fromfunction()` 的第一個參數是計算每個陣列元素的函數，第二個參數指定陣列的形狀。因為它支援多維陣列，所以第二個參數必須是一個序列。\n",
    "\n",
    "上例中第二個參數是長度為 1 的元組`(10,)`，因此建立了一個有 10 個元素的一維陣列。\n",
    "\n",
    "下面的實例建立一個表示 九九乘法表 的二維陣列，輸出陣列 a 中的每個元素 `a[i,j]` 都等於 `func2(i,j)`："
   ]
  },
  {
   "cell_type": "code",
   "execution_count": 33,
   "metadata": {
    "collapsed": false
   },
   "outputs": [
    {
     "data": {
      "text/plain": [
       "array([[ 1.,  2.,  3.,  4.,  5.,  6.,  7.,  8.,  9.],\n",
       "       [ 2.,  4.,  6.,  8., 10., 12., 14., 16., 18.],\n",
       "       [ 3.,  6.,  9., 12., 15., 18., 21., 24., 27.],\n",
       "       [ 4.,  8., 12., 16., 20., 24., 28., 32., 36.],\n",
       "       [ 5., 10., 15., 20., 25., 30., 35., 40., 45.],\n",
       "       [ 6., 12., 18., 24., 30., 36., 42., 48., 54.],\n",
       "       [ 7., 14., 21., 28., 35., 42., 49., 56., 63.],\n",
       "       [ 8., 16., 24., 32., 40., 48., 56., 64., 72.],\n",
       "       [ 9., 18., 27., 36., 45., 54., 63., 72., 81.]])"
      ]
     },
     "execution_count": 33,
     "metadata": {},
     "output_type": "execute_result"
    }
   ],
   "source": [
    "def func2(i, j):\n",
    "    return (i + 1) * (j + 1)\n",
    "np.fromfunction(func2, (9,9))"
   ]
  },
  {
   "cell_type": "markdown",
   "metadata": {},
   "source": [
    "### 存取元素\n",
    "\n",
    "可以使用和清單相同的方式對陣列的元素進行存取："
   ]
  },
  {
   "cell_type": "code",
   "execution_count": 34,
   "metadata": {
    "collapsed": false
   },
   "outputs": [
    {
     "data": {
      "text/plain": [
       "array([0, 1, 2, 3, 4, 5, 6, 7, 8, 9])"
      ]
     },
     "execution_count": 34,
     "metadata": {},
     "output_type": "execute_result"
    }
   ],
   "source": [
    "a = np.arange(10)\n",
    "a"
   ]
  },
  {
   "cell_type": "markdown",
   "metadata": {},
   "source": [
    "- `a[5]`: 用整數作為索引可以取得陣列中的某個元素。\n",
    "- `a[3:5]`: 用切片作為索引取得陣列的一部分，包含 `a[3]` 但不包含 `a[5]`。\n",
    "- `a[:5]`: 切片中省略開始索引，表示從 `a[0]` 開始。\n",
    "- `a[:-1]`: 索引可以使用負數，表示從陣列最後往前數。"
   ]
  },
  {
   "cell_type": "code",
   "execution_count": 35,
   "metadata": {
    "collapsed": false
   },
   "outputs": [
    {
     "name": "stdout",
     "output_type": "stream",
     "text": [
      "a[5]    a[3:5]         a[:5]                    a[:-1]          \n",
      "----    ------    ---------------    ---------------------------\n",
      "5       [3, 4]    [0, 1, 2, 3, 4]    [0, 1, 2, 3, 4, 5, 6, 7, 8]\n"
     ]
    }
   ],
   "source": [
    "%C 4 a[5]; a[3:5]; a[:5]; a[:-1]"
   ]
  },
  {
   "cell_type": "markdown",
   "metadata": {},
   "source": [
    "- `a[1:-1:2]`: 切片中的第三個參數表示步進值，2表示隔一個元素取一個元素。\n",
    "- `a[::-1]`： 省略切片的開始索引和結束索引，步進值為 -1，整個陣列頭尾顛倒。\n",
    "- `a[5:1:-2]`: 步進值為負數時，開始索引必須大於結束索引。"
   ]
  },
  {
   "cell_type": "code",
   "execution_count": 36,
   "metadata": {
    "collapsed": false
   },
   "outputs": [
    {
     "name": "stdout",
     "output_type": "stream",
     "text": [
      " a[1:-1:2]                 a[::-1]                a[5:1:-2]\n",
      "------------    ------------------------------    ---------\n",
      "[1, 3, 5, 7]    [9, 8, 7, 6, 5, 4, 3, 2, 1, 0]    [5, 3]   \n"
     ]
    }
   ],
   "source": [
    "%C 4 a[1:-1:2]; a[::-1]; a[5:1:-2]"
   ]
  },
  {
   "cell_type": "markdown",
   "metadata": {},
   "source": [
    "索引還可以用來修改元素的值："
   ]
  },
  {
   "cell_type": "code",
   "execution_count": 37,
   "metadata": {
    "collapsed": false
   },
   "outputs": [
    {
     "data": {
      "text/plain": [
       "array([  0,   1, 100, 101,   4,   5,   6,   7,   8,   9])"
      ]
     },
     "execution_count": 37,
     "metadata": {},
     "output_type": "execute_result"
    }
   ],
   "source": [
    "a[2:4] = 100, 101\n",
    "a"
   ]
  },
  {
   "cell_type": "markdown",
   "metadata": {},
   "source": [
    "和列表不同的是，透過切片取得新的陣列是原始陣列的視圖。它與原始陣列共用同一塊資料儲存空間。\n",
    "\n",
    " 下面的程式將 b[2] 改為 -10，a[5]也同時被修改為 -10，因為它們在記憶體中的位址相同。"
   ]
  },
  {
   "cell_type": "code",
   "execution_count": 38,
   "metadata": {
    "collapsed": false
   },
   "outputs": [
    {
     "name": "stdout",
     "output_type": "stream",
     "text": [
      "         b                                    a                         \n",
      "--------------------  --------------------------------------------------\n",
      "[101,   4, -10,   6]  [  0,   1, 100, 101,   4, -10,   6,   7,   8,   9]\n"
     ]
    }
   ],
   "source": [
    "b = a[3:7] # 透過切片產生一個新的陣列b，b和a共享同一塊資料儲存空間\n",
    "b[2] = -10 # 將b的第2個元素修改為-10\n",
    "%C b; a"
   ]
  },
  {
   "cell_type": "markdown",
   "metadata": {},
   "source": [
    "除了使用切片索引存取元素之外， numpy 還提供了 整數清單、整數陣列、布林陣列等幾種進階索引存取方法。\n",
    "\n",
    "當使用整數清單對陣列元素進行存取時，將使用清單中的每個元素作為索引。**使用清單作為索引獲得的陣列不和原始陣列共用資料**："
   ]
  },
  {
   "cell_type": "code",
   "execution_count": 39,
   "metadata": {
    "collapsed": false
   },
   "outputs": [
    {
     "data": {
      "text/plain": [
       "array([10,  9,  8,  7,  6,  5,  4,  3,  2])"
      ]
     },
     "execution_count": 39,
     "metadata": {},
     "output_type": "execute_result"
    }
   ],
   "source": [
    "x = np.arange(10, 1, -1)\n",
    "x"
   ]
  },
  {
   "cell_type": "markdown",
   "metadata": {},
   "source": [
    "- x[[3,3,1,8]]：取得 x 中的索引為 3, 3, 1, 8 的 4 個元素，組成一個新的陣列。\n",
    "- x[[3,3,-3,8]]：索引可以是負數，-3表示取倒數第 3 個元素。(從 1 開始計數)。"
   ]
  },
  {
   "cell_type": "code",
   "execution_count": 40,
   "metadata": {
    "collapsed": false
   },
   "outputs": [
    {
     "name": "stdout",
     "output_type": "stream",
     "text": [
      "     a             b      \n",
      "------------  ------------\n",
      "[7, 7, 9, 2]  [7, 7, 4, 2]\n"
     ]
    }
   ],
   "source": [
    "a = x[[3, 3, 1, 8]]\n",
    "b = x[[3, 3, -3, 8]]\n",
    "%C a; b"
   ]
  },
  {
   "cell_type": "markdown",
   "metadata": {},
   "source": [
    "下面修改 b[2] 的值，但是由於它和 x 不共用記憶體，因此 x 的值不變："
   ]
  },
  {
   "cell_type": "code",
   "execution_count": 41,
   "metadata": {
    "collapsed": false
   },
   "outputs": [
    {
     "name": "stdout",
     "output_type": "stream",
     "text": [
      "         b                             x                  \n",
      "--------------------  ------------------------------------\n",
      "[  7,   7, 100,   2]  [10,  9,  8,  7,  6,  5,  4,  3,  2]\n"
     ]
    }
   ],
   "source": [
    "b[2] = 100\n",
    "%C b; x"
   ]
  },
  {
   "cell_type": "markdown",
   "metadata": {},
   "source": [
    "整數序列索引也可以用來修改元素的值："
   ]
  },
  {
   "cell_type": "code",
   "execution_count": 42,
   "metadata": {
    "collapsed": false
   },
   "outputs": [
    {
     "data": {
      "text/plain": [
       "array([10, -3,  8, -1,  6, -2,  4,  3,  2])"
      ]
     },
     "execution_count": 42,
     "metadata": {},
     "output_type": "execute_result"
    }
   ],
   "source": [
    "x[[3,5,1]] = -1, -2, -3\n",
    "x"
   ]
  },
  {
   "cell_type": "markdown",
   "metadata": {},
   "source": [
    "當使用整數陣列作為陣列索引時，將獲得一個形狀和索引陣列相同的新陣列。"
   ]
  },
  {
   "cell_type": "code",
   "execution_count": 43,
   "metadata": {
    "collapsed": false
   },
   "outputs": [
    {
     "data": {
      "text/plain": [
       "array([7, 7, 9, 2])"
      ]
     },
     "execution_count": 43,
     "metadata": {},
     "output_type": "execute_result"
    }
   ],
   "source": [
    "x = np.arange(10,1,-1)\n",
    "x[np.array([3,3,1,8])] "
   ]
  },
  {
   "cell_type": "markdown",
   "metadata": {},
   "source": [
    "當索引是多維陣列時，獲得的也是多維陣列："
   ]
  },
  {
   "cell_type": "code",
   "execution_count": 44,
   "metadata": {
    "collapsed": false
   },
   "outputs": [
    {
     "data": {
      "text/plain": [
       "array([[7, 7, 9, 2],\n",
       "       [7, 7, 4, 2]])"
      ]
     },
     "execution_count": 44,
     "metadata": {},
     "output_type": "execute_result"
    }
   ],
   "source": [
    "x[np.array([[3,3,1,8],[3,3,-3,8]])] "
   ]
  },
  {
   "cell_type": "markdown",
   "metadata": {},
   "source": [
    "可以將上述操作了解為：  \n",
    "先將索引陣列展平為一維陣列，並作為索引獲得一個新的一維陣列，然後將其形狀修改為索引陣列的形狀。"
   ]
  },
  {
   "cell_type": "code",
   "execution_count": 45,
   "metadata": {
    "collapsed": false
   },
   "outputs": [
    {
     "data": {
      "text/plain": [
       "array([[7, 7, 9, 2],\n",
       "       [7, 7, 4, 2]])"
      ]
     },
     "execution_count": 45,
     "metadata": {},
     "output_type": "execute_result"
    }
   ],
   "source": [
    "x[[3,3,1,8,3,3,-3,8]].reshape(2,4) # 改變陣列形狀"
   ]
  },
  {
   "cell_type": "markdown",
   "metadata": {},
   "source": [
    "當使用 `布林陣列` b 作為索引存取陣列 x 中的元素時，將獲得陣列 x 中與陣列 b 中 True 對應的元素。\n",
    "\n",
    "使用 `布林陣列` 作為索引獲得的陣列不和原始陣列共用資料記憶體，注意，這種方式只對應於 布林陣列，不能使用 `布林清單`。"
   ]
  },
  {
   "cell_type": "code",
   "execution_count": 46,
   "metadata": {
    "collapsed": false
   },
   "outputs": [
    {
     "data": {
      "text/plain": [
       "array([5, 4, 3, 2, 1])"
      ]
     },
     "execution_count": 46,
     "metadata": {},
     "output_type": "execute_result"
    }
   ],
   "source": [
    "x = np.arange(5,0,-1)\n",
    "x"
   ]
  },
  {
   "cell_type": "markdown",
   "metadata": {},
   "source": [
    "`布林陣列` 中索引為 0,2 的元素為 True，因此取得 x 中索引為 0,2 的元素："
   ]
  },
  {
   "cell_type": "code",
   "execution_count": 47,
   "metadata": {
    "collapsed": false
   },
   "outputs": [
    {
     "data": {
      "text/plain": [
       "array([5, 3])"
      ]
     },
     "execution_count": 47,
     "metadata": {},
     "output_type": "execute_result"
    }
   ],
   "source": [
    "x[np.array([True, False, True, False, False])] "
   ]
  },
  {
   "cell_type": "markdown",
   "metadata": {},
   "source": [
    "如果是 `布林列表`，就把 Ture 當作 1，False當作 0，按照整數序列方式取得 x 中的元素："
   ]
  },
  {
   "cell_type": "code",
   "execution_count": 48,
   "metadata": {
    "collapsed": false
   },
   "outputs": [
    {
     "data": {
      "text/plain": [
       "array([5, 3])"
      ]
     },
     "execution_count": 48,
     "metadata": {},
     "output_type": "execute_result"
    }
   ],
   "source": [
    "x[[True, False, True, False, False]] "
   ]
  },
  {
   "cell_type": "markdown",
   "metadata": {},
   "source": [
    "> **WARNING**  \n",
    "> 在NumPy 1.10之後的版本中布爾清單會被當作布爾陣列，因此上面的執行結果會變成`array([5, 3])`。"
   ]
  },
  {
   "cell_type": "markdown",
   "metadata": {},
   "source": [
    "布林陣列 的長度不夠時，不夠的部分都當作 False：\n",
    "\n",
    "> numpy 新版，如果布林陣列跟陣列的長度不同時，會顯示 `IndexError`"
   ]
  },
  {
   "cell_type": "code",
   "execution_count": 49,
   "metadata": {
    "collapsed": false
   },
   "outputs": [
    {
     "ename": "IndexError",
     "evalue": "boolean index did not match indexed array along dimension 0; dimension is 5 but corresponding boolean dimension is 4",
     "output_type": "error",
     "traceback": [
      "\u001b[1;31m---------------------------------------------------------------------------\u001b[0m",
      "\u001b[1;31mIndexError\u001b[0m                                Traceback (most recent call last)",
      "\u001b[1;32m<ipython-input-49-de4c2f1c4736>\u001b[0m in \u001b[0;36m<module>\u001b[1;34m\u001b[0m\n\u001b[1;32m----> 1\u001b[1;33m \u001b[0mx\u001b[0m\u001b[1;33m[\u001b[0m\u001b[0mnp\u001b[0m\u001b[1;33m.\u001b[0m\u001b[0marray\u001b[0m\u001b[1;33m(\u001b[0m\u001b[1;33m[\u001b[0m\u001b[1;32mTrue\u001b[0m\u001b[1;33m,\u001b[0m \u001b[1;32mFalse\u001b[0m\u001b[1;33m,\u001b[0m \u001b[1;32mTrue\u001b[0m\u001b[1;33m,\u001b[0m \u001b[1;32mTrue\u001b[0m\u001b[1;33m]\u001b[0m\u001b[1;33m)\u001b[0m\u001b[1;33m]\u001b[0m\u001b[1;33m\u001b[0m\u001b[1;33m\u001b[0m\u001b[0m\n\u001b[0m",
      "\u001b[1;31mIndexError\u001b[0m: boolean index did not match indexed array along dimension 0; dimension is 5 but corresponding boolean dimension is 4"
     ]
    }
   ],
   "source": [
    "x[np.array([True, False, True, True])] "
   ]
  },
  {
   "cell_type": "markdown",
   "metadata": {},
   "source": [
    "布林陣列 的索引也可以用來修改元素："
   ]
  },
  {
   "cell_type": "code",
   "execution_count": 50,
   "metadata": {
    "collapsed": false
   },
   "outputs": [
    {
     "data": {
      "text/plain": [
       "array([-1,  4, -2, -3,  1])"
      ]
     },
     "execution_count": 50,
     "metadata": {},
     "output_type": "execute_result"
    }
   ],
   "source": [
    "x[np.array([True, False, True, True, False])] = -1, -2, -3 \n",
    "x"
   ]
  },
  {
   "cell_type": "markdown",
   "metadata": {},
   "source": [
    "布林陣列 一般不是手動產生，而是使用布林運算的 `ufunc` 函數產生（下一節介紹）。\n",
    "\n",
    "簡單的實例說明布林陣列索引的用法："
   ]
  },
  {
   "cell_type": "code",
   "execution_count": 51,
   "metadata": {
    "collapsed": false
   },
   "outputs": [
    {
     "name": "stdout",
     "output_type": "stream",
     "text": [
      "        x                             x > 5                   \n",
      "------------------  ------------------------------------------\n",
      "[6, 1, 6, 4, 4, 5]  [ True, False,  True, False, False, False]\n"
     ]
    }
   ],
   "source": [
    "x = np.random.randint(0, 10, 6) # 產生一個長度為 6，元素值為 0 到 9 的隨機整數群組\n",
    "%C x; x > 5"
   ]
  },
  {
   "cell_type": "markdown",
   "metadata": {},
   "source": [
    "運算式 `x > 5` 將陣列 x 中的每個元素和 5 進行大小比較，獲得一個布林陣列，True 表示 x 中對應的值大於 5 。\n",
    "\n",
    "我們可以使用 `x > 5` 所得到的布林陣列收集 x 中所有大於 5 的數值："
   ]
  },
  {
   "cell_type": "code",
   "execution_count": 52,
   "metadata": {
    "collapsed": false
   },
   "outputs": [
    {
     "data": {
      "text/plain": [
       "array([6, 6])"
      ]
     },
     "execution_count": 52,
     "metadata": {},
     "output_type": "execute_result"
    }
   ],
   "source": [
    "x[x > 5]"
   ]
  },
  {
   "cell_type": "markdown",
   "metadata": {},
   "source": [
    "### 多維陣列\n",
    "\n",
    "多維陣列的存取和一維陣列類似，因為多維陣列有多個軸，所以它的索引需要用多個值來表示。\n",
    "\n",
    "numpy 採用元組作為陣列的索引，元組中的每個元素和陣列的每個軸對應。圖2-1 顯示了一個 `shape` 為 (6,6) 的陣列 a，圖中用不同顏色和線型標出各個索引所對應的選擇域。\n",
    "\n",
    "\n",
    "![](2022-03-17-16-55-39.png)\n",
    "\n",
    "圖2-1 使用陣列切片語法存取多維陣列中的元素"
   ]
  },
  {
   "cell_type": "code",
   "execution_count": 53,
   "metadata": {
    "collapsed": false
   },
   "outputs": [
    {
     "data": {
      "text/plain": [
       "array([[ 0,  1,  2,  3,  4,  5],\n",
       "       [10, 11, 12, 13, 14, 15],\n",
       "       [20, 21, 22, 23, 24, 25],\n",
       "       [30, 31, 32, 33, 34, 35],\n",
       "       [40, 41, 42, 43, 44, 45],\n",
       "       [50, 51, 52, 53, 54, 55]])"
      ]
     },
     "execution_count": 53,
     "metadata": {},
     "output_type": "execute_result"
    }
   ],
   "source": [
    "a = np.arange(0, 60, 10).reshape(-1, 1) + np.arange(0, 6)\n",
    "a"
   ]
  },
  {
   "cell_type": "markdown",
   "metadata": {},
   "source": [
    "圖2-1 中的索引都是有兩個元素的元組，其中的第 0 個元素與陣列的第 0 軸(縱軸)對應，而第 1 個元素與陣列的第 1 軸(橫軸)對應。下面是圖中各種多維陣列切片的運算結果："
   ]
  },
  {
   "cell_type": "code",
   "execution_count": 54,
   "metadata": {
    "collapsed": false
   },
   "outputs": [
    {
     "name": "stdout",
     "output_type": "stream",
     "text": [
      "a[0, 3:5]  a[4:, 4:]           a[:, 2]            a[2::2, ::2] \n",
      "---------  ----------  ------------------------  --------------\n",
      "[3, 4]     [[44, 45],  [ 2, 12, 22, 32, 42, 52]  [[20, 22, 24],\n",
      "            [54, 55]]                             [40, 42, 44]]\n"
     ]
    }
   ],
   "source": [
    "%C a[0, 3:5]; a[4:, 4:]; a[:, 2]; a[2::2, ::2]"
   ]
  },
  {
   "cell_type": "markdown",
   "metadata": {},
   "source": [
    "如果索引元組中只包含整數和切片，那麼獲得的陣列和原始陣列共用資料。它是原陣列的視圖。\n",
    "\n",
    "下面的實例中，陣列 b 是 a 的視圖，它們共用資料。"
   ]
  },
  {
   "cell_type": "code",
   "execution_count": 55,
   "metadata": {
    "collapsed": false
   },
   "outputs": [
    {
     "data": {
      "text/plain": [
       "array([-3,  4])"
      ]
     },
     "execution_count": 55,
     "metadata": {},
     "output_type": "execute_result"
    }
   ],
   "source": [
    "b = a[0, 3:5]\n",
    "b[0] = -b[0]\n",
    "a[0, 3:5]"
   ]
  },
  {
   "cell_type": "markdown",
   "metadata": {},
   "source": [
    "因為陣列的索引是一個元組，所以我們可以將 索引元組 儲存起來，用同一個元組存取多個陣列。"
   ]
  },
  {
   "cell_type": "code",
   "execution_count": 56,
   "metadata": {
    "collapsed": false
   },
   "outputs": [
    {
     "name": "stdout",
     "output_type": "stream",
     "text": [
      "      a[idx]        a[idx][idx]\n",
      "------------------  -----------\n",
      "[[ 2, -3,  4,  5],  [[ 4,  5], \n",
      " [22, 23, 24, 25],   [44, 45]] \n",
      " [42, 43, 44, 45]]             \n"
     ]
    }
   ],
   "source": [
    "idx = slice(None, None, 2), slice(2,None)\n",
    "%C a[idx]; a[idx][idx]"
   ]
  },
  {
   "cell_type": "markdown",
   "metadata": {},
   "source": [
    "> `切片(slice)物件`  \n",
    "> 根據 python 的語法，在 `[]` 中可以使用以冒號(`:`)隔開的兩個或三個整數表示切片，但是單獨產生切片物件時需要使用 `slice()` 來建立。它有三個參數，分別為 `開始值`, `結束值`, `間隔步進值`，當這些值需要省略時可以使用 `None` 。舉例來說，`a[slice(None, None, None), 2]` 和 `a[:,2]` 相同。"
   ]
  },
  {
   "cell_type": "markdown",
   "metadata": {},
   "source": [
    "用 python 的內建函數 `slice()` 建立索引比較麻煩，因此 numpy 提供了一個 `s_` 物件來幫助我們建立陣列索引，請注意 `s_` 實際上是 `IndexExpression` 類別的物件。"
   ]
  },
  {
   "cell_type": "code",
   "execution_count": 57,
   "metadata": {
    "collapsed": false
   },
   "outputs": [
    {
     "data": {
      "text/plain": [
       "(slice(None, None, 2), slice(2, None, None))"
      ]
     },
     "execution_count": 57,
     "metadata": {},
     "output_type": "execute_result"
    }
   ],
   "source": [
    "np.s_[::2, 2:]"
   ]
  },
  {
   "cell_type": "markdown",
   "metadata": {},
   "source": [
    "> `s_` 為什麼不是函數  \n",
    "> 根據 python 的語法，只有在中括號 `[]` 中才能使用以冒號(`:`)隔開的切片語法，如果 `s_` 是函數，那麼這些切片必須使用 `slice()` 建立。類似的物件還有 `mgrid` 和 `ogrid` 等，後面會說。\n",
    "> python 的索引語法實際上會呼叫 `__getitem__()` 方法，因此我們可以很容易自己實現 `s_` 物件的功能：\n",
    "> ```python\n",
    "> class S(object):\n",
    ">     def __getitem__(self, index):\n",
    ">         return index\n",
    "> ```"
   ]
  },
  {
   "cell_type": "markdown",
   "metadata": {},
   "source": [
    "在多維陣列的索引元組中，也可以使用整數元組或清單、整數陣列和布林陣列，如圖2-2 所示。當索引中使用這些物件時，所獲得的資料是原始資料的備份，因此修改結果陣列不會改變原始陣列。\n",
    "\n",
    "![](2022-03-17-17-41-05.png)\n",
    "\n",
    "圖2-2 使用整數序列和布林陣列存取多維陣列中的元素\n",
    "\n",
    "在 `a[(0,1,2,3),(1,2,3,4)]` 中，索引仍然是一個有兩個元素的元組，元組中的每個元素都是一個整數元組，分別對應陣列的第0軸和第1軸。從兩個序列的對應位置取出兩個整數組成索引，於是獲得的結果是：`a[0,1], a[1,2], a[2,3], a[3,4]`。"
   ]
  },
  {
   "cell_type": "code",
   "execution_count": 58,
   "metadata": {
    "collapsed": false
   },
   "outputs": [
    {
     "data": {
      "text/plain": [
       "array([ 1, 12, 23, 34])"
      ]
     },
     "execution_count": 58,
     "metadata": {},
     "output_type": "execute_result"
    }
   ],
   "source": [
    "a[(0,1,2,3),(1,2,3,4)]"
   ]
  },
  {
   "cell_type": "markdown",
   "metadata": {},
   "source": [
    "在 `a[3:, [0,2,5]]` 中，第 0 軸的索引是一個切片物件，它選取第 3 行之後的所有行；第1軸的索引是一個整數，它選取第2列。"
   ]
  },
  {
   "cell_type": "code",
   "execution_count": 59,
   "metadata": {
    "collapsed": false
   },
   "outputs": [
    {
     "data": {
      "text/plain": [
       "array([[30, 32, 35],\n",
       "       [40, 42, 45],\n",
       "       [50, 52, 55]])"
      ]
     },
     "execution_count": 59,
     "metadata": {},
     "output_type": "execute_result"
    }
   ],
   "source": [
    "a[3:, [0,2,5]]"
   ]
  },
  {
   "cell_type": "markdown",
   "metadata": {},
   "source": [
    "在 `a[mask,2]` 中，第0軸的索引是一個布林陣列，它選取第0、第2和第5行；第1軸的索引是一個整數，它選取第2列。"
   ]
  },
  {
   "cell_type": "code",
   "execution_count": 60,
   "metadata": {
    "collapsed": false
   },
   "outputs": [
    {
     "data": {
      "text/plain": [
       "array([ 2, 22, 52])"
      ]
     },
     "execution_count": 60,
     "metadata": {},
     "output_type": "execute_result"
    }
   ],
   "source": [
    "mask = np.array([1,0,1,0,0,1], dtype=np.bool_)\n",
    "a[mask, 2]"
   ]
  },
  {
   "cell_type": "markdown",
   "metadata": {},
   "source": [
    "注意，如果 `mask` 不是布林陣列而是整數陣列、清單 或 元組，就按照以整數陣列作為索引的方式進行運算："
   ]
  },
  {
   "cell_type": "code",
   "execution_count": 61,
   "metadata": {
    "collapsed": false
   },
   "outputs": [
    {
     "name": "stdout",
     "output_type": "stream",
     "text": [
      "      a[mask1, 2]         a[mask2, 2] \n",
      "------------------------  ------------\n",
      "[12,  2, 12,  2,  2, 12]  [ 2, 22, 52]\n"
     ]
    }
   ],
   "source": [
    "mask1 = np.array([1,0,1,0,0,1])\n",
    "mask2 = [True,False,True,False,False,True]\n",
    "%C a[mask1, 2]; a[mask2, 2]"
   ]
  },
  {
   "cell_type": "markdown",
   "metadata": {},
   "source": [
    "當索引的長度小於陣列的維數時，剩餘的各軸所對應的索引是`\":\"` ，即選取它們的所有資料："
   ]
  },
  {
   "cell_type": "code",
   "execution_count": 62,
   "metadata": {
    "collapsed": false
   },
   "outputs": [
    {
     "name": "stdout",
     "output_type": "stream",
     "text": [
      "        a[[1,2],:]                   a[[1,2]]         \n",
      "--------------------------  --------------------------\n",
      "[[10, 11, 12, 13, 14, 15],  [[10, 11, 12, 13, 14, 15],\n",
      " [20, 21, 22, 23, 24, 25]]   [20, 21, 22, 23, 24, 25]]\n"
     ]
    }
   ],
   "source": [
    "%C a[[1,2],:]; a[[1,2]]"
   ]
  },
  {
   "cell_type": "markdown",
   "metadata": {},
   "source": [
    "當所有軸都用形狀相同的整數陣列作為索引時，獲得的陣列和索引陣列的形狀相同："
   ]
  },
  {
   "cell_type": "code",
   "execution_count": 63,
   "metadata": {
    "collapsed": false
   },
   "outputs": [
    {
     "data": {
      "text/plain": [
       "array([[ 5, 14],\n",
       "       [23, 32]])"
      ]
     },
     "execution_count": 63,
     "metadata": {},
     "output_type": "execute_result"
    }
   ],
   "source": [
    "x = np.array([[0,1],[2,3]])\n",
    "y = np.array([[-1,-2],[-3,-4]])\n",
    "a[x,y]"
   ]
  },
  {
   "cell_type": "markdown",
   "metadata": {},
   "source": [
    "效果和下面的程式相同："
   ]
  },
  {
   "cell_type": "code",
   "execution_count": 64,
   "metadata": {
    "collapsed": false
   },
   "outputs": [
    {
     "data": {
      "text/plain": [
       "array([[ 5, 14],\n",
       "       [23, 32]])"
      ]
     },
     "execution_count": 64,
     "metadata": {},
     "output_type": "execute_result"
    }
   ],
   "source": [
    "a[(0,1,2,3),(-1,-2,-3,-4)].reshape(2,2)"
   ]
  },
  {
   "cell_type": "markdown",
   "metadata": {},
   "source": [
    "當沒有指定第1軸的索引時，使用`\":\"` 作為索引，因此獲得了一個 3D 陣列："
   ]
  },
  {
   "cell_type": "code",
   "execution_count": 65,
   "metadata": {
    "collapsed": false
   },
   "outputs": [
    {
     "data": {
      "text/plain": [
       "array([[[ 0,  1,  2, -3,  4,  5],\n",
       "        [10, 11, 12, 13, 14, 15]],\n",
       "\n",
       "       [[20, 21, 22, 23, 24, 25],\n",
       "        [30, 31, 32, 33, 34, 35]]])"
      ]
     },
     "execution_count": 65,
     "metadata": {},
     "output_type": "execute_result"
    }
   ],
   "source": [
    "a[x]"
   ]
  },
  {
   "cell_type": "markdown",
   "metadata": {},
   "source": [
    "可以使用這種以整數陣列作為索引的方式快速取代陣列中的每個元素，例如有一個表示索引影像的陣列 image，以及一個色票面板陣列 palette，則 `palette[image]` 可以獲得透過色票面板著色之後的彩色影像："
   ]
  },
  {
   "cell_type": "code",
   "execution_count": 66,
   "metadata": {
    "collapsed": false
   },
   "outputs": [
    {
     "data": {
      "text/plain": [
       "array([[[  0,   0,   0],\n",
       "        [255,   0,   0],\n",
       "        [  0, 255,   0],\n",
       "        [  0,   0,   0]],\n",
       "\n",
       "       [[  0,   0,   0],\n",
       "        [  0,   0, 255],\n",
       "        [255, 255, 255],\n",
       "        [  0,   0,   0]]])"
      ]
     },
     "execution_count": 66,
     "metadata": {},
     "output_type": "execute_result"
    }
   ],
   "source": [
    "palette = np.array( [ [0,0,0],                \n",
    "                      [255,0,0],              \n",
    "                      [0,255,0],              \n",
    "                      [0,0,255],              \n",
    "                      [255,255,255] ] )       \n",
    "image = np.array( [ [ 0, 1, 2, 0 ],           \n",
    "                    [ 0, 3, 4, 0 ]  ] )\n",
    "palette[image]"
   ]
  },
  {
   "cell_type": "markdown",
   "metadata": {},
   "source": [
    "### 結構陣列\n",
    "\n",
    "在 C 語言口我們可以透過 `struct` 關鍵字定義結構類型，結構中的欄位佔據連續的記憶體空間。類型相同的兩個結構所佔用的記憶體大小相同，因此可以很容易定義結構陣列。和 C 語言一樣，在 numpy 中也很容易對這種結構陣列操作。只要 numpy 中的結構定義和 C 語言中的結構定義相同，就可以很方便地讀取 C 語言的結構陣列的二進位資料，將其轉為 numpy 的結構陣列。\n",
    "\n",
    "假設我們需要定義一個結構陣列，它的每個元素都有 image, age, weight 欄位。在 numpy 中可以以下定義："
   ]
  },
  {
   "cell_type": "code",
   "execution_count": 67,
   "metadata": {
    "collapsed": false
   },
   "outputs": [],
   "source": [
    "persontype = np.dtype({ #❶\n",
    "    'names':['name', 'age', 'weight'],\n",
    "    'formats':['S30','i', 'f']}, align=True)\n",
    "a = np.array([(\"Zhang\", 32, 75.5), (\"Wang\", 24, 65.2)], #❷\n",
    "    dtype=persontype)"
   ]
  },
  {
   "cell_type": "markdown",
   "metadata": {},
   "source": [
    "❶ 我們先建立一個 `dtype物件` persontype ，它的參數是一個描述結構類型的各個欄位的字典。字典有兩個：'names' 和 'formats'。每個鍵對應的值都是一個列表。'names' 定義結構中每個欄位的名稱，而 'formats'則定義每個欄位的類型。這裡我們使用類型字串定義欄位類型：\n",
    "\n",
    "- `'S30'`：長度為30個位元組的的字串類型，由於結構中的每個元素的大小必須固定，因此需要指定字串的長度。\n",
    "- `'i'`：32位元的整數類型，相當於 `np.int32`。\n",
    "- `'f'`：32位元的單精度浮點數類型，相當於 `np.float32`。\n",
    "\n",
    "❷ 然後呼叫 `np.array()` 以建立陣列，透過 `dtype` 參數指定所建立的陣列的元素類型為 persontype。下面檢視陣列 a 的元素類型：\n"
   ]
  },
  {
   "cell_type": "code",
   "execution_count": 68,
   "metadata": {
    "collapsed": false
   },
   "outputs": [
    {
     "data": {
      "text/plain": [
       "dtype({'names': ['name', 'age', 'weight'], 'formats': ['S30', '<i4', '<f4'], 'offsets': [0, 32, 36], 'itemsize': 40}, align=True)"
      ]
     },
     "execution_count": 68,
     "metadata": {},
     "output_type": "execute_result"
    }
   ],
   "source": [
    "a.dtype"
   ]
  },
  {
   "cell_type": "markdown",
   "metadata": {},
   "source": [
    "還可以用包含多個元組的清單來描述結構的類型：\n",
    "```python\n",
    "dtype([('name', '|S30'), ('age', '<i4'), ('weight', '<f4')])\n",
    "```\n",
    "其中形如 `(欄位名稱, 類型描述)` 的元組描述了結構中的每個欄位。類型字串前面的 `'|'`, `'<'`, `'>'`等字元表示欄位值的位元組順序：\n",
    "- `|`：忽視位元組順序。\n",
    "- `<`：低位 位元組在前，即小端模式(little endian)。\n",
    "- `>`：高位 位元組在前，即大端模式(big endian)。\n",
    "\n",
    "結構陣列的存取方式和一般陣列相同，透過索引能夠取得其中的元素，注意元素的值看上去像是元組，實際上是結構："
   ]
  },
  {
   "cell_type": "code",
   "execution_count": 69,
   "metadata": {
    "collapsed": false
   },
   "outputs": [
    {
     "name": "stdout",
     "output_type": "stream",
     "text": [
      "(b'Zhang', 32, 75.5)\n"
     ]
    },
    {
     "data": {
      "text/plain": [
       "dtype({'names': ['name', 'age', 'weight'], 'formats': ['S30', '<i4', '<f4'], 'offsets': [0, 32, 36], 'itemsize': 40}, align=True)"
      ]
     },
     "execution_count": 69,
     "metadata": {},
     "output_type": "execute_result"
    }
   ],
   "source": [
    "print( a[0] )\n",
    "a[0].dtype"
   ]
  },
  {
   "cell_type": "markdown",
   "metadata": {},
   "source": [
    "我們可以使用欄位名稱作為索引取得對應的欄位值："
   ]
  },
  {
   "cell_type": "code",
   "execution_count": 70,
   "metadata": {
    "collapsed": false
   },
   "outputs": [
    {
     "data": {
      "text/plain": [
       "b'Zhang'"
      ]
     },
     "execution_count": 70,
     "metadata": {},
     "output_type": "execute_result"
    }
   ],
   "source": [
    "a[0][\"name\"]"
   ]
  },
  {
   "cell_type": "markdown",
   "metadata": {},
   "source": [
    "`a[0]` 是一個結構元素，它和陣列 a 共用記憶體資料，因此可以透過修改它的欄位來改變原始陣列中對應元素的欄位："
   ]
  },
  {
   "cell_type": "code",
   "execution_count": 71,
   "metadata": {
    "collapsed": false
   },
   "outputs": [
    {
     "data": {
      "text/plain": [
       "b'Li'"
      ]
     },
     "execution_count": 71,
     "metadata": {},
     "output_type": "execute_result"
    }
   ],
   "source": [
    "c = a[1]\n",
    "c[\"name\"] = \"Li\"\n",
    "a[1][\"name\"]"
   ]
  },
  {
   "cell_type": "markdown",
   "metadata": {},
   "source": [
    "我們不但可以獲得結構元素的某個欄位，而且可以直接獲得結構陣列的欄位，傳回的是原始陣列的視圖，因此可以透過修改 `a[0]['age']`："
   ]
  },
  {
   "cell_type": "code",
   "execution_count": 73,
   "metadata": {
    "collapsed": false
   },
   "outputs": [
    {
     "name": "stdout",
     "output_type": "stream",
     "text": [
      "40\n"
     ]
    }
   ],
   "source": [
    "b=a[\"age\"]\n",
    "b[0] = 40\n",
    "print( a[0][\"age\"] )"
   ]
  },
  {
   "cell_type": "markdown",
   "metadata": {},
   "source": [
    "透過 `a.tostring()` 或 `a.tofile()` 方法，可以將陣列 a 以二進位的方式轉換成字串或寫入檔案："
   ]
  },
  {
   "cell_type": "code",
   "execution_count": 74,
   "metadata": {
    "collapsed": false
   },
   "outputs": [],
   "source": [
    "a.tofile(\"test.bin\")"
   ]
  },
  {
   "cell_type": "markdown",
   "metadata": {},
   "source": [
    "利用下面的 C 語言程式可以將 test.bin 檔案中的資料讀取出來。`%%file` 為 IPython 的魔法指令，它將該儲存格中的文字儲存成檑案 read_struct_array.c："
   ]
  },
  {
   "cell_type": "code",
   "execution_count": 75,
   "metadata": {
    "collapsed": false
   },
   "outputs": [
    {
     "name": "stdout",
     "output_type": "stream",
     "text": [
      "Overwriting read_struct_array.c\n"
     ]
    }
   ],
   "source": [
    "%%file read_struct_array.c\n",
    "#include <stdio.h>\n",
    "\n",
    "struct person \n",
    "{\n",
    "    char name[30];\n",
    "    int age;\n",
    "    float weight;\n",
    "};\n",
    "\n",
    "struct person p[3];\n",
    "\n",
    "void main ()\n",
    "{\n",
    "    FILE *fp;\n",
    "    int i;\n",
    "    fp=fopen(\"test.bin\",\"rb\");\n",
    "    fread(p, sizeof(struct person), 2, fp);\n",
    "    fclose(fp);\n",
    "    for(i=0;i<2;i++)\n",
    "    {\n",
    "        printf(\"%s %d %f\\n\", p[i].name, p[i].age, p[i].weight);\n",
    "    }\n",
    "}"
   ]
  },
  {
   "cell_type": "markdown",
   "metadata": {},
   "source": [
    "在 IPython 中可以透過 `!` 執行系統指令，下面呼叫 `gcc` 編譯前面的 C 語言程式並執行："
   ]
  },
  {
   "cell_type": "code",
   "execution_count": 76,
   "metadata": {
    "collapsed": false
   },
   "outputs": [
    {
     "name": "stdout",
     "output_type": "stream",
     "text": [
      "Zhang 40 75.500000\n",
      "Li 24 65.199997\n"
     ]
    }
   ],
   "source": [
    "!gcc read_struct_array.c -o read_struct_array.exe\n",
    "!read_struct_array.exe"
   ]
  },
  {
   "cell_type": "markdown",
   "metadata": {},
   "source": [
    "> `記憶體對齊`  \n",
    "> 為了記憶體定走方便，C 語言的結構類型會自動增加一些填充用的元組，這叫做記憶體對齊。例如下面 C 語言中定義的結構的 `name` 欄位雖然是 30 個位元組長，但是由於記憶體對齊問題，在 `name` 和 `age` 中間會填補兩個位元組。因此，如果陣列中所設定的記憶體大小不符合 C 語言的對齊標準，將出現資料錯位。為了解決這個問題，在建立 dtype 物件時，可以傳遞參數 `align=True`，這樣結構陣列的記憶體對齊就和 C 語言的結構類型一致了。在前面的實例中，由於建立 persontype 時指定 `align` 參數為 True，因此它佔用 40 個位元組。\n",
    "\n",
    "結構類型中可以包含其他的結構類型，下面的敘述建立一個有一個欄位 f1 的結構，f1 的值是另一個結構，它有欄位 f2，類型為 16 位元整數："
   ]
  },
  {
   "cell_type": "code",
   "execution_count": 77,
   "metadata": {
    "collapsed": false
   },
   "outputs": [
    {
     "data": {
      "text/plain": [
       "dtype([('f1', [('f2', '<i2')])])"
      ]
     },
     "execution_count": 77,
     "metadata": {},
     "output_type": "execute_result"
    }
   ],
   "source": [
    "np.dtype([('f1', [('f2', np.int16)])])"
   ]
  },
  {
   "cell_type": "markdown",
   "metadata": {},
   "source": [
    "當某個欄位類型為陣列時，用元組的第三個元素表示其形狀。在下面的結構中，f1 欄位是一個形狀為 (2,3) 的雙精度浮點陣列："
   ]
  },
  {
   "cell_type": "code",
   "execution_count": 96,
   "metadata": {
    "collapsed": false
   },
   "outputs": [
    {
     "data": {
      "text/plain": [
       "dtype([('f0', '<i4'), ('f1', '<f8', (2, 3))])"
      ]
     },
     "execution_count": 96,
     "metadata": {},
     "output_type": "execute_result"
    }
   ],
   "source": [
    "np.dtype([('f0', 'i4'), ('f1', 'f8', (2, 3))])"
   ]
  },
  {
   "cell_type": "markdown",
   "metadata": {},
   "source": [
    "用下面的字典參數也可以定義結構類型，字典的鍵為結構的欄位名稱，值為欄位的類型描述。但是由於字典的鍵是沒有順序的，因此欄位的順序需要在類型描述中列出。類型描述是一個元組，它的第二個值列出欄位的以位元組為單位的偏移量，例如下例中的 age 欄位的偏移量為 25 個位元組："
   ]
  },
  {
   "cell_type": "code",
   "execution_count": 78,
   "metadata": {
    "collapsed": false
   },
   "outputs": [
    {
     "data": {
      "text/plain": [
       "dtype([('surname', 'S25'), ('age', 'u1')])"
      ]
     },
     "execution_count": 78,
     "metadata": {},
     "output_type": "execute_result"
    }
   ],
   "source": [
    "np.dtype({'surname':('S25',0),'age':(np.uint8,25)})"
   ]
  },
  {
   "cell_type": "markdown",
   "metadata": {},
   "source": [
    "### 記憶體結構"
   ]
  },
  {
   "cell_type": "markdown",
   "metadata": {},
   "source": [
    "陣列物件是如何在記憶體中儲存的？如圖2-3所示，陣列的描述資訊儲存在一個資料結構中，這個結構參考兩個物件：用於儲存資料的儲存區域和用於描述元素類型的 `dtype` 物件。\n",
    "\n",
    "![](2022-03-18-09-18-27.png)\n",
    "\n",
    "圖2-3 np.ndarray 陣列物件在記憶體中的儲存方式\n",
    "\n",
    "資料儲存區域儲存著陣列中所有元素的二進位資料，`dtype物件` 則知道如何將元素的二進位資料轉為可用的值。陣列的維數和形狀等資訊都儲存在 `ndarray` 陣列物件的資料結構中。圖2-3中顯示的是下面陣列 a 的記憶體結構："
   ]
  },
  {
   "cell_type": "code",
   "execution_count": 79,
   "metadata": {
    "collapsed": false
   },
   "outputs": [],
   "source": [
    "a = np.array([[0,1,2],[3,4,5],[6,7,8]], dtype=np.float32)"
   ]
  },
  {
   "cell_type": "markdown",
   "metadata": {},
   "source": [
    "陣列物件使用 `strides` 屬性儲存每個軸上相鄰兩個元素的位址差，即當某個軸的索引增加 1 時，資料儲存區中的指標所增加的位元組數。例如圖2-3 中的 `strides` 為 (12,4)，即第 0 軸的索引增加 1 時，資料的位址增加 12 個位元組。也就是 `a[1,0]` 的地址比 `a[0,0]` 的地址大12，正好是 3 個單精度浮點數的總位元組數。第 1 軸的索引增加 1 時，資料的位址增加 4 個位元組，正好是一個單精度浮點數的位元組數。\n",
    "\n",
    "如果 `strides` 屬性中的數值正好和對應軸所佔據的位元組數相同，那麼資料在記憶體中是連續儲存的。透過切片索引獲得的新陣列是原始陣列的視圖，即它和原始陣列共用資料儲存區域，但是新陣列的 `strides` 屬性會發生變化："
   ]
  },
  {
   "cell_type": "code",
   "execution_count": 80,
   "metadata": {
    "collapsed": false
   },
   "outputs": [
    {
     "name": "stdout",
     "output_type": "stream",
     "text": [
      "    b       b.strides\n",
      "----------  ---------\n",
      "[[0., 2.],  (24, 8)  \n",
      " [6., 8.]]           \n"
     ]
    }
   ],
   "source": [
    "b = a[::2, ::2]\n",
    "%C b; b.strides"
   ]
  },
  {
   "cell_type": "markdown",
   "metadata": {},
   "source": [
    "由於陣列 b 和陣列 a 共用資料儲存區，而陣列 b 中的第 0 軸和第 1 軸都是從 a 中隔一個元素取一個，因此陣列 b 的 `strides` 變成了 (24, 8) ，正好都是陣列 a 的兩倍。對照前面的圖2-3 很容易看出資料 0 和 2 的位址相差 8 個位元組，而資料 0 和 6 的位址相差 24 個位元組。\n",
    "\n",
    "元素在資料儲存區中的排列格式有兩種：C 語言格式和 Fortan 語言格式。在 C 語言中，多維陣列的第 0 軸是最上位的，即第 0 軸的索引增加 1 時，元素的位址增加的位元組數最多；而 Fortan 語言中的多維陣列的第 0 軸是最下位的，即第 0 軸的索引增加 1 時，位址只增加一個元素的位元組數。在 numpy 中預設以 C 語言格式儲存資料，如果希望改為 Fortan 格式，只需要在建立陣列時，設定 `order` 參數為 `\"F\"`："
   ]
  },
  {
   "cell_type": "code",
   "execution_count": 82,
   "metadata": {
    "collapsed": false
   },
   "outputs": [
    {
     "data": {
      "text/plain": [
       "(4, 12)"
      ]
     },
     "execution_count": 82,
     "metadata": {},
     "output_type": "execute_result"
    }
   ],
   "source": [
    "c = np.array([[0,1,2],[3,4,5],[6,7,8]], dtype=np.float32, order=\"F\")\n",
    "c.strides"
   ]
  },
  {
   "cell_type": "markdown",
   "metadata": {},
   "source": [
    "了解了陣列的記憶體結構，就可以解釋使用索引取得資料時的複製和參考問題：\n",
    "- 當索引使用整數和切片時，所取得的資料儲存區中是等間隔分佈的。因為只需要修改圖2-3 所示的資料結構中的 dim count, dimensions, stride 等屬性以及指向資料儲存區域的指標 data，就能實現整數利切片索引，所以新陣列和原始陣列能夠共用資料儲存區域。\n",
    "- 當使用整數序列、整數陣列和布林陣列時，不能保障所取得的資料在資料儲存區域中是等間隔的，因此無法和原始陣列共用資料，只能對資料進行複製。\n",
    "\n",
    "陣列的 `flags` 屬性描述了資料儲存區域的一些屬性，直接檢視 `flags` 屬性將輸出各個標示的值，也可以單獨獲得其中的某個標示值："
   ]
  },
  {
   "cell_type": "code",
   "execution_count": 83,
   "metadata": {
    "collapsed": false
   },
   "outputs": [
    {
     "name": "stdout",
     "output_type": "stream",
     "text": [
      "  C_CONTIGUOUS : True\n",
      "  F_CONTIGUOUS : False\n",
      "  OWNDATA : True\n",
      "  WRITEABLE : True\n",
      "  ALIGNED : True\n",
      "  WRITEBACKIFCOPY : False\n",
      "  UPDATEIFCOPY : False\n",
      "\n",
      "c_contiguous: True\n"
     ]
    }
   ],
   "source": [
    "print( a.flags )\n",
    "print( \"c_contiguous:\", a.flags.c_contiguous )"
   ]
  },
  {
   "cell_type": "markdown",
   "metadata": {},
   "source": [
    "下面是幾個比較重要的標示：\n",
    "- C_CONTIGUOUS: 資料儲存區域是否是 C 語言格式的連續區域。\n",
    "- F_CONTIGUOUS: 資料儲存區域是否是 Fortan 語言格式的連續區域。\n",
    "- OWNDATA: 陣列是否擁有此資料儲存區域，當一個陣列是其他陣列的視圖時，它不擁有資料儲存區域。\n",
    "\n",
    "由於陣列 a 是透過 np.array() 直接建立的，因此它的資料儲存區域是 C 語言格式的連續區域，並且它擁有資料儲存區域。下面我們看看陣列 a 的轉置標示，陣列的轉置可以透過其 `T` 屬性獲得，轉置陣列將其資料儲存區域看作 Fortan 語言格式的連續區域，並且它不擁有資料儲存區域。"
   ]
  },
  {
   "cell_type": "code",
   "execution_count": 84,
   "metadata": {
    "collapsed": false
   },
   "outputs": [
    {
     "data": {
      "text/plain": [
       "  C_CONTIGUOUS : False\n",
       "  F_CONTIGUOUS : True\n",
       "  OWNDATA : False\n",
       "  WRITEABLE : True\n",
       "  ALIGNED : True\n",
       "  WRITEBACKIFCOPY : False\n",
       "  UPDATEIFCOPY : False"
      ]
     },
     "execution_count": 84,
     "metadata": {},
     "output_type": "execute_result"
    }
   ],
   "source": [
    "a.T.flags"
   ]
  },
  {
   "cell_type": "markdown",
   "metadata": {},
   "source": [
    "下面檢視陣列 b 的標示，它不擁有資料儲存區域，其資料也不是連續儲存的。透過視圖陣列的 `base` 屬性可以獲得儲存資料的原始陣列："
   ]
  },
  {
   "cell_type": "code",
   "execution_count": 85,
   "metadata": {
    "collapsed": false
   },
   "outputs": [
    {
     "data": {
      "text/plain": [
       "  C_CONTIGUOUS : False\n",
       "  F_CONTIGUOUS : False\n",
       "  OWNDATA : False\n",
       "  WRITEABLE : True\n",
       "  ALIGNED : True\n",
       "  WRITEBACKIFCOPY : False\n",
       "  UPDATEIFCOPY : False"
      ]
     },
     "execution_count": 85,
     "metadata": {},
     "output_type": "execute_result"
    }
   ],
   "source": [
    "b.flags"
   ]
  },
  {
   "cell_type": "code",
   "execution_count": 86,
   "metadata": {
    "collapsed": false
   },
   "outputs": [
    {
     "name": "stdout",
     "output_type": "stream",
     "text": [
      "  id(b.base)       id(a)    \n",
      "-------------  -------------\n",
      "2543488362608  2543488362608\n"
     ]
    }
   ],
   "source": [
    "%C id(b.base); id(a)"
   ]
  },
  {
   "cell_type": "markdown",
   "metadata": {},
   "source": [
    "還可以透過 `view()` 方法從同一塊資料區建立不同的 `dtype` 的陣列物件，也就是使用不同的數值型態檢視同一段記憶體中的二進位資料："
   ]
  },
  {
   "cell_type": "code",
   "execution_count": 87,
   "metadata": {
    "collapsed": false
   },
   "outputs": [
    {
     "name": "stdout",
     "output_type": "stream",
     "text": [
      "            b                                   c                     \n",
      "--------------------------  ------------------------------------------\n",
      "[[         0, 1065353216],  [[  0,   0,   0,   0,   0,   0, 128,  63],\n",
      " [1073741824, 1077936128],   [  0,   0,   0,  64,   0,   0,  64,  64],\n",
      " [1082130432, 1084227584]]   [  0,   0, 128,  64,   0,   0, 160,  64]]\n"
     ]
    }
   ],
   "source": [
    "a = np.array([[0, 1], [2, 3], [4, 5]], dtype=np.float32)\n",
    "b = a.view(np.uint32)\n",
    "c = a.view(np.uint8)\n",
    "%C 2 b; c"
   ]
  },
  {
   "cell_type": "markdown",
   "metadata": {},
   "source": [
    "由於陣列 a 的元素類型是單精度浮點數，佔用 4 個位元組，透過 `a.view(np.uint32)` ，我們建立了一個新的陣列，它和陣列 a 使用同一段資料記憶體，但是它將每 4 個位元組的資料當作無號 32 位元整數處理。而 `a.view(np.uint8)` 將每個位元組都當作一個單字節的不帶正負號的整數，因此獲得一個形狀為 (3,8) 的陣列。\n",
    "\n",
    "透過 `view()` 方法獲得的新陣列與原陣列共用記憶體，當 `a[0,0]` 被修改時，`b[0,0]` 和`c[0:4]` 都會改變："
   ]
  },
  {
   "cell_type": "code",
   "execution_count": 88,
   "metadata": {
    "collapsed": false
   },
   "outputs": [
    {
     "name": "stdout",
     "output_type": "stream",
     "text": [
      " b[0, 0]          c[0, :4]      \n",
      "----------  --------------------\n",
      "1078523331  [195, 245,  72,  64]\n"
     ]
    }
   ],
   "source": [
    "a[0, 0] = 3.14\n",
    "%C 2 b[0, 0]; c[0, :4]"
   ]
  },
  {
   "cell_type": "markdown",
   "metadata": {},
   "source": [
    "下面使用 `view()` 方法的實例。在《雷神之錘III：競技場》的 C 語言原始程式碼中有這樣一個神奇的計算平方根倒數的函數 `Q_rsqrt()` 。程式中使用牛頓反覆運算法計算平方根倒數，這並沒有任何神奇之處，但是其中包含了一個神奇的數字 `0x5f3759df`，並將單精度浮點數當作 32 位元的整數進行了一次令人毫無頭緒的運算："
   ]
  },
  {
   "cell_type": "markdown",
   "metadata": {},
   "source": [
    "> **LINK**\n",
    "\n",
    "> http://zh.wikipedia.org/wiki/平方根倒數速算法\n",
    "\n",
    "> 維基百科關於雷神之錘中使用`0x5f3759df`計算平方根倒數算法的解釋"
   ]
  },
  {
   "cell_type": "markdown",
   "metadata": {},
   "source": [
    "```c\n",
    "float Q_rsqrt(float number)\n",
    "{\n",
    "    long i;\n",
    "    float x2, y;\n",
    "    const float threehalfs = 1.5F;\n",
    "\n",
    "    x2 = number * 0.5F;\n",
    "    y = number;\n",
    "    i = *(long*) &y;            // 對浮點數的邪惡級 hack\n",
    "    i = 0x5f3759df - (i>>1);    // 這到底是怎麼回事？\n",
    "    y = *(float*) &i;\n",
    "    y = y*(threehalfs - (x2*y*y));     // 第一次牛頓反覆運算\n",
    "    return y;\n",
    "}\n",
    "```"
   ]
  },
  {
   "cell_type": "markdown",
   "metadata": {},
   "source": [
    "下面用 numpy 實現同樣的計算："
   ]
  },
  {
   "cell_type": "code",
   "execution_count": 89,
   "metadata": {
    "collapsed": false
   },
   "outputs": [
    {
     "data": {
      "text/plain": [
       "0.005045614041059743"
      ]
     },
     "execution_count": 89,
     "metadata": {},
     "output_type": "execute_result"
    }
   ],
   "source": [
    "number = np.linspace(0.1, 10, 100)\n",
    "y = number.astype(np.float32)  #❶\n",
    "x2 = y * 0.5\n",
    "i = y.view(np.int32)  #❷\n",
    "i[:] = 0x5f3759df - (i >> 1)  #❸\n",
    "y = y * (1.5 - x2 * y * y)  #❹\n",
    "np.max(np.abs(1 / np.sqrt(number) - y))  #❺"
   ]
  },
  {
   "cell_type": "markdown",
   "metadata": {},
   "source": [
    "- ❶ 由於 `linspace()` 建立的陣列的類型為雙精度浮點數，因此這裡首先透過 `astype()` 方法將其轉換成單精度浮點數陣列 y。\n",
    "- ❷ 透過 `view()` 方法建立一個 y 共用記憶體的 32 位元整數陣列 i。\n",
    "- ❸ 對整數陣列 i 進行那段完全摸不著頭腦的運算，並且將結果重新寫入陣列 i 中。由於 i 和 y 共用記憶體，此時 y 中的值也發生了變化。注意這裡的設定值不能使用 `i=0x5f3759df -(i>>1)` ，如果這樣寫，那麼陣列 i 就是一個全新的陣列了。\n",
    "- ❹ 進行一次牛頓反覆運算，這裡由於使用 `y=...` 的寫法，因此 y 將變成一個全新的陣列，和原來的 i 不再共用記憶體。在這段程式中有很多陣列運算，關於這方面的內容將在下一節進行說明。\n",
    "- ❺ 最後輸出真實值和近似值之間的最大誤差。下圖顯示了絕對誤差與引數的關係。當 number 很小時絕對誤差較大，但此時的函數值也較大，因此相對誤差的變化並不大。"
   ]
  },
  {
   "cell_type": "code",
   "execution_count": 93,
   "metadata": {},
   "outputs": [],
   "source": [
    "import matplotlib.pyplot as plt\n",
    "from matplotlib.font_manager import FontProperties\n",
    "\n",
    "plt.rcParams[\"font.family\"] = \"simsun\" # 可以直接修改設定字典，設定預設字型，這樣就不需要在每次繪製文字時設定字型了\n",
    "plt.rcParams['axes.unicode_minus']=False    # 當座標軸上的 負號 無法正常顯示時，需加這行 code"
   ]
  },
  {
   "cell_type": "code",
   "execution_count": 94,
   "metadata": {
    "collapsed": false
   },
   "outputs": [
    {
     "data": {
      "image/svg+xml": "<?xml version=\"1.0\" encoding=\"utf-8\" standalone=\"no\"?>\r\n<!DOCTYPE svg PUBLIC \"-//W3C//DTD SVG 1.1//EN\"\r\n  \"http://www.w3.org/Graphics/SVG/1.1/DTD/svg11.dtd\">\r\n<!-- Created with matplotlib (https://matplotlib.org/) -->\r\n<svg height=\"196.1575pt\" version=\"1.1\" viewBox=\"0 0 394.457812 196.1575\" width=\"394.457812pt\" xmlns=\"http://www.w3.org/2000/svg\" xmlns:xlink=\"http://www.w3.org/1999/xlink\">\r\n <metadata>\r\n  <rdf:RDF xmlns:cc=\"http://creativecommons.org/ns#\" xmlns:dc=\"http://purl.org/dc/elements/1.1/\" xmlns:rdf=\"http://www.w3.org/1999/02/22-rdf-syntax-ns#\">\r\n   <cc:Work>\r\n    <dc:type rdf:resource=\"http://purl.org/dc/dcmitype/StillImage\"/>\r\n    <dc:date>2022-03-18T10:12:28.316580</dc:date>\r\n    <dc:format>image/svg+xml</dc:format>\r\n    <dc:creator>\r\n     <cc:Agent>\r\n      <dc:title>Matplotlib v3.3.0, https://matplotlib.org/</dc:title>\r\n     </cc:Agent>\r\n    </dc:creator>\r\n   </cc:Work>\r\n  </rdf:RDF>\r\n </metadata>\r\n <defs>\r\n  <style type=\"text/css\">*{stroke-linecap:butt;stroke-linejoin:round;}</style>\r\n </defs>\r\n <g id=\"figure_1\">\r\n  <g id=\"patch_1\">\r\n   <path d=\"M 0 196.1575 \r\nL 394.457812 196.1575 \r\nL 394.457812 0 \r\nL 0 0 \r\nz\r\n\" style=\"fill:#ffffff;\"/>\r\n  </g>\r\n  <g id=\"axes_1\">\r\n   <g id=\"patch_2\">\r\n    <path d=\"M 52.457813 173.52 \r\nL 387.257812 173.52 \r\nL 387.257812 7.2 \r\nL 52.457813 7.2 \r\nz\r\n\" style=\"fill:#ffffff;\"/>\r\n   </g>\r\n   <g id=\"matplotlib.axis_1\">\r\n    <g id=\"xtick_1\">\r\n     <g id=\"line2d_1\">\r\n      <defs>\r\n       <path d=\"M 0 0 \r\nL 0 3.5 \r\n\" id=\"m58329c8045\" style=\"stroke:#000000;stroke-width:0.8;\"/>\r\n      </defs>\r\n      <g>\r\n       <use style=\"stroke:#000000;stroke-width:0.8;\" x=\"64.601614\" xlink:href=\"#m58329c8045\" y=\"173.52\"/>\r\n      </g>\r\n     </g>\r\n     <g id=\"text_1\">\r\n      <!-- 0 -->\r\n      <g transform=\"translate(62.101614 187.668438)scale(0.1 -0.1)\">\r\n       <defs>\r\n        <path d=\"M 25 66.015625 \r\nQ 19.53125 66.015625 15.8125 57.609375 \r\nQ 12.109375 49.21875 12.109375 35.15625 \r\nQ 12.109375 20.3125 15.8125 12.109375 \r\nQ 19.53125 3.90625 25 3.90625 \r\nQ 30.859375 3.90625 34.171875 12.109375 \r\nQ 37.5 20.3125 37.5 35.15625 \r\nQ 37.5 49.21875 34.375 57.609375 \r\nQ 31.25 66.015625 25 66.015625 \r\nz\r\nM 25 0.78125 \r\nQ 16.40625 0.78125 10.546875 9.765625 \r\nQ 4.6875 18.75 4.6875 35.15625 \r\nQ 4.6875 50.390625 10.34375 59.765625 \r\nQ 16.015625 69.140625 25 69.140625 \r\nQ 33.59375 69.140625 39.25 60.15625 \r\nQ 44.921875 51.171875 44.921875 35.15625 \r\nQ 44.921875 19.140625 39.25 9.953125 \r\nQ 33.59375 0.78125 25 0.78125 \r\nz\r\n\" id=\"SimSun-48\"/>\r\n       </defs>\r\n       <use xlink:href=\"#SimSun-48\"/>\r\n      </g>\r\n     </g>\r\n    </g>\r\n    <g id=\"xtick_2\">\r\n     <g id=\"line2d_2\">\r\n      <g>\r\n       <use style=\"stroke:#000000;stroke-width:0.8;\" x=\"126.089217\" xlink:href=\"#m58329c8045\" y=\"173.52\"/>\r\n      </g>\r\n     </g>\r\n     <g id=\"text_2\">\r\n      <!-- 2 -->\r\n      <g transform=\"translate(123.589217 187.668438)scale(0.1 -0.1)\">\r\n       <defs>\r\n        <path d=\"M 36.328125 51.953125 \r\nQ 36.328125 58.984375 33.203125 62.6875 \r\nQ 30.078125 66.40625 23.828125 66.40625 \r\nQ 19.140625 66.40625 15.8125 63.859375 \r\nQ 12.5 61.328125 12.5 57.421875 \r\nQ 12.5 55.078125 14.0625 53.515625 \r\nQ 15.234375 51.953125 15.234375 50.390625 \r\nQ 15.234375 48.4375 14.25 47.453125 \r\nQ 13.28125 46.484375 11.328125 46.484375 \r\nQ 8.984375 46.484375 7.609375 47.84375 \r\nQ 6.25 49.21875 6.25 52.34375 \r\nQ 6.25 60.546875 12.109375 64.84375 \r\nQ 17.96875 69.140625 24.609375 69.140625 \r\nQ 33.984375 69.140625 38.46875 64.453125 \r\nQ 42.96875 59.765625 42.96875 52.734375 \r\nQ 42.96875 48.046875 40.8125 43.359375 \r\nQ 38.671875 38.671875 33.984375 34.375 \r\nQ 22.65625 23.4375 16.59375 16.59375 \r\nQ 10.546875 9.765625 9.375 7.421875 \r\nL 32.421875 7.421875 \r\nQ 35.9375 7.421875 38.28125 10.15625 \r\nQ 40.625 12.890625 41.40625 18.359375 \r\nL 43.75 18.359375 \r\nL 41.40625 1.5625 \r\nL 5.078125 1.5625 \r\nL 5.078125 6.640625 \r\nQ 7.03125 10.15625 11.515625 15.625 \r\nQ 16.015625 21.09375 23.4375 28.515625 \r\nQ 30.078125 35.15625 33.203125 41.015625 \r\nQ 36.328125 46.875 36.328125 51.953125 \r\nz\r\n\" id=\"SimSun-50\"/>\r\n       </defs>\r\n       <use xlink:href=\"#SimSun-50\"/>\r\n      </g>\r\n     </g>\r\n    </g>\r\n    <g id=\"xtick_3\">\r\n     <g id=\"line2d_3\">\r\n      <g>\r\n       <use style=\"stroke:#000000;stroke-width:0.8;\" x=\"187.576821\" xlink:href=\"#m58329c8045\" y=\"173.52\"/>\r\n      </g>\r\n     </g>\r\n     <g id=\"text_3\">\r\n      <!-- 4 -->\r\n      <g transform=\"translate(185.076821 187.668438)scale(0.1 -0.1)\">\r\n       <defs>\r\n        <path d=\"M 35.9375 8.984375 \r\nQ 35.9375 6.25 37.5 5.078125 \r\nQ 39.0625 3.90625 41.796875 3.90625 \r\nL 45.3125 3.90625 \r\nL 45.3125 1.5625 \r\nL 19.53125 1.5625 \r\nL 19.53125 3.90625 \r\nL 23.828125 3.90625 \r\nQ 26.953125 3.90625 28.3125 5.078125 \r\nQ 29.6875 6.25 29.6875 8.984375 \r\nL 29.6875 21.875 \r\nL 3.515625 21.875 \r\nL 3.515625 23.828125 \r\nL 32.03125 69.140625 \r\nL 35.9375 69.140625 \r\nL 35.9375 24.21875 \r\nL 46.484375 24.21875 \r\nL 46.484375 21.875 \r\nL 35.9375 21.875 \r\nz\r\nM 29.296875 59.375 \r\nL 7.03125 24.21875 \r\nL 29.6875 24.21875 \r\nL 29.6875 59.375 \r\nz\r\n\" id=\"SimSun-52\"/>\r\n       </defs>\r\n       <use xlink:href=\"#SimSun-52\"/>\r\n      </g>\r\n     </g>\r\n    </g>\r\n    <g id=\"xtick_4\">\r\n     <g id=\"line2d_4\">\r\n      <g>\r\n       <use style=\"stroke:#000000;stroke-width:0.8;\" x=\"249.064424\" xlink:href=\"#m58329c8045\" y=\"173.52\"/>\r\n      </g>\r\n     </g>\r\n     <g id=\"text_4\">\r\n      <!-- 6 -->\r\n      <g transform=\"translate(246.564424 187.668438)scale(0.1 -0.1)\">\r\n       <defs>\r\n        <path d=\"M 12.109375 28.125 \r\nQ 12.109375 16.40625 16.203125 9.953125 \r\nQ 20.3125 3.515625 26.171875 3.515625 \r\nQ 32.03125 3.515625 35.15625 7.8125 \r\nQ 38.28125 12.109375 38.28125 23.828125 \r\nQ 38.28125 31.640625 34.953125 35.9375 \r\nQ 31.640625 40.234375 26.953125 40.234375 \r\nQ 22.65625 40.234375 18.9375 37.6875 \r\nQ 15.234375 35.15625 12.109375 28.125 \r\nz\r\nM 27.34375 44.140625 \r\nQ 36.71875 44.140625 40.8125 37.890625 \r\nQ 44.921875 31.640625 44.921875 23.828125 \r\nQ 44.921875 12.109375 39.25 6.4375 \r\nQ 33.59375 0.78125 26.171875 0.78125 \r\nQ 15.625 0.78125 10.15625 8.78125 \r\nQ 4.6875 16.796875 4.6875 32.03125 \r\nQ 4.6875 50 11.328125 59.5625 \r\nQ 17.96875 69.140625 29.296875 69.140625 \r\nQ 34.765625 69.140625 38.078125 66.015625 \r\nQ 41.40625 62.890625 41.40625 60.546875 \r\nQ 41.40625 58.203125 40.421875 57.03125 \r\nQ 39.453125 55.859375 37.109375 55.859375 \r\nQ 35.15625 55.859375 34.171875 56.828125 \r\nQ 33.203125 57.8125 33.203125 59.765625 \r\nQ 33.203125 60.546875 33.59375 61.328125 \r\nQ 33.59375 62.109375 33.59375 62.890625 \r\nQ 33.59375 64.453125 32.421875 65.421875 \r\nQ 31.25 66.40625 28.125 66.40625 \r\nQ 21.484375 66.40625 16.796875 60.34375 \r\nQ 12.109375 54.296875 12.109375 33.984375 \r\nQ 14.453125 39.0625 18.546875 41.59375 \r\nQ 22.65625 44.140625 27.34375 44.140625 \r\nz\r\n\" id=\"SimSun-54\"/>\r\n       </defs>\r\n       <use xlink:href=\"#SimSun-54\"/>\r\n      </g>\r\n     </g>\r\n    </g>\r\n    <g id=\"xtick_5\">\r\n     <g id=\"line2d_5\">\r\n      <g>\r\n       <use style=\"stroke:#000000;stroke-width:0.8;\" x=\"310.552027\" xlink:href=\"#m58329c8045\" y=\"173.52\"/>\r\n      </g>\r\n     </g>\r\n     <g id=\"text_5\">\r\n      <!-- 8 -->\r\n      <g transform=\"translate(308.052027 187.668438)scale(0.1 -0.1)\">\r\n       <defs>\r\n        <path d=\"M 9.765625 17.578125 \r\nQ 9.765625 11.328125 13.859375 7.421875 \r\nQ 17.96875 3.515625 24.21875 3.515625 \r\nQ 31.640625 3.515625 34.953125 7.421875 \r\nQ 38.28125 11.328125 38.28125 17.1875 \r\nQ 38.28125 22.265625 33.59375 26.953125 \r\nQ 28.90625 31.640625 19.53125 35.546875 \r\nQ 14.84375 32.421875 12.296875 27.734375 \r\nQ 9.765625 23.046875 9.765625 17.578125 \r\nz\r\nM 44.140625 18.359375 \r\nQ 44.140625 10.9375 38.671875 5.859375 \r\nQ 33.203125 0.78125 24.21875 0.78125 \r\nQ 16.015625 0.78125 10.15625 5.859375 \r\nQ 4.296875 10.9375 4.296875 17.578125 \r\nQ 4.296875 24.21875 7.609375 28.90625 \r\nQ 10.9375 33.59375 17.1875 37.109375 \r\nQ 11.71875 39.84375 8.78125 43.9375 \r\nQ 5.859375 48.046875 5.859375 53.125 \r\nQ 5.859375 59.765625 10.9375 64.453125 \r\nQ 16.015625 69.140625 25 69.140625 \r\nQ 33.203125 69.140625 38.28125 64.453125 \r\nQ 43.359375 59.765625 43.359375 53.125 \r\nQ 43.359375 48.4375 40.421875 44.328125 \r\nQ 37.5 40.234375 31.25 37.109375 \r\nQ 37.890625 33.203125 41.015625 28.515625 \r\nQ 44.140625 23.828125 44.140625 18.359375 \r\nz\r\nM 37.890625 52.734375 \r\nQ 37.890625 58.203125 34.765625 62.296875 \r\nQ 31.640625 66.40625 25 66.40625 \r\nQ 17.578125 66.40625 14.453125 62.5 \r\nQ 11.328125 58.59375 11.328125 54.296875 \r\nQ 11.328125 50 15.8125 45.890625 \r\nQ 20.3125 41.796875 28.515625 38.671875 \r\nQ 33.203125 41.015625 35.546875 44.53125 \r\nQ 37.890625 48.046875 37.890625 52.734375 \r\nz\r\n\" id=\"SimSun-56\"/>\r\n       </defs>\r\n       <use xlink:href=\"#SimSun-56\"/>\r\n      </g>\r\n     </g>\r\n    </g>\r\n    <g id=\"xtick_6\">\r\n     <g id=\"line2d_6\">\r\n      <g>\r\n       <use style=\"stroke:#000000;stroke-width:0.8;\" x=\"372.039631\" xlink:href=\"#m58329c8045\" y=\"173.52\"/>\r\n      </g>\r\n     </g>\r\n     <g id=\"text_6\">\r\n      <!-- 10 -->\r\n      <g transform=\"translate(367.039631 187.668438)scale(0.1 -0.1)\">\r\n       <defs>\r\n        <path d=\"M 28.515625 69.53125 \r\nL 28.515625 10.15625 \r\nQ 28.515625 7.03125 30.46875 5.46875 \r\nQ 32.421875 3.90625 35.9375 3.90625 \r\nL 39.84375 3.90625 \r\nL 39.84375 1.5625 \r\nL 11.328125 1.5625 \r\nL 11.328125 3.90625 \r\nL 14.84375 3.90625 \r\nQ 18.75 3.90625 20.5 5.46875 \r\nQ 22.265625 7.03125 22.265625 10.15625 \r\nL 22.265625 57.421875 \r\nQ 22.265625 58.984375 21.28125 59.953125 \r\nQ 20.3125 60.9375 18.359375 60.9375 \r\nL 11.328125 60.9375 \r\nL 11.328125 63.28125 \r\nL 14.84375 63.28125 \r\nQ 19.53125 63.28125 22.453125 64.84375 \r\nQ 25.390625 66.40625 26.953125 69.53125 \r\nz\r\n\" id=\"SimSun-49\"/>\r\n       </defs>\r\n       <use xlink:href=\"#SimSun-49\"/>\r\n       <use x=\"50\" xlink:href=\"#SimSun-48\"/>\r\n      </g>\r\n     </g>\r\n    </g>\r\n   </g>\r\n   <g id=\"matplotlib.axis_2\">\r\n    <g id=\"ytick_1\">\r\n     <g id=\"line2d_7\">\r\n      <defs>\r\n       <path d=\"M 0 0 \r\nL -3.5 0 \r\n\" id=\"ma238b120f2\" style=\"stroke:#000000;stroke-width:0.8;\"/>\r\n      </defs>\r\n      <g>\r\n       <use style=\"stroke:#000000;stroke-width:0.8;\" x=\"52.457813\" xlink:href=\"#ma238b120f2\" y=\"165.958521\"/>\r\n      </g>\r\n     </g>\r\n     <g id=\"text_7\">\r\n      <!-- 0.000 -->\r\n      <g transform=\"translate(20.457813 169.53274)scale(0.1 -0.1)\">\r\n       <defs>\r\n        <path d=\"M 12.5 0.390625 \r\nQ 10.15625 0.390625 8.390625 1.953125 \r\nQ 6.640625 3.515625 6.640625 6.25 \r\nQ 6.640625 8.984375 8.390625 10.546875 \r\nQ 10.15625 12.109375 12.5 12.109375 \r\nQ 14.84375 12.109375 16.59375 10.34375 \r\nQ 18.359375 8.59375 18.359375 6.25 \r\nQ 18.359375 3.515625 16.59375 1.953125 \r\nQ 14.84375 0.390625 12.5 0.390625 \r\nz\r\n\" id=\"SimSun-46\"/>\r\n       </defs>\r\n       <use xlink:href=\"#SimSun-48\"/>\r\n       <use x=\"50\" xlink:href=\"#SimSun-46\"/>\r\n       <use x=\"100\" xlink:href=\"#SimSun-48\"/>\r\n       <use x=\"150\" xlink:href=\"#SimSun-48\"/>\r\n       <use x=\"200\" xlink:href=\"#SimSun-48\"/>\r\n      </g>\r\n     </g>\r\n    </g>\r\n    <g id=\"ytick_2\">\r\n     <g id=\"line2d_8\">\r\n      <g>\r\n       <use style=\"stroke:#000000;stroke-width:0.8;\" x=\"52.457813\" xlink:href=\"#ma238b120f2\" y=\"135.992194\"/>\r\n      </g>\r\n     </g>\r\n     <g id=\"text_8\">\r\n      <!-- 0.001 -->\r\n      <g transform=\"translate(20.457813 139.566413)scale(0.1 -0.1)\">\r\n       <use xlink:href=\"#SimSun-48\"/>\r\n       <use x=\"50\" xlink:href=\"#SimSun-46\"/>\r\n       <use x=\"100\" xlink:href=\"#SimSun-48\"/>\r\n       <use x=\"150\" xlink:href=\"#SimSun-48\"/>\r\n       <use x=\"200\" xlink:href=\"#SimSun-49\"/>\r\n      </g>\r\n     </g>\r\n    </g>\r\n    <g id=\"ytick_3\">\r\n     <g id=\"line2d_9\">\r\n      <g>\r\n       <use style=\"stroke:#000000;stroke-width:0.8;\" x=\"52.457813\" xlink:href=\"#ma238b120f2\" y=\"106.025867\"/>\r\n      </g>\r\n     </g>\r\n     <g id=\"text_9\">\r\n      <!-- 0.002 -->\r\n      <g transform=\"translate(20.457813 109.600085)scale(0.1 -0.1)\">\r\n       <use xlink:href=\"#SimSun-48\"/>\r\n       <use x=\"50\" xlink:href=\"#SimSun-46\"/>\r\n       <use x=\"100\" xlink:href=\"#SimSun-48\"/>\r\n       <use x=\"150\" xlink:href=\"#SimSun-48\"/>\r\n       <use x=\"200\" xlink:href=\"#SimSun-50\"/>\r\n      </g>\r\n     </g>\r\n    </g>\r\n    <g id=\"ytick_4\">\r\n     <g id=\"line2d_10\">\r\n      <g>\r\n       <use style=\"stroke:#000000;stroke-width:0.8;\" x=\"52.457813\" xlink:href=\"#ma238b120f2\" y=\"76.05954\"/>\r\n      </g>\r\n     </g>\r\n     <g id=\"text_10\">\r\n      <!-- 0.003 -->\r\n      <g transform=\"translate(20.457813 79.633758)scale(0.1 -0.1)\">\r\n       <defs>\r\n        <path d=\"M 43.75 19.53125 \r\nQ 43.75 12.109375 38.28125 6.4375 \r\nQ 32.8125 0.78125 23.046875 0.78125 \r\nQ 16.015625 0.78125 10.9375 4.6875 \r\nQ 5.859375 8.59375 5.859375 13.671875 \r\nQ 5.859375 16.015625 7.421875 17.765625 \r\nQ 8.984375 19.53125 10.546875 19.53125 \r\nQ 12.890625 19.53125 13.859375 17.765625 \r\nQ 14.84375 16.015625 14.84375 14.84375 \r\nQ 14.84375 12.890625 14.0625 11.71875 \r\nQ 13.28125 10.15625 13.28125 8.984375 \r\nQ 13.28125 6.640625 16.203125 5.078125 \r\nQ 19.140625 3.515625 22.65625 3.515625 \r\nQ 29.6875 3.515625 33.203125 7.609375 \r\nQ 36.71875 11.71875 36.71875 20.3125 \r\nQ 36.71875 27.34375 33 31.640625 \r\nQ 29.296875 35.9375 19.140625 35.9375 \r\nL 19.140625 38.671875 \r\nQ 26.953125 38.671875 30.65625 42.375 \r\nQ 34.375 46.09375 34.375 52.734375 \r\nQ 34.375 58.203125 31.4375 62.296875 \r\nQ 28.515625 66.40625 22.265625 66.40625 \r\nQ 19.53125 66.40625 16.40625 65.03125 \r\nQ 13.28125 63.671875 13.28125 60.546875 \r\nQ 13.28125 57.421875 14.0625 56.640625 \r\nQ 14.84375 55.859375 14.84375 54.6875 \r\nQ 14.84375 52.734375 14.0625 51.5625 \r\nQ 13.28125 50.390625 11.328125 50.390625 \r\nQ 9.765625 50.390625 8.390625 51.5625 \r\nQ 7.03125 52.734375 7.03125 55.859375 \r\nQ 7.03125 61.71875 12.109375 65.421875 \r\nQ 17.1875 69.140625 23.828125 69.140625 \r\nQ 31.640625 69.140625 36.328125 64.25 \r\nQ 41.015625 59.375 41.015625 53.90625 \r\nQ 41.015625 48.046875 38.078125 43.9375 \r\nQ 35.15625 39.84375 28.90625 37.890625 \r\nQ 37.5 34.765625 40.625 29.6875 \r\nQ 43.75 24.609375 43.75 19.53125 \r\nz\r\n\" id=\"SimSun-51\"/>\r\n       </defs>\r\n       <use xlink:href=\"#SimSun-48\"/>\r\n       <use x=\"50\" xlink:href=\"#SimSun-46\"/>\r\n       <use x=\"100\" xlink:href=\"#SimSun-48\"/>\r\n       <use x=\"150\" xlink:href=\"#SimSun-48\"/>\r\n       <use x=\"200\" xlink:href=\"#SimSun-51\"/>\r\n      </g>\r\n     </g>\r\n    </g>\r\n    <g id=\"ytick_5\">\r\n     <g id=\"line2d_11\">\r\n      <g>\r\n       <use style=\"stroke:#000000;stroke-width:0.8;\" x=\"52.457813\" xlink:href=\"#ma238b120f2\" y=\"46.093212\"/>\r\n      </g>\r\n     </g>\r\n     <g id=\"text_11\">\r\n      <!-- 0.004 -->\r\n      <g transform=\"translate(20.457813 49.667431)scale(0.1 -0.1)\">\r\n       <use xlink:href=\"#SimSun-48\"/>\r\n       <use x=\"50\" xlink:href=\"#SimSun-46\"/>\r\n       <use x=\"100\" xlink:href=\"#SimSun-48\"/>\r\n       <use x=\"150\" xlink:href=\"#SimSun-48\"/>\r\n       <use x=\"200\" xlink:href=\"#SimSun-52\"/>\r\n      </g>\r\n     </g>\r\n    </g>\r\n    <g id=\"ytick_6\">\r\n     <g id=\"line2d_12\">\r\n      <g>\r\n       <use style=\"stroke:#000000;stroke-width:0.8;\" x=\"52.457813\" xlink:href=\"#ma238b120f2\" y=\"16.126885\"/>\r\n      </g>\r\n     </g>\r\n     <g id=\"text_12\">\r\n      <!-- 0.005 -->\r\n      <g transform=\"translate(20.457813 19.701104)scale(0.1 -0.1)\">\r\n       <defs>\r\n        <path d=\"M 26.953125 44.53125 \r\nQ 34.375 44.53125 39.0625 38.859375 \r\nQ 43.75 33.203125 43.75 23.828125 \r\nQ 43.75 13.28125 38.859375 7.03125 \r\nQ 33.984375 0.78125 23.828125 0.78125 \r\nQ 16.796875 0.78125 11.328125 4.875 \r\nQ 5.859375 8.984375 5.859375 14.84375 \r\nQ 5.859375 17.1875 7.21875 18.9375 \r\nQ 8.59375 20.703125 10.9375 20.703125 \r\nQ 13.28125 20.703125 14.0625 19.140625 \r\nQ 14.84375 17.578125 14.84375 16.40625 \r\nQ 14.84375 14.0625 13.671875 12.890625 \r\nQ 12.5 11.328125 12.5 9.765625 \r\nQ 12.5 6.640625 16.203125 5.078125 \r\nQ 19.921875 3.515625 24.21875 3.515625 \r\nQ 30.46875 3.515625 33.78125 8.59375 \r\nQ 37.109375 13.671875 37.109375 23.046875 \r\nQ 37.109375 30.859375 34.171875 35.734375 \r\nQ 31.25 40.625 25.390625 40.625 \r\nQ 21.09375 40.625 17.96875 39.0625 \r\nQ 14.84375 37.5 12.109375 32.421875 \r\nL 8.59375 32.8125 \r\nL 10.546875 68.359375 \r\nL 42.578125 68.359375 \r\nL 41.40625 62.5 \r\nL 13.28125 62.5 \r\nL 11.71875 36.71875 \r\nQ 15.625 42.1875 19.328125 43.359375 \r\nQ 23.046875 44.53125 26.953125 44.53125 \r\nz\r\n\" id=\"SimSun-53\"/>\r\n       </defs>\r\n       <use xlink:href=\"#SimSun-48\"/>\r\n       <use x=\"50\" xlink:href=\"#SimSun-46\"/>\r\n       <use x=\"100\" xlink:href=\"#SimSun-48\"/>\r\n       <use x=\"150\" xlink:href=\"#SimSun-48\"/>\r\n       <use x=\"200\" xlink:href=\"#SimSun-53\"/>\r\n      </g>\r\n     </g>\r\n    </g>\r\n    <g id=\"text_13\">\r\n     <!-- 真實值與近似值的誤差 -->\r\n     <g transform=\"translate(15.16875 140.36)rotate(-90)scale(0.1 -0.1)\">\r\n      <defs>\r\n       <path d=\"M 32.03125 53.90625 \r\nL 32.03125 45.3125 \r\nL 67.1875 45.3125 \r\nL 67.1875 53.90625 \r\nz\r\nM 32.03125 42.96875 \r\nL 32.03125 34.765625 \r\nL 67.1875 34.765625 \r\nL 67.1875 42.96875 \r\nz\r\nM 32.03125 32.421875 \r\nL 32.03125 24.21875 \r\nL 67.1875 24.21875 \r\nL 67.1875 32.421875 \r\nz\r\nM 32.03125 21.875 \r\nL 32.03125 13.671875 \r\nL 67.1875 13.671875 \r\nL 67.1875 21.875 \r\nz\r\nM 44.921875 56.25 \r\nL 45.703125 67.578125 \r\nL 23.828125 67.578125 \r\nQ 18.75 67.578125 14.453125 66.40625 \r\nL 10.9375 69.921875 \r\nL 46.09375 69.921875 \r\nQ 46.484375 75.390625 46.484375 82.421875 \r\nL 55.46875 78.515625 \r\nL 52.734375 76.953125 \r\nL 51.5625 69.921875 \r\nL 78.125 69.921875 \r\nL 83.203125 75.390625 \r\nL 90.234375 67.578125 \r\nL 51.171875 67.578125 \r\nL 50 56.25 \r\nL 66.796875 56.25 \r\nL 69.53125 60.546875 \r\nL 75.78125 55.859375 \r\nL 72.65625 52.734375 \r\nL 72.65625 13.671875 \r\nL 82.8125 13.671875 \r\nL 88.671875 19.140625 \r\nL 95.703125 11.328125 \r\nL 17.96875 11.328125 \r\nQ 12.890625 11.328125 8.59375 10.15625 \r\nL 5.078125 13.671875 \r\nL 26.5625 13.671875 \r\nQ 26.5625 50 26.171875 58.984375 \r\nL 32.03125 56.25 \r\nz\r\nM 37.890625 11.328125 \r\nL 44.140625 5.46875 \r\nL 40.234375 4.6875 \r\nQ 23.4375 -6.640625 12.5 -10.15625 \r\nL 12.109375 -8.984375 \r\nQ 30.46875 1.953125 37.890625 11.328125 \r\nz\r\nM 59.375 10.9375 \r\nQ 71.484375 5.859375 77.53125 3.125 \r\nQ 83.59375 0.390625 84.375 -1.75 \r\nQ 85.15625 -3.90625 85.15625 -5.078125 \r\nQ 85.15625 -6.25 84.375 -8.203125 \r\nQ 83.59375 -10.15625 83.203125 -10.15625 \r\nQ 82.03125 -10.15625 79.6875 -7.03125 \r\nQ 76.171875 -2.34375 58.59375 9.765625 \r\nz\r\n\" id=\"SimSun-30495\"/>\r\n       <path d=\"M 30.859375 56.25 \r\nL 30.078125 50.390625 \r\nL 47.265625 50.390625 \r\nL 48.4375 56.25 \r\nz\r\nM 53.125 56.25 \r\nL 51.953125 50.390625 \r\nL 70.3125 50.390625 \r\nL 71.09375 56.25 \r\nz\r\nM 29.6875 48.046875 \r\nL 28.515625 41.796875 \r\nL 45.703125 41.796875 \r\nL 46.875 48.046875 \r\nz\r\nM 51.5625 48.046875 \r\nL 50.390625 41.796875 \r\nL 69.140625 41.796875 \r\nL 69.921875 48.046875 \r\nz\r\nM 25.390625 50.390625 \r\nQ 26.171875 56.25 26.5625 61.71875 \r\nL 31.25 58.59375 \r\nL 70.703125 58.59375 \r\nL 73.4375 61.71875 \r\nL 79.296875 57.421875 \r\nL 76.171875 55.078125 \r\nL 75.390625 50.390625 \r\nL 80.859375 50.390625 \r\nL 86.328125 55.859375 \r\nL 94.140625 48.046875 \r\nL 75 48.046875 \r\nL 73.828125 38.28125 \r\nL 68.359375 37.5 \r\nL 68.75 39.453125 \r\nL 28.515625 39.453125 \r\nL 26.5625 36.71875 \r\nL 21.875 40.234375 \r\nQ 23.4375 41.796875 23.828125 43.15625 \r\nQ 24.21875 44.53125 25 48.046875 \r\nL 18.75 48.046875 \r\nQ 13.671875 48.046875 9.375 46.875 \r\nL 5.859375 50.390625 \r\nz\r\nM 23.4375 3.90625 \r\nQ 23.828125 9.375 23.828125 19.71875 \r\nQ 23.828125 30.078125 23.4375 36.328125 \r\nL 28.90625 33.984375 \r\nL 70.3125 33.984375 \r\nL 73.046875 37.5 \r\nL 78.90625 32.8125 \r\nL 76.171875 30.46875 \r\nL 76.171875 15.625 \r\nQ 76.171875 12.109375 76.5625 6.25 \r\nL 71.09375 4.6875 \r\nL 71.09375 7.421875 \r\nL 28.90625 7.421875 \r\nL 28.90625 5.859375 \r\nz\r\nM 71.09375 26.171875 \r\nL 71.09375 31.640625 \r\nL 28.90625 31.640625 \r\nL 28.90625 26.171875 \r\nz\r\nM 71.09375 17.96875 \r\nL 71.09375 23.828125 \r\nL 28.90625 23.828125 \r\nL 28.90625 17.96875 \r\nz\r\nM 71.09375 9.765625 \r\nL 71.09375 15.625 \r\nL 28.90625 15.625 \r\nL 28.90625 9.765625 \r\nz\r\nM 55.859375 5.46875 \r\nQ 66.796875 3.125 72.265625 1.75 \r\nQ 77.734375 0.390625 81.046875 -1.75 \r\nQ 84.375 -3.90625 83.984375 -7.03125 \r\nQ 83.59375 -10.15625 82.421875 -10.15625 \r\nQ 81.25 -10.15625 79.296875 -8.59375 \r\nQ 75 -5.46875 70.890625 -2.921875 \r\nQ 66.796875 -0.390625 55.46875 4.296875 \r\nz\r\nM 44.53125 -0.390625 \r\nL 40.234375 -0.390625 \r\nQ 25.390625 -6.640625 10.546875 -9.765625 \r\nL 10.15625 -8.59375 \r\nQ 30.078125 -2.34375 39.453125 6.25 \r\nz\r\nM 42.96875 81.25 \r\nL 43.75 82.03125 \r\nQ 50 79.6875 52.53125 77.53125 \r\nQ 55.078125 75.390625 54.875 73.234375 \r\nQ 54.6875 71.09375 53.3125 69.921875 \r\nQ 51.953125 68.75 51.171875 68.75 \r\nQ 50 68.75 49.21875 71.875 \r\nQ 47.65625 76.171875 42.96875 81.25 \r\nz\r\nM 79.296875 56.25 \r\nL 82.421875 65.234375 \r\nL 20.3125 65.234375 \r\nQ 20.703125 61.328125 20.3125 59.5625 \r\nQ 19.921875 57.8125 18.359375 56.828125 \r\nQ 16.796875 55.859375 15.625 55.859375 \r\nQ 14.84375 55.859375 13.671875 56.046875 \r\nQ 12.5 56.25 12.5 57.03125 \r\nQ 12.5 58.203125 14.0625 60.15625 \r\nQ 16.40625 63.671875 18.359375 71.875 \r\nL 19.921875 71.875 \r\nL 20.3125 67.578125 \r\nL 81.25 67.578125 \r\nL 84.765625 71.09375 \r\nL 91.40625 64.453125 \r\nQ 86.328125 64.453125 80.46875 55.859375 \r\nz\r\n\" id=\"SimSun-23526\"/>\r\n       <path d=\"M 23.828125 10.15625 \r\nQ 23.828125 -3.515625 24.21875 -8.203125 \r\nL 18.359375 -10.15625 \r\nQ 18.75 3.90625 18.75 8.59375 \r\nL 18.75 47.265625 \r\nQ 11.71875 35.9375 5.078125 28.90625 \r\nL 3.90625 29.6875 \r\nQ 11.328125 41.015625 17.1875 55.078125 \r\nQ 23.046875 69.140625 26.171875 81.25 \r\nL 34.375 76.171875 \r\nL 30.46875 73.828125 \r\nQ 24.21875 59.375 22.265625 54.296875 \r\nL 26.953125 51.5625 \r\nL 23.828125 49.21875 \r\nz\r\nM 44.921875 50.390625 \r\nL 44.921875 38.671875 \r\nL 75 38.671875 \r\nL 75 50.390625 \r\nz\r\nM 44.921875 36.328125 \r\nL 44.921875 24.609375 \r\nL 75 24.609375 \r\nL 75 36.328125 \r\nz\r\nM 44.921875 22.265625 \r\nL 44.921875 10.546875 \r\nL 75 10.546875 \r\nL 75 22.265625 \r\nz\r\nM 44.921875 8.203125 \r\nL 44.921875 -3.515625 \r\nL 75 -3.515625 \r\nL 75 8.203125 \r\nz\r\nM 55.46875 66.40625 \r\nQ 55.859375 75.390625 55.46875 81.640625 \r\nL 64.453125 77.34375 \r\nL 61.328125 75 \r\nL 60.9375 66.40625 \r\nL 78.515625 66.40625 \r\nL 83.59375 71.484375 \r\nL 91.015625 64.0625 \r\nL 60.9375 64.0625 \r\nL 60.546875 52.734375 \r\nL 74.21875 52.734375 \r\nL 77.734375 56.640625 \r\nL 83.59375 51.5625 \r\nL 80.078125 49.21875 \r\nL 80.078125 -3.515625 \r\nL 83.59375 -3.515625 \r\nL 88.671875 1.5625 \r\nL 96.09375 -5.859375 \r\nL 38.28125 -5.859375 \r\nQ 33.203125 -5.859375 28.90625 -7.03125 \r\nL 25.390625 -3.515625 \r\nL 39.84375 -3.515625 \r\nL 39.84375 39.84375 \r\nQ 39.84375 44.53125 39.453125 55.859375 \r\nL 44.921875 52.734375 \r\nL 55.078125 52.734375 \r\nL 55.46875 64.0625 \r\nL 43.75 64.0625 \r\nQ 38.671875 64.0625 34.375 62.890625 \r\nL 30.859375 66.40625 \r\nz\r\n\" id=\"SimSun-20540\"/>\r\n       <path d=\"M 38.28125 8.59375 \r\nQ 29.296875 1.953125 23.828125 -1.171875 \r\nQ 18.359375 -4.296875 6.640625 -9.765625 \r\nL 5.859375 -8.203125 \r\nQ 14.453125 -3.125 21.875 2.921875 \r\nQ 29.296875 8.984375 34.375 16.015625 \r\nL 42.96875 9.375 \r\nz\r\nM 61.71875 14.84375 \r\nQ 80.859375 7.421875 85.15625 5.265625 \r\nQ 89.453125 3.125 90.421875 0.96875 \r\nQ 91.40625 -1.171875 91.40625 -2.734375 \r\nQ 91.40625 -4.296875 90.625 -6.046875 \r\nQ 89.84375 -7.8125 89.0625 -7.8125 \r\nQ 87.890625 -7.8125 86.328125 -5.859375 \r\nQ 83.203125 -2.34375 78.515625 1.75 \r\nQ 73.828125 5.859375 60.546875 13.671875 \r\nz\r\nM 85.9375 67.96875 \r\nQ 85.15625 53.90625 84.375 20.703125 \r\nL 89.453125 25.390625 \r\nL 95.703125 18.359375 \r\nL 17.96875 18.359375 \r\nQ 14.0625 18.359375 9.375 16.796875 \r\nL 5.078125 21.09375 \r\nL 15.625 21.09375 \r\nQ 15.625 35.15625 15.03125 50 \r\nQ 14.453125 64.84375 13.671875 74.609375 \r\nL 20.3125 71.09375 \r\nQ 27.734375 73.4375 33.984375 77.34375 \r\nL 39.0625 71.484375 \r\nQ 34.765625 71.484375 30.46875 70.890625 \r\nQ 26.171875 70.3125 19.921875 69.140625 \r\nQ 19.921875 63.671875 20.3125 56.25 \r\nL 26.953125 56.25 \r\nL 30.859375 60.15625 \r\nL 36.71875 53.90625 \r\nL 20.3125 53.90625 \r\nQ 20.3125 50 20.703125 37.5 \r\nL 27.34375 37.5 \r\nL 31.640625 41.796875 \r\nL 37.890625 35.15625 \r\nL 20.703125 35.15625 \r\nQ 21.09375 25 21.09375 20.703125 \r\nL 57.421875 20.703125 \r\nQ 57.8125 34.375 58.203125 50.78125 \r\nL 47.265625 50.78125 \r\nL 43.75 47.65625 \r\nL 38.28125 52.34375 \r\nL 41.40625 55.078125 \r\nL 41.40625 81.640625 \r\nL 50.390625 77.34375 \r\nL 46.484375 75.390625 \r\nL 46.484375 67.578125 \r\nL 56.25 67.578125 \r\nL 60.15625 71.875 \r\nL 66.40625 65.234375 \r\nL 46.484375 65.234375 \r\nL 46.484375 53.125 \r\nL 56.25 53.125 \r\nL 60.546875 57.03125 \r\nL 66.40625 51.171875 \r\nL 63.28125 49.21875 \r\nQ 62.890625 42.1875 62.5 20.703125 \r\nL 78.90625 20.703125 \r\nQ 79.296875 26.5625 79.6875 35.15625 \r\nQ 74.609375 35.15625 70.3125 33.984375 \r\nL 66.796875 37.5 \r\nL 79.6875 37.5 \r\nQ 79.6875 42.96875 80.078125 53.90625 \r\nQ 75 53.90625 70.703125 52.734375 \r\nL 67.1875 56.25 \r\nL 80.078125 56.25 \r\nQ 80.078125 61.71875 80.46875 69.53125 \r\nL 74.21875 69.53125 \r\nQ 71.09375 69.53125 66.796875 68.359375 \r\nL 63.28125 71.875 \r\nL 78.90625 71.875 \r\nL 82.8125 76.5625 \r\nL 89.453125 70.3125 \r\nz\r\nM 40.234375 20.703125 \r\nL 40.234375 44.921875 \r\nL 48.4375 41.015625 \r\nL 45.3125 38.28125 \r\nL 45.3125 20.703125 \r\nz\r\n\" id=\"SimSun-33287\"/>\r\n       <path d=\"M 30.859375 9.375 \r\nQ 43.75 24.609375 42.578125 48.828125 \r\nQ 42.578125 66.40625 42.1875 73.828125 \r\nL 48.046875 69.921875 \r\nQ 56.25 71.09375 66.59375 73.625 \r\nQ 76.953125 76.171875 80.46875 79.296875 \r\nL 85.9375 71.875 \r\nL 82.03125 72.265625 \r\nQ 60.546875 68.75 47.65625 67.96875 \r\nL 47.65625 49.21875 \r\nL 82.421875 49.21875 \r\nL 87.109375 53.90625 \r\nL 93.75 46.875 \r\nL 73.4375 46.875 \r\nQ 73.4375 17.578125 73.828125 7.421875 \r\nL 67.96875 4.6875 \r\nQ 68.359375 14.84375 68.359375 46.875 \r\nL 47.65625 46.875 \r\nQ 48.828125 21.875 31.640625 8.203125 \r\nz\r\nM 12.890625 78.125 \r\nL 13.671875 78.90625 \r\nQ 20.703125 74.609375 23.828125 71.671875 \r\nQ 26.953125 68.75 26.5625 66.203125 \r\nQ 26.171875 63.671875 24.796875 62.5 \r\nQ 23.4375 61.328125 22.65625 61.328125 \r\nQ 21.09375 61.328125 19.921875 66.015625 \r\nQ 18.359375 71.875 12.890625 78.125 \r\nz\r\nM 24.609375 12.109375 \r\nQ 28.125 8.59375 34.375 4.875 \r\nQ 40.625 1.171875 52.53125 0.78125 \r\nQ 64.453125 0.390625 75.1875 0.78125 \r\nQ 85.9375 1.171875 96.09375 1.953125 \r\nL 96.09375 0.390625 \r\nQ 87.890625 -1.5625 87.890625 -5.46875 \r\nQ 69.921875 -5.46875 58.203125 -5.078125 \r\nQ 46.484375 -4.6875 40.03125 -2.140625 \r\nQ 33.59375 0.390625 28.90625 5.078125 \r\nQ 23.828125 9.765625 22.65625 10.34375 \r\nQ 21.484375 10.9375 17.578125 6.640625 \r\nQ 13.671875 2.34375 9.375 -4.296875 \r\nL 3.90625 0.78125 \r\nQ 11.71875 6.25 19.53125 12.109375 \r\nL 19.53125 45.703125 \r\nL 16.40625 45.703125 \r\nQ 11.328125 45.703125 7.03125 44.53125 \r\nL 3.515625 48.046875 \r\nL 18.359375 48.046875 \r\nL 22.65625 52.34375 \r\nL 28.125 46.875 \r\nL 24.609375 44.53125 \r\nz\r\n\" id=\"SimSun-36817\"/>\r\n       <path d=\"M 42.578125 14.453125 \r\nQ 53.515625 20.703125 63.28125 26.5625 \r\nL 64.0625 25 \r\nQ 44.53125 10.15625 41.015625 4.296875 \r\nL 35.9375 9.375 \r\nQ 37.5 10.546875 37.5 15.234375 \r\nL 37.5 55.859375 \r\nQ 37.5 58.59375 37.109375 67.96875 \r\nL 45.703125 63.671875 \r\nL 42.578125 60.9375 \r\nz\r\nM 53.515625 67.1875 \r\nQ 63.671875 57.8125 64.640625 55.265625 \r\nQ 65.625 52.734375 65.625 51.171875 \r\nQ 65.625 48.4375 63.859375 46.484375 \r\nQ 62.109375 44.53125 61.328125 44.53125 \r\nQ 59.765625 44.53125 59.375 49.21875 \r\nQ 58.203125 55.859375 52.34375 66.40625 \r\nz\r\nM 35.15625 -8.203125 \r\nQ 51.5625 -3.515625 61.515625 5.859375 \r\nQ 71.484375 15.234375 74.609375 27.53125 \r\nQ 77.734375 39.84375 78.3125 53.3125 \r\nQ 78.90625 66.796875 78.515625 77.34375 \r\nL 88.28125 73.046875 \r\nL 84.765625 69.921875 \r\nQ 84.375 49.609375 83.203125 38.859375 \r\nQ 82.03125 28.125 78.515625 19.140625 \r\nQ 85.15625 14.84375 90.421875 9.953125 \r\nQ 95.703125 5.078125 95.3125 1.359375 \r\nQ 94.921875 -2.34375 93.546875 -3.515625 \r\nQ 92.1875 -4.6875 91.40625 -4.6875 \r\nQ 90.234375 -4.6875 89.453125 -1.953125 \r\nQ 88.28125 1.953125 84.5625 8 \r\nQ 80.859375 14.0625 77.734375 17.1875 \r\nQ 71.484375 6.25 60.734375 0 \r\nQ 50 -6.25 35.9375 -9.765625 \r\nz\r\nM 19.140625 -9.765625 \r\nQ 19.53125 2.34375 19.53125 6.640625 \r\nL 19.53125 51.953125 \r\nQ 12.890625 40.625 4.6875 32.03125 \r\nL 3.515625 32.8125 \r\nQ 11.328125 44.53125 16.015625 55.46875 \r\nQ 20.703125 66.40625 25.390625 81.640625 \r\nL 33.984375 76.953125 \r\nQ 30.859375 76.171875 27.734375 69.53125 \r\nQ 24.609375 62.5 21.484375 56.25 \r\nL 28.125 52.34375 \r\nL 25 49.609375 \r\nL 25 -7.03125 \r\nz\r\n\" id=\"SimSun-20284\"/>\r\n       <path d=\"M 17.578125 58.984375 \r\nL 17.578125 33.984375 \r\nL 37.890625 33.984375 \r\nL 37.890625 58.984375 \r\nz\r\nM 17.578125 31.640625 \r\nL 17.578125 4.296875 \r\nL 37.890625 4.296875 \r\nL 37.890625 31.640625 \r\nz\r\nM 42.96875 56.640625 \r\nQ 42.96875 10.9375 43.359375 -3.125 \r\nL 37.890625 -6.25 \r\nL 37.890625 1.953125 \r\nL 17.578125 1.953125 \r\nL 17.578125 -4.6875 \r\nL 12.109375 -7.8125 \r\nQ 12.5 10.546875 12.5 28.703125 \r\nQ 12.5 46.875 12.109375 64.84375 \r\nL 17.96875 61.328125 \r\nL 21.875 61.328125 \r\nQ 25.78125 74.609375 26.171875 81.640625 \r\nL 34.765625 76.953125 \r\nQ 30.859375 75 24.21875 61.328125 \r\nL 37.109375 61.328125 \r\nL 41.015625 65.234375 \r\nL 46.875 59.375 \r\nz\r\nM 62.109375 81.25 \r\nL 70.703125 76.171875 \r\nQ 67.578125 74.21875 60.9375 60.15625 \r\nL 82.03125 60.15625 \r\nL 86.328125 64.453125 \r\nL 92.1875 58.59375 \r\nL 88.671875 55.859375 \r\nQ 87.890625 10.15625 86.515625 4.09375 \r\nQ 85.15625 -1.953125 82.609375 -4.296875 \r\nQ 80.078125 -6.640625 74.609375 -8.59375 \r\nQ 72.65625 -2.34375 61.71875 0.78125 \r\nL 61.71875 2.734375 \r\nQ 71.484375 0.78125 75.78125 0.78125 \r\nQ 80.078125 0.78125 81.046875 7.421875 \r\nQ 82.03125 14.0625 82.8125 57.8125 \r\nL 60.15625 57.8125 \r\nQ 53.125 46.484375 45.3125 38.671875 \r\nL 44.140625 39.453125 \r\nQ 52.34375 51.953125 56.25 61.71875 \r\nQ 60.15625 71.484375 62.109375 81.25 \r\nz\r\nM 55.078125 42.96875 \r\nQ 64.453125 35.9375 66.015625 32.609375 \r\nQ 67.578125 29.296875 67.578125 27.734375 \r\nQ 67.578125 25 66.015625 23.046875 \r\nQ 64.453125 21.09375 63.671875 21.09375 \r\nQ 62.109375 21.09375 61.328125 26.5625 \r\nQ 59.765625 34.375 54.296875 41.796875 \r\nz\r\n\" id=\"SimSun-30340\"/>\r\n       <path d=\"M 52.34375 73.046875 \r\nL 52.34375 53.515625 \r\nL 80.078125 53.515625 \r\nL 80.078125 73.046875 \r\nz\r\nM 47.265625 46.484375 \r\nL 47.265625 78.515625 \r\nL 52.34375 75.390625 \r\nL 79.296875 75.390625 \r\nL 82.421875 79.296875 \r\nL 88.28125 74.21875 \r\nL 85.15625 71.875 \r\nL 85.15625 49.609375 \r\nL 80.078125 47.65625 \r\nL 80.078125 51.171875 \r\nL 52.34375 51.171875 \r\nL 52.34375 48.4375 \r\nz\r\nM 43.75 40.234375 \r\nL 79.296875 40.234375 \r\nL 83.59375 44.53125 \r\nL 89.84375 37.890625 \r\nL 68.75 37.890625 \r\nQ 68.359375 31.25 67.1875 23.046875 \r\nL 82.8125 23.046875 \r\nL 88.28125 28.125 \r\nL 95.3125 20.703125 \r\nL 70.3125 20.703125 \r\nQ 77.34375 1.953125 96.09375 -2.734375 \r\nL 95.703125 -4.296875 \r\nQ 88.671875 -4.296875 87.5 -8.203125 \r\nQ 71.875 0.390625 68.359375 20.703125 \r\nL 66.796875 20.703125 \r\nQ 62.109375 -1.5625 35.9375 -9.375 \r\nL 35.546875 -8.203125 \r\nQ 57.03125 2.734375 61.328125 20.703125 \r\nL 50 20.703125 \r\nQ 46.875 20.703125 42.578125 19.53125 \r\nL 39.0625 23.046875 \r\nL 61.71875 23.046875 \r\nQ 62.890625 33.59375 62.890625 37.890625 \r\nL 54.6875 37.890625 \r\nQ 51.5625 37.890625 47.265625 36.71875 \r\nz\r\nM 15.234375 80.078125 \r\nL 15.625 81.640625 \r\nQ 24.21875 77.734375 25.578125 75.578125 \r\nQ 26.953125 73.4375 26.953125 71.875 \r\nQ 26.953125 69.53125 23.828125 66.796875 \r\nL 32.421875 66.796875 \r\nL 36.71875 70.703125 \r\nL 42.96875 64.453125 \r\nL 15.234375 64.453125 \r\nQ 12.109375 64.453125 7.8125 63.28125 \r\nL 4.296875 66.796875 \r\nL 21.875 66.796875 \r\nQ 21.09375 70.703125 19.71875 73.234375 \r\nQ 18.359375 75.78125 15.234375 80.078125 \r\nz\r\nM 14.453125 22.265625 \r\nL 14.453125 4.296875 \r\nL 30.859375 4.296875 \r\nL 30.859375 22.265625 \r\nz\r\nM 8.203125 52.734375 \r\nL 28.125 52.734375 \r\nL 32.03125 56.25 \r\nL 37.890625 50.390625 \r\nL 19.140625 50.390625 \r\nQ 16.015625 50.390625 11.71875 49.21875 \r\nz\r\nM 8.203125 38.28125 \r\nL 28.125 38.28125 \r\nL 32.03125 41.796875 \r\nL 37.5 35.9375 \r\nL 19.140625 35.9375 \r\nQ 16.015625 35.9375 11.71875 34.765625 \r\nz\r\nM 8.984375 27.734375 \r\nL 15.234375 24.609375 \r\nL 30.078125 24.609375 \r\nL 33.203125 28.125 \r\nL 38.28125 23.046875 \r\nL 35.9375 20.703125 \r\nQ 35.9375 3.90625 36.328125 -2.734375 \r\nL 30.859375 -5.46875 \r\nL 30.859375 1.953125 \r\nL 14.453125 1.953125 \r\nL 14.453125 -5.46875 \r\nL 8.984375 -7.8125 \r\nQ 9.375 -4.296875 9.375 9.5625 \r\nQ 9.375 23.4375 8.984375 27.734375 \r\nz\r\n\" id=\"SimSun-35492\"/>\r\n       <path d=\"M 25 79.6875 \r\nL 25.78125 80.859375 \r\nQ 35.9375 76.953125 37.5 74.609375 \r\nQ 39.0625 72.265625 39.0625 70.703125 \r\nQ 39.0625 68.75 38.078125 66.984375 \r\nQ 37.109375 65.234375 36.328125 65.234375 \r\nQ 35.15625 65.234375 33.984375 68.359375 \r\nQ 31.640625 73.4375 25 79.6875 \r\nz\r\nM 50 61.328125 \r\nQ 48.4375 53.90625 47.265625 49.609375 \r\nL 72.65625 49.609375 \r\nL 77.734375 54.6875 \r\nL 85.15625 47.265625 \r\nL 46.875 47.265625 \r\nQ 45.3125 41.796875 42.578125 35.546875 \r\nL 79.296875 35.546875 \r\nL 85.546875 41.796875 \r\nL 94.140625 33.203125 \r\nL 41.796875 33.203125 \r\nQ 29.6875 10.546875 5.46875 -3.125 \r\nL 5.078125 -1.5625 \r\nQ 25.78125 12.890625 36.328125 33.203125 \r\nL 14.84375 33.203125 \r\nL 9.375 32.421875 \r\nL 6.25 35.546875 \r\nL 37.109375 35.546875 \r\nQ 39.453125 41.40625 41.40625 47.265625 \r\nL 24.21875 47.265625 \r\nL 19.140625 46.484375 \r\nL 16.015625 49.609375 \r\nL 41.796875 49.609375 \r\nQ 43.359375 55.859375 44.140625 61.328125 \r\nL 19.53125 61.328125 \r\nL 14.0625 60.546875 \r\nL 10.9375 63.671875 \r\nL 58.59375 63.671875 \r\nQ 65.625 76.953125 66.40625 82.03125 \r\nL 75 76.953125 \r\nQ 71.09375 76.5625 60.9375 63.671875 \r\nL 78.90625 63.671875 \r\nL 84.765625 69.53125 \r\nL 92.96875 61.328125 \r\nz\r\nM 33.59375 19.921875 \r\nL 72.65625 19.921875 \r\nL 77.34375 24.609375 \r\nL 84.375 17.578125 \r\nL 60.15625 17.578125 \r\nL 60.15625 -2.734375 \r\nL 81.25 -2.734375 \r\nL 86.71875 2.734375 \r\nL 94.53125 -5.078125 \r\nL 32.03125 -5.078125 \r\nQ 26.953125 -5.078125 22.65625 -6.25 \r\nL 19.140625 -2.734375 \r\nL 54.6875 -2.734375 \r\nL 54.6875 17.578125 \r\nL 41.015625 17.578125 \r\nL 36.71875 16.796875 \r\nz\r\n\" id=\"SimSun-24046\"/>\r\n      </defs>\r\n      <use xlink:href=\"#SimSun-30495\"/>\r\n      <use x=\"100\" xlink:href=\"#SimSun-23526\"/>\r\n      <use x=\"200\" xlink:href=\"#SimSun-20540\"/>\r\n      <use x=\"300\" xlink:href=\"#SimSun-33287\"/>\r\n      <use x=\"400\" xlink:href=\"#SimSun-36817\"/>\r\n      <use x=\"500\" xlink:href=\"#SimSun-20284\"/>\r\n      <use x=\"600\" xlink:href=\"#SimSun-20540\"/>\r\n      <use x=\"700\" xlink:href=\"#SimSun-30340\"/>\r\n      <use x=\"800\" xlink:href=\"#SimSun-35492\"/>\r\n      <use x=\"900\" xlink:href=\"#SimSun-24046\"/>\r\n     </g>\r\n    </g>\r\n   </g>\r\n   <g id=\"line2d_13\">\r\n    <path clip-path=\"url(#pcc79e0b994)\" d=\"M 67.675994 14.76 \r\nL 70.750374 149.227018 \r\nL 73.824755 164.855552 \r\nL 76.899135 90.35926 \r\nL 79.973515 155.366031 \r\nL 83.047895 105.539522 \r\nL 86.122275 113.370235 \r\nL 89.196655 157.592769 \r\nL 92.271036 146.085205 \r\nL 95.345416 115.230578 \r\nL 98.419796 158.917931 \r\nL 101.494176 165.407037 \r\nL 104.568556 155.6314 \r\nL 107.642936 142.173517 \r\nL 110.717317 131.981817 \r\nL 113.791697 128.158891 \r\nL 116.866077 131.130223 \r\nL 119.940457 139.474675 \r\nL 123.014837 150.499991 \r\nL 126.089217 160.662276 \r\nL 129.163598 153.743264 \r\nL 132.237978 146.493752 \r\nL 135.312358 140.226377 \r\nL 138.386738 135.749022 \r\nL 141.461118 133.475792 \r\nL 144.535498 133.506876 \r\nL 147.609879 135.686247 \r\nL 150.684259 139.664378 \r\nL 153.758639 144.936704 \r\nL 156.833019 150.872537 \r\nL 159.907399 156.748557 \r\nL 162.981779 161.775645 \r\nL 166.05616 165.10395 \r\nL 169.13054 165.855158 \r\nL 172.20492 163.13256 \r\nL 175.2793 156.021863 \r\nL 178.35368 143.611725 \r\nL 181.42806 139.78416 \r\nL 184.502441 140.555153 \r\nL 187.576821 140.594549 \r\nL 190.651201 148.583211 \r\nL 193.725581 154.710962 \r\nL 196.799961 159.247143 \r\nL 199.874341 162.438226 \r\nL 202.948722 164.495735 \r\nL 206.023102 165.612378 \r\nL 209.097482 165.96 \r\nL 212.171862 165.682779 \r\nL 215.246242 164.918773 \r\nL 218.320622 163.783744 \r\nL 221.395003 162.378909 \r\nL 224.469383 160.79496 \r\nL 227.543763 159.109702 \r\nL 230.618143 157.389122 \r\nL 233.692523 155.691941 \r\nL 236.766903 154.066019 \r\nL 239.841284 152.550934 \r\nL 242.915664 151.178693 \r\nL 245.990044 149.979745 \r\nL 249.064424 148.970169 \r\nL 252.138804 148.166497 \r\nL 255.213184 147.578169 \r\nL 258.287565 147.207973 \r\nL 261.361945 147.058706 \r\nL 264.436325 147.126398 \r\nL 267.510705 147.403338 \r\nL 270.585085 147.880164 \r\nL 273.659465 148.544372 \r\nL 276.733846 149.378792 \r\nL 279.808226 150.367186 \r\nL 282.882606 151.486442 \r\nL 285.956986 152.716598 \r\nL 289.031366 154.032107 \r\nL 292.105746 155.408265 \r\nL 295.180127 156.816018 \r\nL 298.254507 158.229256 \r\nL 301.328887 159.616027 \r\nL 304.403267 160.946703 \r\nL 307.477647 162.188747 \r\nL 310.552027 163.310399 \r\nL 313.626408 162.50804 \r\nL 316.700788 161.653109 \r\nL 319.775168 160.762326 \r\nL 322.849548 159.850892 \r\nL 325.923928 158.929888 \r\nL 328.998308 158.010818 \r\nL 332.072689 157.107466 \r\nL 335.147069 156.226136 \r\nL 338.221449 155.37733 \r\nL 341.295829 154.56776 \r\nL 344.370209 153.80309 \r\nL 347.444589 153.092449 \r\nL 350.51897 152.43687 \r\nL 353.59335 151.844517 \r\nL 356.66773 151.315551 \r\nL 359.74211 150.853771 \r\nL 362.81649 150.462197 \r\nL 365.89087 150.141312 \r\nL 368.965251 149.893566 \r\nL 372.039631 149.717156 \r\n\" style=\"fill:none;stroke:#1f77b4;stroke-linecap:square;stroke-width:2;\"/>\r\n   </g>\r\n   <g id=\"patch_3\">\r\n    <path d=\"M 52.457813 173.52 \r\nL 52.457813 7.2 \r\n\" style=\"fill:none;stroke:#000000;stroke-linecap:square;stroke-linejoin:miter;stroke-width:0.8;\"/>\r\n   </g>\r\n   <g id=\"patch_4\">\r\n    <path d=\"M 387.257812 173.52 \r\nL 387.257812 7.2 \r\n\" style=\"fill:none;stroke:#000000;stroke-linecap:square;stroke-linejoin:miter;stroke-width:0.8;\"/>\r\n   </g>\r\n   <g id=\"patch_5\">\r\n    <path d=\"M 52.457813 173.52 \r\nL 387.257812 173.52 \r\n\" style=\"fill:none;stroke:#000000;stroke-linecap:square;stroke-linejoin:miter;stroke-width:0.8;\"/>\r\n   </g>\r\n   <g id=\"patch_6\">\r\n    <path d=\"M 52.457813 7.2 \r\nL 387.257812 7.2 \r\n\" style=\"fill:none;stroke:#000000;stroke-linecap:square;stroke-linejoin:miter;stroke-width:0.8;\"/>\r\n   </g>\r\n  </g>\r\n </g>\r\n <defs>\r\n  <clipPath id=\"pcc79e0b994\">\r\n   <rect height=\"166.32\" width=\"334.8\" x=\"52.457813\" y=\"7.2\"/>\r\n  </clipPath>\r\n </defs>\r\n</svg>\r\n",
      "text/plain": [
       "<Figure size 600x300 with 1 Axes>"
      ]
     },
     "metadata": {},
     "output_type": "display_data"
    }
   ],
   "source": [
    "#%figonly=雷神之錘中計算平方根倒數算法的絕對誤差\n",
    "# import pylab as pl\n",
    "# pl.plot(number, 1/np.sqrt(number) - y, lw=2)\n",
    "# pl.ylabel(u\"真實值與近似值的誤差\");\n",
    "plt.plot(number, 1/np.sqrt(number) - y, lw=2)\n",
    "plt.ylabel(u\"真實值與近似值的誤差\");"
   ]
  },
  {
   "cell_type": "markdown",
   "metadata": {},
   "source": [
    "除了使用切片從同一塊資料區建立不同的 `shape` 和 `strides` 的陣列物件之外，還可以直接設定這些屬性，進一步獲得用切片實現不了的效果，例如："
   ]
  },
  {
   "cell_type": "code",
   "execution_count": 95,
   "metadata": {
    "collapsed": false
   },
   "outputs": [
    {
     "name": "stdout",
     "output_type": "stream",
     "text": [
      "        a                b     \n",
      "------------------  -----------\n",
      "[0, 1, 2, 3, 4, 5]  [[0, 1, 2],\n",
      "                     [1, 2, 3],\n",
      "                     [2, 3, 4],\n",
      "                     [3, 4, 5]]\n"
     ]
    }
   ],
   "source": [
    "from numpy.lib.stride_tricks import as_strided\n",
    "a = np.arange(6)\n",
    "b = as_strided(a, shape=(4, 3), strides=(4, 4))\n",
    "%C a; b"
   ]
  },
  {
   "cell_type": "markdown",
   "metadata": {},
   "source": [
    "這實例中，從 numpy 的輔助模組中載入了 `as_strided()` 函數，並使用它從一個長度為 6 的一維陣列 a 建立了一個 `shape` 為 (4,3) 的二維陣列 b。由於透過 `strides` 參數直接指定了陣列 b 的 `strides` 屬性，因此不僅陣列 b 與 a 共用資料區，而且 b 中的前後兩行有兩個元素是重合的。例如下面修改 `a[2]` 的值，b 中的前行三行中對應的元素也發生改變："
   ]
  },
  {
   "cell_type": "code",
   "execution_count": 96,
   "metadata": {
    "collapsed": false
   },
   "outputs": [
    {
     "data": {
      "text/plain": [
       "array([[ 0,  1, 20],\n",
       "       [ 1, 20,  3],\n",
       "       [20,  3,  4],\n",
       "       [ 3,  4,  5]])"
      ]
     },
     "execution_count": 96,
     "metadata": {},
     "output_type": "execute_result"
    }
   ],
   "source": [
    "a[2] = 20\n",
    "b"
   ]
  },
  {
   "cell_type": "markdown",
   "metadata": {},
   "source": [
    "> 需要注意：使用 `as_strided()` 時 numpy 不會進行記憶體越界檢查，因此 `shape` 和 `strides` 設定不當可能會發生意想不到的錯誤。"
   ]
  },
  {
   "cell_type": "code",
   "execution_count": null,
   "metadata": {
    "collapsed": true
   },
   "outputs": [],
   "source": []
  }
 ],
 "metadata": {
  "anaconda-cloud": {},
  "kernelspec": {
   "display_name": "Python 3",
   "language": "python",
   "name": "python3"
  },
  "language_info": {
   "codemirror_mode": {
    "name": "ipython",
    "version": 3
   },
   "file_extension": ".py",
   "mimetype": "text/x-python",
   "name": "python",
   "nbconvert_exporter": "python",
   "pygments_lexer": "ipython3",
   "version": "3.7.6"
  }
 },
 "nbformat": 4,
 "nbformat_minor": 0
}
