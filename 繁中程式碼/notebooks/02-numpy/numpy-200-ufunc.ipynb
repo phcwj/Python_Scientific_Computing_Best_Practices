{
 "cells": [
  {
   "cell_type": "code",
   "execution_count": 4,
   "metadata": {},
   "outputs": [
    {
     "name": "stderr",
     "output_type": "stream",
     "text": [
      "D:\\Program_File\\VSCode_Portable\\workon_env\\pyElan\\lib\\site-packages\\setuptools\\distutils_patch.py:25: UserWarning: Distutils was imported before Setuptools. This usage is discouraged and may exhibit undesirable behaviors or errors. Please use Setuptools' objects directly or at least import Setuptools first.\n",
      "  warnings.warn(\n",
      "d:\\09_Work\\Jun_Workspace\\Python_Scientific_Computing_Best_Practices\\繁中程式碼\\codes\\scpy2\\utils\\program_finder.py:25: UserWarning: Inkscape not found\n",
      "  warnings.warn(\"Inkscape not found\")\n"
     ]
    }
   ],
   "source": [
    "import sys, os\n",
    "sys.path.append(os.path.abspath(os.path.join(os.getcwd(), \"../../codes/\")))\n",
    "sys.path.append(os.path.abspath(os.path.join(os.getcwd(), \"../../codes/scpy2/\")))\n",
    "\n",
    "from scpy2.utils.nbmagics import install_magics\n",
    "install_magics()\n",
    "del install_magics"
   ]
  },
  {
   "cell_type": "code",
   "execution_count": 5,
   "metadata": {
    "collapsed": false
   },
   "outputs": [],
   "source": [
    "%matplotlib_svg\n",
    "import numpy as np"
   ]
  },
  {
   "cell_type": "markdown",
   "metadata": {},
   "source": [
    "## ufunc函數\n",
    "\n",
    "ufunc 是 universal function 的縮寫，它是一種能對陣列的每個元素進行運算的函數。numpy 內建的多 ufunc 函數都是 C 語言實現的，因此它們的計算速度非常快。"
   ]
  },
  {
   "cell_type": "code",
   "execution_count": 6,
   "metadata": {
    "collapsed": false
   },
   "outputs": [
    {
     "data": {
      "text/plain": [
       "array([ 0.00000000e+00,  6.42787610e-01,  9.84807753e-01,  8.66025404e-01,\n",
       "        3.42020143e-01, -3.42020143e-01, -8.66025404e-01, -9.84807753e-01,\n",
       "       -6.42787610e-01, -2.44929360e-16])"
      ]
     },
     "execution_count": 6,
     "metadata": {},
     "output_type": "execute_result"
    }
   ],
   "source": [
    "x = np.linspace(0, 2*np.pi, 10)\n",
    "y = np.sin(x)\n",
    "y"
   ]
  },
  {
   "cell_type": "markdown",
   "metadata": {},
   "source": [
    "`np.sin()` 是一個 ufunc 函數，其內部對陣列 x 的每個元素進行循環運算，並傳回一個儲存各個計算結果的陣列。運算之後陣列 x 中的值並沒有改變，而是新建立了一個陣列來儲存結果。也可以透過 `out` 參數指定儲存計算結果的陣列。因此如果希望直接在陣列 x 中儲存結果，可以將它傳遞給 `out` 參數："
   ]
  },
  {
   "cell_type": "code",
   "execution_count": 7,
   "metadata": {
    "collapsed": false
   },
   "outputs": [
    {
     "data": {
      "text/plain": [
       "True"
      ]
     },
     "execution_count": 7,
     "metadata": {},
     "output_type": "execute_result"
    }
   ],
   "source": [
    "t = np.sin(x, out=x)\n",
    "t is x"
   ]
  },
  {
   "cell_type": "markdown",
   "metadata": {},
   "source": [
    "ufunc 函數的傳回值仍然是計算的結果，只不過它就是陣列 x 。下面比較 `np.sin()` 和 python 標準函數庫的 `math.sin()` 的計算速度："
   ]
  },
  {
   "cell_type": "code",
   "execution_count": 9,
   "metadata": {
    "collapsed": false
   },
   "outputs": [
    {
     "name": "stdout",
     "output_type": "stream",
     "text": [
      "Wall time: 158 ms\n",
      "Wall time: 4.99 ms\n",
      "Wall time: 710 ms\n"
     ]
    }
   ],
   "source": [
    "import math\n",
    "\n",
    "x = [i * 0.001 for i in range(1000000)]\n",
    "\n",
    "def sin_math(x):\n",
    "    for i, t in enumerate(x):\n",
    "        x[i] = math.sin(t)\n",
    "\n",
    "def sin_numpy(x):\n",
    "    np.sin(x, x)\n",
    "\n",
    "def sin_numpy_loop(x):\n",
    "    for i, t in enumerate(x):\n",
    "        x[i] = np.sin(t)\n",
    "\n",
    "xl = x[:]\n",
    "%time sin_math(x)\n",
    "\n",
    "xa = np.array(x)\n",
    "%time sin_numpy(xa)\n",
    "\n",
    "xl = x[:]\n",
    "%time sin_numpy_loop(x)"
   ]
  },
  {
   "cell_type": "markdown",
   "metadata": {},
   "source": [
    "可以看出，`np.sin()` 比 `math.sin()` 快 10 倍多，這得益於 `np.sin()` 在 C 語言等級的循環計算。"
   ]
  },
  {
   "cell_type": "markdown",
   "metadata": {},
   "source": [
    "> `列表推導式比循環更快`  \n",
    "> 標準 python 中有比 for 循環更快的方案：使用列推導式 `x=[math.sin(t) for t in x]` 。但是列表推導式將產生一個新的列表，而非直接修改原清單中的元素。"
   ]
  },
  {
   "cell_type": "markdown",
   "metadata": {},
   "source": [
    "`np.sin()` 同樣也支援計算單一數值的正弦值。不過值得注意的是，對單一數值的計算，`math.sin()` 則比 `np.sin()` 快很多。在 python 等級進行循環時，`np.sin()` 的計算速度只有 `math.sin()` 的 1/6。這是因為: `np.sin()` 為了同時支援陣列和單一數值的計算，其 C 語言的內部實現要比 `math.sin()` 複雜很多。此外，對於單一數值的計算，`np.sin()` 的傳回數值型態和 `math.sin()` 的不同，`math.sin()` 傳回的是 python 的標準 float 類型，`np.sin()` 傳回 np.float64 類型："
   ]
  },
  {
   "cell_type": "code",
   "execution_count": 10,
   "metadata": {
    "collapsed": false
   },
   "outputs": [
    {
     "name": "stdout",
     "output_type": "stream",
     "text": [
      "type(math.sin(0.5))  type(np.sin(0.5))\n",
      "-------------------  -----------------\n",
      "float                numpy.float64    \n"
     ]
    }
   ],
   "source": [
    "%C type(math.sin(0.5)); type(np.sin(0.5))"
   ]
  },
  {
   "cell_type": "markdown",
   "metadata": {},
   "source": [
    "透過索引運算取得的陣列元素的類型為 numpy 中定義的類型，將其轉為 python 的標準類型還需要花費額外的時間。為了解決這個問題，陣列提供了 `item()` 方法，它用來取得陣列中的單一元素，並且直接傳回標準的 python 數值型態："
   ]
  },
  {
   "cell_type": "code",
   "execution_count": 12,
   "metadata": {
    "collapsed": false
   },
   "outputs": [
    {
     "name": "stdout",
     "output_type": "stream",
     "text": [
      "5.0 <class 'float'> <class 'numpy.float64'>\n"
     ]
    }
   ],
   "source": [
    "a = np.arange(6.0).reshape(2, 3)\n",
    "print( a.item(1, 2), type(a.item(1, 2)), type(a[1, 2]) )"
   ]
  },
  {
   "cell_type": "markdown",
   "metadata": {},
   "source": [
    "> 注意：在匯入時不建議使用 `import *` 全部載入，而是應該使用 `import numpy as np` 載入，這樣才可以根據需要選擇合適的函數。"
   ]
  },
  {
   "cell_type": "markdown",
   "metadata": {},
   "source": [
    "### 四則運算"
   ]
  },
  {
   "cell_type": "markdown",
   "metadata": {},
   "source": [
    "numpy 提供了許多 ufunc 函數，例如 `add()` 函數："
   ]
  },
  {
   "cell_type": "code",
   "execution_count": 13,
   "metadata": {
    "collapsed": false
   },
   "outputs": [
    {
     "data": {
      "text/plain": [
       "array([1, 3, 5, 7])"
      ]
     },
     "execution_count": 13,
     "metadata": {},
     "output_type": "execute_result"
    }
   ],
   "source": [
    "a = np.arange(0, 4)\n",
    "b = np.arange(1, 5)\n",
    "np.add(a, b)"
   ]
  },
  {
   "cell_type": "markdown",
   "metadata": {},
   "source": [
    "`add()` 傳回一個陣列，它的每個元素都是兩個參數陣列的對應元素之和。\n",
    "如果沒有指定 `out` 參數，它將建立一個新的陣列來儲存計算結果。\n",
    "如果指定了第三個參數 `out`，則不產生新的陣列，而直接將結果儲存進指定的陣列。"
   ]
  },
  {
   "cell_type": "code",
   "execution_count": 8,
   "metadata": {
    "collapsed": false
   },
   "outputs": [
    {
     "data": {
      "text/plain": [
       "array([1, 3, 5, 7])"
      ]
     },
     "execution_count": 8,
     "metadata": {},
     "output_type": "execute_result"
    }
   ],
   "source": [
    "np.add(a, b, a)\n",
    "a"
   ]
  },
  {
   "cell_type": "markdown",
   "metadata": {},
   "source": [
    "numpy 為陣列定義了各種數學運算符號，因此計算兩個陣列相加可以簡單地寫為 `a+b`，而 `np.add(a,b,a)`則可以用`a+=b`來表示。  \n",
    "表2-1列出了陣列的運算子以及與之對應的 ufunc 函數，注意除號的意義根據是否啟動 `__future__.division` 有所不同。\n",
    "\n",
    "表2-1 陣列的運算子以及對應的 ufunc 函數\n",
    "\n",
    "| 運算式 | 對應的 ufunc 函數 |\n",
    "|-------|------------------|\n",
    "| y = x1 + x2 | add(x1, x2[, y]) |\n",
    "| y = x1 - x2 | subtract(x1, x2[, y]) |\n",
    "| y = x1 * x2 | multiply(x1, x2[, y]) |\n",
    "| y = x1 / x2 | divide(x1, x2[, y])，如果兩個陣列的元素為整數，那麼用整數除法 |\n",
    "| y = x1 / x2 | true_divide(x1, x2[, y])，總是傳回精確的商 |\n",
    "| y = x1 // x2 | floor_divider(x1, x2[, y])，總是對傳回值取整 |\n",
    "| y = -x | negative(x[, y]) |\n",
    "| y = x1 ** x2 | power(x1, x2[, y]) |\n",
    "| y = x1 % x2 | remainder(x1, x2[, y]), mod(x1, x2[, y]) |\n",
    "\n",
    "陣列物件支援運算符號，相當大地簡化了算式的撰寫，不過要注意如果算式很複雜，並且要運算的陣列很大，將因為產生大量的中間結果而降低程式的運算速度。  \n",
    "舉例來說，假設對 a, b, c, 三個陣列採用算式 `x=a*b+c` 加以計算，那麼它相當於：\n",
    "\n",
    "```python\n",
    "t = a*b\n",
    "x = t+c\n",
    "del t\n",
    "```\n",
    "也就是說，需要產生一個臨時陣列 t 來儲存乘法的運算結果，然後再產生最後的結果陣列 x。可以將算式分解為下面的兩行敘述，以減少一次記憶體分配：\n",
    "\n",
    "```python\n",
    "x = a*b\n",
    "x += c\n",
    "```\n"
   ]
  },
  {
   "cell_type": "markdown",
   "metadata": {},
   "source": [
    "### 比較和布林運算\n",
    "\n",
    "使用 `==`, `>` 等比較運算子對兩個陣列進行比較，將傳回一個布林陣列，它的每個元素值都是兩個陣列對應元素的比較結果。例如："
   ]
  },
  {
   "cell_type": "code",
   "execution_count": 14,
   "metadata": {
    "collapsed": false
   },
   "outputs": [
    {
     "data": {
      "text/plain": [
       "array([ True, False, False])"
      ]
     },
     "execution_count": 14,
     "metadata": {},
     "output_type": "execute_result"
    }
   ],
   "source": [
    "np.array([1, 2, 3]) < np.array([3, 2, 1])"
   ]
  },
  {
   "cell_type": "markdown",
   "metadata": {},
   "source": [
    "每個比較運算子也與一個 ufunc 函數對應，表2-2 是比較運算子與 ufunc 函數的對照表。\n",
    "\n",
    "表2-2 比較運算子與對應的 ufunc 函數 \n",
    "\n",
    "| 運算式 | 對應的 ufunc 函數 |\n",
    "|-------|------------------|\n",
    "| y = x1 == x2 | equal(x1, x2[, y]) |\n",
    "| y = x1 != x2 | not_equal(x1, x2[, y]) |\n",
    "| y = x1 < x2 | less(x1, x2[, y]) |\n",
    "| y = x1 <= x2 | less_equal(x1, x2[, y]) |\n",
    "| y = x1 > x2 | greater(x1, x2[, y]) |\n",
    "| y = x1 >= x2 | greater_equal(x1, x2[, y]) |\n",
    "\n",
    "由於 python 中的布林運算使用 and, or, not 等關鍵字，它們無法被多載，因此陣列的布林運算只能透過對應的 ufunc 函數進行。這些函數名稱都以 `logical_` 開頭，在 IPython 中使用自動補全可以很容易地找到它們。  \n",
    "\n",
    "下面是一個使用 `logical_or()` 進行「或運算」的實例：\n"
   ]
  },
  {
   "cell_type": "code",
   "execution_count": 16,
   "metadata": {
    "collapsed": false
   },
   "outputs": [
    {
     "name": "stdout",
     "output_type": "stream",
     "text": [
      "[False False  True False False]\n",
      "[False False False  True  True]\n",
      "[False False  True  True  True]\n"
     ]
    }
   ],
   "source": [
    "a = np.arange(5)\n",
    "b = np.arange(4, -1, -1)\n",
    "print( a == b )\n",
    "print( a > b )\n",
    "print( np.logical_or(a == b, a > b) )  # 和 a>=b 相同"
   ]
  },
  {
   "cell_type": "markdown",
   "metadata": {},
   "source": [
    "對兩個布林陣列使用 and, or, not 等進行布林運算，將拋出 `ValueError` 例外，因為布林陣列中有 True 也有 False，所以 numpy 無法確定使用者的運算目的：\n"
   ]
  },
  {
   "cell_type": "code",
   "execution_count": 17,
   "metadata": {
    "collapsed": false
   },
   "outputs": [
    {
     "ename": "ValueError",
     "evalue": "The truth value of an array with more than one element is ambiguous. Use a.any() or a.all()",
     "output_type": "error",
     "traceback": [
      "\u001b[1;31m---------------------------------------------------------------------------\u001b[0m",
      "\u001b[1;31mValueError\u001b[0m                                Traceback (most recent call last)",
      "\u001b[1;32m<ipython-input-17-704a52089de1>\u001b[0m in \u001b[0;36m<module>\u001b[1;34m\u001b[0m\n\u001b[1;32m----> 1\u001b[1;33m \u001b[0ma\u001b[0m \u001b[1;33m==\u001b[0m \u001b[0mb\u001b[0m \u001b[1;32mand\u001b[0m \u001b[0ma\u001b[0m \u001b[1;33m>\u001b[0m \u001b[0mb\u001b[0m\u001b[1;33m\u001b[0m\u001b[1;33m\u001b[0m\u001b[0m\n\u001b[0m",
      "\u001b[1;31mValueError\u001b[0m: The truth value of an array with more than one element is ambiguous. Use a.any() or a.all()"
     ]
    }
   ],
   "source": [
    "a == b and a > b"
   ]
  },
  {
   "cell_type": "markdown",
   "metadata": {},
   "source": [
    "錯誤訊息告訴我們可以使用陣列的 `.any()` 或 `.all()` 方法，在 numpy 中同時也定義了 `.any()` 和 `.all()` 函數，它們的用法和 python 內建的 `any()` 和 `all()` 類似。只要陣列中有一個元素值為 True，`any()` 就傳回 True； 而只有當陣列的全部元素都為 True時，`all()`才傳回True。"
   ]
  },
  {
   "cell_type": "code",
   "execution_count": 18,
   "metadata": {
    "collapsed": false
   },
   "outputs": [
    {
     "name": "stdout",
     "output_type": "stream",
     "text": [
      "np.any(a == b)  np.any(a == b) and np.any(a > b)\n",
      "--------------  --------------------------------\n",
      "True            True                            \n"
     ]
    }
   ],
   "source": [
    "%C np.any(a == b); np.any(a == b) and np.any(a > b)"
   ]
  },
  {
   "cell_type": "markdown",
   "metadata": {},
   "source": [
    "以 `bitwise_` 開頭的函數是位元運算函數，包含 `bitwise_and`, `bitwise_not`, `bitwise_or`, `bitwise_xor` 等。也可以使用 `&`, `~`, `|`, `^` 等運算符號進行計算。\n",
    "\n",
    "對 布林陣列 來說，`位元運算` 和 `布林運算` 的結果相同。但在使用時要注意，`位元運算符號` 的優先順序比 `比較運算子` 高，因此需要使用括號加強 `比較運算子` 的運算優先順序。例如："
   ]
  },
  {
   "cell_type": "code",
   "execution_count": 19,
   "metadata": {
    "collapsed": false
   },
   "outputs": [
    {
     "data": {
      "text/plain": [
       "array([False, False,  True,  True,  True])"
      ]
     },
     "execution_count": 19,
     "metadata": {},
     "output_type": "execute_result"
    }
   ],
   "source": [
    "(a == b) | (a > b)"
   ]
  },
  {
   "cell_type": "code",
   "execution_count": 14,
   "metadata": {
    "collapsed": false
   },
   "outputs": [
    {
     "data": {
      "text/plain": [
       "array([-1, -2, -3, -4, -5])"
      ]
     },
     "execution_count": 14,
     "metadata": {},
     "output_type": "execute_result"
    }
   ],
   "source": [
    "~ np.arange(5)"
   ]
  },
  {
   "cell_type": "markdown",
   "metadata": {},
   "source": [
    "整數陣列的位元運算和 C 語言的位元運算相同，在使用時要注意元素類型的符號，例如下面的 `arange()` 所建立的陣列的元素類型為 32 位元有號整數，因此對正數逐位元反轉將獲得負數。以整數 0 為例，逐位元反轉的結果是0xFFFFFFFF，在32位元有號整數中，這個值表示-1。"
   ]
  },
  {
   "cell_type": "code",
   "execution_count": 20,
   "metadata": {
    "collapsed": false
   },
   "outputs": [
    {
     "data": {
      "text/plain": [
       "array([255, 254, 253, 252, 251], dtype=uint8)"
      ]
     },
     "execution_count": 20,
     "metadata": {},
     "output_type": "execute_result"
    }
   ],
   "source": [
    "~ np.arange(5, dtype=np.uint8)"
   ]
  },
  {
   "cell_type": "markdown",
   "metadata": {},
   "source": [
    "### 自訂ufunc函數\n",
    "\n",
    "透過 numpy 提供的標準 ufunc 函數，可以組合出複雜的運算式，在 C 語言等級對陣列的每個元素進行計算。但有時這種運算式不易撰寫，而對每個元素進行計算的程式卻很容易用 python 實現，這時可以用 `frompyfunc()` 將計算單一元素的函數轉換成 ufunc 函數，這樣就可以方便地用所產生的 ufunc 函數對陣列進行計算了。\n",
    "\n",
    "舉例來說，用一個分段函數描述三角波，三角波的形狀如圖2-5所示，它分為三段：上升段、下降段和平坦段。\n",
    "\n",
    "![](2022-03-18-13-23-54.png)\n",
    "\n",
    "根據圖2-5，我們很容易寫出計算三角波上某個點的 Y 座標的函數。顯然 `triangle_wave()` 只能計算單一數值，不能對陣列直接進行處理。"
   ]
  },
  {
   "cell_type": "code",
   "execution_count": 21,
   "metadata": {
    "collapsed": false
   },
   "outputs": [],
   "source": [
    "def triangle_wave(x, c, c0, hc):\n",
    "    x = x - int(x) # 三角波的周期為1，因此只取x座標的小數部分進行計算\n",
    "    if x >= c: r = 0.0\n",
    "    elif x < c0: r = x / c0 * hc\n",
    "    else: r = (c-x) / (c-c0) * hc\n",
    "    return r"
   ]
  },
  {
   "cell_type": "markdown",
   "metadata": {},
   "source": [
    "我們可以用下面的程式，先使用清單推導式計算出一個列表，然後用 `np.array()` 將清單轉為陣列。這種做法每次都需要使用清單推導式語法呼叫函數，這對於多維陣列很麻煩。"
   ]
  },
  {
   "cell_type": "code",
   "execution_count": 22,
   "metadata": {
    "collapsed": false
   },
   "outputs": [],
   "source": [
    "x = np.linspace(0, 2, 1000)\n",
    "y1 = np.array([triangle_wave(t, 0.6, 0.4, 1.0) for t in x])"
   ]
  },
  {
   "cell_type": "markdown",
   "metadata": {},
   "source": [
    "透過 `.frompyfunc()` 可以將計算單一值的函數轉為能對陣列的每個元素進行計算的 ufunc 函數，`.frompyfunc()` 的呼叫格式為：\n",
    "```python\n",
    "frompyfunc(func, nin, nout)\n",
    "```\n",
    "其中：\n",
    "- func: 是計算單一元素的函數。\n",
    "- nin: 是func 的輸入參數的個數。\n",
    "- nout: 是 func 的傳回值的個數。\n",
    "\n",
    "下面程式使用 `.frompyfunc()` 將 triangle_wave() 轉為 ufunc 函數物件 triangle_ufunc1()："
   ]
  },
  {
   "cell_type": "code",
   "execution_count": 23,
   "metadata": {
    "collapsed": false
   },
   "outputs": [],
   "source": [
    "triangle_ufunc1 = np.frompyfunc(triangle_wave, 4, 1)\n",
    "y2 = triangle_ufunc1(x, 0.6, 0.4, 1.0)"
   ]
  },
  {
   "cell_type": "markdown",
   "metadata": {},
   "source": [
    "值得注意的是，triangle_ufunc1() 所傳回的陣列的元素類型是 object，因此還需要呼叫陣列的 `astype()` 方法，以將其轉為雙精度浮點陣列："
   ]
  },
  {
   "cell_type": "code",
   "execution_count": 25,
   "metadata": {
    "collapsed": false
   },
   "outputs": [
    {
     "name": "stdout",
     "output_type": "stream",
     "text": [
      " y2.dtype   y2.astype(np.float64).dtype\n",
      "----------  ---------------------------\n",
      "dtype('O')  dtype('float64')           \n"
     ]
    }
   ],
   "source": [
    "%C y2.dtype; y2.astype(np.float64).dtype"
   ]
  },
  {
   "cell_type": "markdown",
   "metadata": {},
   "source": [
    "使用 `np.vectorize()` 也可以實現和 `np.frompyfunc()` 類似的功能，但它可以透過 `otypes` 參數指定傳回的陣列的元素類型。`otypes` 參數可以是一個表示元素類型的字串，也可以是一個類型列表，使用清單可以描述多個傳回陣列的元素類型。下面的程式使用 `np.vectorize()` 計算三角波："
   ]
  },
  {
   "cell_type": "code",
   "execution_count": 27,
   "metadata": {
    "collapsed": false
   },
   "outputs": [],
   "source": [
    "triangle_ufunc2 = np.vectorize(triangle_wave, otypes=[np.float64])\n",
    "y3 = triangle_ufunc2(x, 0.6, 0.4, 1.0)"
   ]
  },
  {
   "cell_type": "markdown",
   "metadata": {},
   "source": [
    "最後我們驗證一下結果："
   ]
  },
  {
   "cell_type": "code",
   "execution_count": 28,
   "metadata": {
    "collapsed": false
   },
   "outputs": [
    {
     "name": "stdout",
     "output_type": "stream",
     "text": [
      "np.all(y1 == y2)  np.all(y2 == y3)\n",
      "----------------  ----------------\n",
      "True              True            \n"
     ]
    }
   ],
   "source": [
    "%C np.all(y1 == y2); np.all(y2 == y3)"
   ]
  },
  {
   "cell_type": "markdown",
   "metadata": {},
   "source": [
    "### 廣播\n",
    "\n",
    "當使用 ufunc 函數對兩個陣列進行計算時，ufunc 函數會對這兩個陣列的對應元素進行計算，因此它要求這兩個陣列的形狀相同。如果形狀不同，會進行以下廣播(broadcasting)處理：\n",
    "\n",
    "1. 讓所有輸入陣列都在其中維數最多的陣列看齊，`shape`屬性中不足的部分都透過在前面加 1 補齊。\n",
    "2. 輸出陣列的 `shape` 屬性是輸入陣列的 `shape` 屬性的各個軸上的最大值。\n",
    "3. 如果輸入陣列的某個軸的長度為 1 或與輸出陣列的對應軸的長度相同，這個陣列能夠用來計算，否則出錯。\n",
    "4. 當輸入陣列的某個軸的長度為 1 時，沿著此軸運算時都用此軸上的第一組值。\n",
    "\n",
    "上述 4 筆規則了解起來可能比較費勁，下面讓我們看一個實例。\n",
    "\n",
    "先建立一個二維陣列 a，其形狀為(6,1):"
   ]
  },
  {
   "cell_type": "code",
   "execution_count": 29,
   "metadata": {
    "collapsed": false
   },
   "outputs": [
    {
     "name": "stdout",
     "output_type": "stream",
     "text": [
      "  a     a.shape\n",
      "------  -------\n",
      "[[ 0],  (6, 1) \n",
      " [10],         \n",
      " [20],         \n",
      " [30],         \n",
      " [40],         \n",
      " [50]]         \n"
     ]
    }
   ],
   "source": [
    "a = np.arange(0, 60, 10).reshape(-1, 1)\n",
    "%C a; a.shape"
   ]
  },
  {
   "cell_type": "markdown",
   "metadata": {},
   "source": [
    "再建立一維陣列 b，其形狀為 (5, ):"
   ]
  },
  {
   "cell_type": "code",
   "execution_count": 30,
   "metadata": {
    "collapsed": false
   },
   "outputs": [
    {
     "name": "stdout",
     "output_type": "stream",
     "text": [
      "       b         b.shape\n",
      "---------------  -------\n",
      "[0, 1, 2, 3, 4]  (5,)   \n"
     ]
    }
   ],
   "source": [
    "b = np.arange(0, 5)\n",
    "%C b; b.shape"
   ]
  },
  {
   "cell_type": "markdown",
   "metadata": {},
   "source": [
    "計算 a 與 b 的和，獲得一個加法表，它相當於計算兩個陣列中所有元素對的和，獲得一個形狀為 (6,5) 的陣列："
   ]
  },
  {
   "cell_type": "code",
   "execution_count": 31,
   "metadata": {
    "collapsed": false
   },
   "outputs": [
    {
     "name": "stdout",
     "output_type": "stream",
     "text": [
      "          c             c.shape\n",
      "----------------------  -------\n",
      "[[ 0,  1,  2,  3,  4],  (6, 5) \n",
      " [10, 11, 12, 13, 14],         \n",
      " [20, 21, 22, 23, 24],         \n",
      " [30, 31, 32, 33, 34],         \n",
      " [40, 41, 42, 43, 44],         \n",
      " [50, 51, 52, 53, 54]]         \n"
     ]
    }
   ],
   "source": [
    "c = a + b\n",
    "%C c; c.shape"
   ]
  },
  {
   "cell_type": "markdown",
   "metadata": {},
   "source": [
    "由於 a 和 b 的維數不同，根據規則 1.，需要讓 b 的 `shape` 屬性向 a 對齊，於是在 b 的 `shape` 屬性前加 1，補齊為(1,5)。相當於做了以下計算："
   ]
  },
  {
   "cell_type": "code",
   "execution_count": 32,
   "metadata": {
    "collapsed": false
   },
   "outputs": [
    {
     "name": "stdout",
     "output_type": "stream",
     "text": [
      "        b          b.shape\n",
      "-----------------  -------\n",
      "[[0, 1, 2, 3, 4]]  (1, 5) \n"
     ]
    }
   ],
   "source": [
    "b.shape = 1, 5\n",
    "%C b; b.shape"
   ]
  },
  {
   "cell_type": "markdown",
   "metadata": {},
   "source": [
    "這樣，加法運算的兩個輸入陣列的 `shape` 屬性分別為 (6,1) 和 (1,5) ，根據規則 2.，輸出陣列的各個軸的長度為輸入陣列各個軸的長度的最大值，可知輸出陣列的 `shape` 屬性為 (6,5)。\n",
    "\n",
    "由於 b 的第 0 軸的長度為 1，而 a 的第 0 軸的長度為 6，為了讓它們在第 0 軸上能夠相加，需要將 b 的第 0 軸的長度擴充為 6 ，這相當於:"
   ]
  },
  {
   "cell_type": "code",
   "execution_count": 33,
   "metadata": {
    "collapsed": false
   },
   "outputs": [
    {
     "name": "stdout",
     "output_type": "stream",
     "text": [
      "        b          b.shape\n",
      "-----------------  -------\n",
      "[[0, 1, 2, 3, 4],  (6, 5) \n",
      " [0, 1, 2, 3, 4],         \n",
      " [0, 1, 2, 3, 4],         \n",
      " [0, 1, 2, 3, 4],         \n",
      " [0, 1, 2, 3, 4],         \n",
      " [0, 1, 2, 3, 4]]         \n"
     ]
    }
   ],
   "source": [
    "b = b.repeat(6, axis=0)\n",
    "%C b; b.shape"
   ]
  },
  {
   "cell_type": "markdown",
   "metadata": {},
   "source": [
    "這裡的 `repeat()` 方法沿著 `axis` 參數指定的軸複製陣列中各個元素的值。由於 a 的第 1 軸的長度為 1，而 b 的第 1 軸的長度為 5，為了讓它們在第 1 軸上能夠相加，需要將 a 的第 1 軸的長度擴充為 5，這相當於："
   ]
  },
  {
   "cell_type": "code",
   "execution_count": 34,
   "metadata": {
    "collapsed": false
   },
   "outputs": [
    {
     "name": "stdout",
     "output_type": "stream",
     "text": [
      "          a             a.shape\n",
      "----------------------  -------\n",
      "[[ 0,  0,  0,  0,  0],  (6, 5) \n",
      " [10, 10, 10, 10, 10],         \n",
      " [20, 20, 20, 20, 20],         \n",
      " [30, 30, 30, 30, 30],         \n",
      " [40, 40, 40, 40, 40],         \n",
      " [50, 50, 50, 50, 50]]         \n"
     ]
    }
   ],
   "source": [
    "a = a.repeat(5, axis=1)\n",
    "%C a; a.shape"
   ]
  },
  {
   "cell_type": "markdown",
   "metadata": {},
   "source": [
    "經過上述處理之後，a 和 b 就可以按對應元素進行相加運算了。當然，在執行 a+b 運算時，numpy 內部並不會真正將長度為 1 的軸用 `repeat()` 進行擴充，這樣太浪費記憶體空間了。由於這種廣播計算很常用，因此 numpy 提供了 `ogrid` 物件，用於建立廣播運算甪的陣列。"
   ]
  },
  {
   "cell_type": "code",
   "execution_count": 35,
   "metadata": {
    "collapsed": false
   },
   "outputs": [
    {
     "name": "stdout",
     "output_type": "stream",
     "text": [
      "  x            y        \n",
      "-----  -----------------\n",
      "[[0],  [[0, 1, 2, 3, 4]]\n",
      " [1],                   \n",
      " [2],                   \n",
      " [3],                   \n",
      " [4]]                   \n"
     ]
    }
   ],
   "source": [
    "x, y = np.ogrid[:5, :5]\n",
    "%C x; y"
   ]
  },
  {
   "cell_type": "markdown",
   "metadata": {},
   "source": [
    "此外，numpy 還提供了 `mgrid` 物件，它的用法和 `ogrid` 物件類似，但是它所傳回的是進行廣播之後的陣列："
   ]
  },
  {
   "cell_type": "code",
   "execution_count": 38,
   "metadata": {
    "collapsed": false
   },
   "outputs": [
    {
     "name": "stdout",
     "output_type": "stream",
     "text": [
      "        x                  y        \n",
      "-----------------  -----------------\n",
      "[[0, 0, 0, 0, 0],  [[0, 1, 2, 3, 4],\n",
      " [1, 1, 1, 1, 1],   [0, 1, 2, 3, 4],\n",
      " [2, 2, 2, 2, 2],   [0, 1, 2, 3, 4],\n",
      " [3, 3, 3, 3, 3],   [0, 1, 2, 3, 4],\n",
      " [4, 4, 4, 4, 4]]   [0, 1, 2, 3, 4]]\n"
     ]
    }
   ],
   "source": [
    "x, y = np.mgrid[:5, :5]\n",
    "%C x; y"
   ]
  },
  {
   "cell_type": "markdown",
   "metadata": {},
   "source": [
    "`ogrid` 是一個很有趣的物件，它像多維陣列一樣，用切片元組作為索引，傳回的是一組可以用來廣播計算的陣列。其切片索引有兩種形式：\n",
    "- `開始值:結束值:步進值`，和 `np.arange(開始值, 結束值, 步進值)`類似。\n",
    "- `開始值:結束值:長度j`，當第三個參數為虛數時，它表示所傳回的陣列的長度，和 `np.linspace(開始值, 結束值, 長度)` 類似。"
   ]
  },
  {
   "cell_type": "code",
   "execution_count": 39,
   "metadata": {
    "collapsed": false
   },
   "outputs": [
    {
     "name": "stdout",
     "output_type": "stream",
     "text": [
      "      x                 y        \n",
      "--------------  -----------------\n",
      "[[0.        ],  [[0. , 0.5, 1. ]]\n",
      " [0.33333333],                   \n",
      " [0.66666667],                   \n",
      " [1.        ]]                   \n"
     ]
    }
   ],
   "source": [
    "x, y = np.ogrid[:1:4j, :1:3j]\n",
    "%C x; y   "
   ]
  },
  {
   "cell_type": "markdown",
   "metadata": {},
   "source": [
    "利用 `ogrid` 的傳回值，我們很容易計算二元函數在等間距網格上的值。下面是繪製 3D 曲面 $f(x,y)=xe^{x^2-y^2}$ 的程式:"
   ]
  },
  {
   "cell_type": "code",
   "execution_count": 40,
   "metadata": {
    "collapsed": false
   },
   "outputs": [],
   "source": [
    "x, y = np.ogrid[-2:2:20j, -2:2:20j]\n",
    "z = x * np.exp( - x**2 - y**2)"
   ]
  },
  {
   "cell_type": "markdown",
   "metadata": {},
   "source": [
    "下圖為使用 `ogrid` 計算的 3D 曲面。"
   ]
  },
  {
   "cell_type": "code",
   "execution_count": 41,
   "metadata": {
    "collapsed": false
   },
   "outputs": [
    {
     "data": {
      "image/svg+xml": "<?xml version=\"1.0\" encoding=\"utf-8\" standalone=\"no\"?>\r\n<!DOCTYPE svg PUBLIC \"-//W3C//DTD SVG 1.1//EN\"\r\n  \"http://www.w3.org/Graphics/SVG/1.1/DTD/svg11.dtd\">\r\n<!-- Created with matplotlib (https://matplotlib.org/) -->\r\n<svg height=\"297.001546pt\" version=\"1.1\" viewBox=\"0 0 306.426593 297.001546\" width=\"306.426593pt\" xmlns=\"http://www.w3.org/2000/svg\" xmlns:xlink=\"http://www.w3.org/1999/xlink\">\r\n <metadata>\r\n  <rdf:RDF xmlns:cc=\"http://creativecommons.org/ns#\" xmlns:dc=\"http://purl.org/dc/elements/1.1/\" xmlns:rdf=\"http://www.w3.org/1999/02/22-rdf-syntax-ns#\">\r\n   <cc:Work>\r\n    <dc:type rdf:resource=\"http://purl.org/dc/dcmitype/StillImage\"/>\r\n    <dc:date>2022-03-18T14:15:53.004637</dc:date>\r\n    <dc:format>image/svg+xml</dc:format>\r\n    <dc:creator>\r\n     <cc:Agent>\r\n      <dc:title>Matplotlib v3.3.0, https://matplotlib.org/</dc:title>\r\n     </cc:Agent>\r\n    </dc:creator>\r\n   </cc:Work>\r\n  </rdf:RDF>\r\n </metadata>\r\n <defs>\r\n  <style type=\"text/css\">*{stroke-linecap:butt;stroke-linejoin:round;}</style>\r\n </defs>\r\n <g id=\"figure_1\">\r\n  <g id=\"patch_1\">\r\n   <path d=\"M 0 297.001546 \r\nL 306.426593 297.001546 \r\nL 306.426593 0 \r\nL 0 0 \r\nz\r\n\" style=\"fill:#ffffff;\"/>\r\n  </g>\r\n  <g id=\"patch_2\">\r\n   <path d=\"M 7.2 284.4 \r\nL 284.4 284.4 \r\nL 284.4 7.2 \r\nL 7.2 7.2 \r\nz\r\n\" style=\"fill:#ffffff;\"/>\r\n  </g>\r\n  <g id=\"pane3d_1\">\r\n   <g id=\"patch_3\">\r\n    <path d=\"M 28.130512 216.051364 \r\nL 119.671005 139.320307 \r\nL 118.398504 28.660407 \r\nL 22.477327 98.659314 \r\n\" style=\"fill:#f2f2f2;opacity:0.5;stroke:#f2f2f2;stroke-linejoin:miter;\"/>\r\n   </g>\r\n  </g>\r\n  <g id=\"pane3d_2\">\r\n   <g id=\"patch_4\">\r\n    <path d=\"M 119.671005 139.320307 \r\nL 266.560834 182.015381 \r\nL 271.802814 67.543928 \r\nL 118.398504 28.660407 \r\n\" style=\"fill:#e6e6e6;opacity:0.5;stroke:#e6e6e6;stroke-linejoin:miter;\"/>\r\n   </g>\r\n  </g>\r\n  <g id=\"pane3d_3\">\r\n   <g id=\"patch_5\">\r\n    <path d=\"M 28.130512 216.051364 \r\nL 183.840905 266.906378 \r\nL 266.560834 182.015381 \r\nL 119.671005 139.320307 \r\n\" style=\"fill:#ececec;opacity:0.5;stroke:#ececec;stroke-linejoin:miter;\"/>\r\n   </g>\r\n  </g>\r\n  <g id=\"axis3d_1\">\r\n   <g id=\"line2d_1\">\r\n    <path d=\"M 28.130512 216.051364 \r\nL 183.840905 266.906378 \r\n\" style=\"fill:none;stroke:#000000;stroke-linecap:square;stroke-width:0.8;\"/>\r\n   </g>\r\n   <g id=\"Line3DCollection_1\">\r\n    <path d=\"M 37.56115 219.13141 \r\nL 128.604394 141.916891 \r\nL 127.709604 31.0205 \r\n\" style=\"fill:none;stroke:#b0b0b0;stroke-width:0.8;\"/>\r\n    <path d=\"M 53.872696 224.458761 \r\nL 144.044588 146.404746 \r\nL 143.808254 35.101038 \r\n\" style=\"fill:none;stroke:#b0b0b0;stroke-width:0.8;\"/>\r\n    <path d=\"M 70.369754 229.8467 \r\nL 159.645841 150.939414 \r\nL 160.082086 39.22598 \r\n\" style=\"fill:none;stroke:#b0b0b0;stroke-width:0.8;\"/>\r\n    <path d=\"M 87.055507 235.296267 \r\nL 175.410689 155.521633 \r\nL 176.533975 43.396054 \r\n\" style=\"fill:none;stroke:#b0b0b0;stroke-width:0.8;\"/>\r\n    <path d=\"M 103.93321 240.808525 \r\nL 191.341717 160.152154 \r\nL 193.16686 47.612006 \r\n\" style=\"fill:none;stroke:#b0b0b0;stroke-width:0.8;\"/>\r\n    <path d=\"M 121.006195 246.384562 \r\nL 207.441566 164.831744 \r\nL 209.983743 51.874596 \r\n\" style=\"fill:none;stroke:#b0b0b0;stroke-width:0.8;\"/>\r\n    <path d=\"M 138.277871 252.025491 \r\nL 223.712936 169.561189 \r\nL 226.987697 56.184602 \r\n\" style=\"fill:none;stroke:#b0b0b0;stroke-width:0.8;\"/>\r\n    <path d=\"M 155.751727 257.732452 \r\nL 240.158581 174.341289 \r\nL 244.181858 60.542821 \r\n\" style=\"fill:none;stroke:#b0b0b0;stroke-width:0.8;\"/>\r\n    <path d=\"M 173.431334 263.506612 \r\nL 256.781316 179.172862 \r\nL 261.569436 64.950065 \r\n\" style=\"fill:none;stroke:#b0b0b0;stroke-width:0.8;\"/>\r\n   </g>\r\n   <g id=\"xtick_1\">\r\n    <g id=\"line2d_2\">\r\n     <path d=\"M 38.35395 218.45903 \r\nL 35.972149 220.479055 \r\n\" style=\"fill:none;stroke:#000000;stroke-linecap:square;stroke-width:0.8;\"/>\r\n    </g>\r\n    <g id=\"text_1\">\r\n     <!-- −2.0 -->\r\n     <g transform=\"translate(17.891814 242.438223)scale(0.1 -0.1)\">\r\n      <defs>\r\n       <path d=\"M 10.59375 35.5 \r\nL 73.1875 35.5 \r\nL 73.1875 27.203125 \r\nL 10.59375 27.203125 \r\nz\r\n\" id=\"DejaVuSans-8722\"/>\r\n       <path d=\"M 19.1875 8.296875 \r\nL 53.609375 8.296875 \r\nL 53.609375 0 \r\nL 7.328125 0 \r\nL 7.328125 8.296875 \r\nQ 12.9375 14.109375 22.625 23.890625 \r\nQ 32.328125 33.6875 34.8125 36.53125 \r\nQ 39.546875 41.84375 41.421875 45.53125 \r\nQ 43.3125 49.21875 43.3125 52.78125 \r\nQ 43.3125 58.59375 39.234375 62.25 \r\nQ 35.15625 65.921875 28.609375 65.921875 \r\nQ 23.96875 65.921875 18.8125 64.3125 \r\nQ 13.671875 62.703125 7.8125 59.421875 \r\nL 7.8125 69.390625 \r\nQ 13.765625 71.78125 18.9375 73 \r\nQ 24.125 74.21875 28.421875 74.21875 \r\nQ 39.75 74.21875 46.484375 68.546875 \r\nQ 53.21875 62.890625 53.21875 53.421875 \r\nQ 53.21875 48.921875 51.53125 44.890625 \r\nQ 49.859375 40.875 45.40625 35.40625 \r\nQ 44.1875 33.984375 37.640625 27.21875 \r\nQ 31.109375 20.453125 19.1875 8.296875 \r\nz\r\n\" id=\"DejaVuSans-50\"/>\r\n       <path d=\"M 10.6875 12.40625 \r\nL 21 12.40625 \r\nL 21 0 \r\nL 10.6875 0 \r\nz\r\n\" id=\"DejaVuSans-46\"/>\r\n       <path d=\"M 31.78125 66.40625 \r\nQ 24.171875 66.40625 20.328125 58.90625 \r\nQ 16.5 51.421875 16.5 36.375 \r\nQ 16.5 21.390625 20.328125 13.890625 \r\nQ 24.171875 6.390625 31.78125 6.390625 \r\nQ 39.453125 6.390625 43.28125 13.890625 \r\nQ 47.125 21.390625 47.125 36.375 \r\nQ 47.125 51.421875 43.28125 58.90625 \r\nQ 39.453125 66.40625 31.78125 66.40625 \r\nz\r\nM 31.78125 74.21875 \r\nQ 44.046875 74.21875 50.515625 64.515625 \r\nQ 56.984375 54.828125 56.984375 36.375 \r\nQ 56.984375 17.96875 50.515625 8.265625 \r\nQ 44.046875 -1.421875 31.78125 -1.421875 \r\nQ 19.53125 -1.421875 13.0625 8.265625 \r\nQ 6.59375 17.96875 6.59375 36.375 \r\nQ 6.59375 54.828125 13.0625 64.515625 \r\nQ 19.53125 74.21875 31.78125 74.21875 \r\nz\r\n\" id=\"DejaVuSans-48\"/>\r\n      </defs>\r\n      <use xlink:href=\"#DejaVuSans-8722\"/>\r\n      <use x=\"83.789062\" xlink:href=\"#DejaVuSans-50\"/>\r\n      <use x=\"147.412109\" xlink:href=\"#DejaVuSans-46\"/>\r\n      <use x=\"179.199219\" xlink:href=\"#DejaVuSans-48\"/>\r\n     </g>\r\n    </g>\r\n   </g>\r\n   <g id=\"xtick_2\">\r\n    <g id=\"line2d_3\">\r\n     <path d=\"M 54.658269 223.778759 \r\nL 52.298161 225.8217 \r\n\" style=\"fill:none;stroke:#000000;stroke-linecap:square;stroke-width:0.8;\"/>\r\n    </g>\r\n    <g id=\"text_2\">\r\n     <!-- −1.5 -->\r\n     <g transform=\"translate(34.219172 247.87383)scale(0.1 -0.1)\">\r\n      <defs>\r\n       <path d=\"M 12.40625 8.296875 \r\nL 28.515625 8.296875 \r\nL 28.515625 63.921875 \r\nL 10.984375 60.40625 \r\nL 10.984375 69.390625 \r\nL 28.421875 72.90625 \r\nL 38.28125 72.90625 \r\nL 38.28125 8.296875 \r\nL 54.390625 8.296875 \r\nL 54.390625 0 \r\nL 12.40625 0 \r\nz\r\n\" id=\"DejaVuSans-49\"/>\r\n       <path d=\"M 10.796875 72.90625 \r\nL 49.515625 72.90625 \r\nL 49.515625 64.59375 \r\nL 19.828125 64.59375 \r\nL 19.828125 46.734375 \r\nQ 21.96875 47.46875 24.109375 47.828125 \r\nQ 26.265625 48.1875 28.421875 48.1875 \r\nQ 40.625 48.1875 47.75 41.5 \r\nQ 54.890625 34.8125 54.890625 23.390625 \r\nQ 54.890625 11.625 47.5625 5.09375 \r\nQ 40.234375 -1.421875 26.90625 -1.421875 \r\nQ 22.3125 -1.421875 17.546875 -0.640625 \r\nQ 12.796875 0.140625 7.71875 1.703125 \r\nL 7.71875 11.625 \r\nQ 12.109375 9.234375 16.796875 8.0625 \r\nQ 21.484375 6.890625 26.703125 6.890625 \r\nQ 35.15625 6.890625 40.078125 11.328125 \r\nQ 45.015625 15.765625 45.015625 23.390625 \r\nQ 45.015625 31 40.078125 35.4375 \r\nQ 35.15625 39.890625 26.703125 39.890625 \r\nQ 22.75 39.890625 18.8125 39.015625 \r\nQ 14.890625 38.140625 10.796875 36.28125 \r\nz\r\n\" id=\"DejaVuSans-53\"/>\r\n      </defs>\r\n      <use xlink:href=\"#DejaVuSans-8722\"/>\r\n      <use x=\"83.789062\" xlink:href=\"#DejaVuSans-49\"/>\r\n      <use x=\"147.412109\" xlink:href=\"#DejaVuSans-46\"/>\r\n      <use x=\"179.199219\" xlink:href=\"#DejaVuSans-53\"/>\r\n     </g>\r\n    </g>\r\n   </g>\r\n   <g id=\"xtick_3\">\r\n    <g id=\"line2d_4\">\r\n     <path d=\"M 71.147884 229.158945 \r\nL 68.810118 231.225195 \r\n\" style=\"fill:none;stroke:#000000;stroke-linecap:square;stroke-width:0.8;\"/>\r\n    </g>\r\n    <g id=\"text_3\">\r\n     <!-- −1.0 -->\r\n     <g transform=\"translate(50.732892 253.371479)scale(0.1 -0.1)\">\r\n      <use xlink:href=\"#DejaVuSans-8722\"/>\r\n      <use x=\"83.789062\" xlink:href=\"#DejaVuSans-49\"/>\r\n      <use x=\"147.412109\" xlink:href=\"#DejaVuSans-46\"/>\r\n      <use x=\"179.199219\" xlink:href=\"#DejaVuSans-48\"/>\r\n     </g>\r\n    </g>\r\n   </g>\r\n   <g id=\"xtick_4\">\r\n    <g id=\"line2d_5\">\r\n     <path d=\"M 87.825971 234.600626 \r\nL 85.511215 236.690586 \r\n\" style=\"fill:none;stroke:#000000;stroke-linecap:square;stroke-width:0.8;\"/>\r\n    </g>\r\n    <g id=\"text_4\">\r\n     <!-- −0.5 -->\r\n     <g transform=\"translate(67.436183 258.932239)scale(0.1 -0.1)\">\r\n      <use xlink:href=\"#DejaVuSans-8722\"/>\r\n      <use x=\"83.789062\" xlink:href=\"#DejaVuSans-48\"/>\r\n      <use x=\"147.412109\" xlink:href=\"#DejaVuSans-46\"/>\r\n      <use x=\"179.199219\" xlink:href=\"#DejaVuSans-53\"/>\r\n     </g>\r\n    </g>\r\n   </g>\r\n   <g id=\"xtick_5\">\r\n    <g id=\"line2d_6\">\r\n     <path d=\"M 104.695781 240.104861 \r\nL 102.40472 242.218942 \r\n\" style=\"fill:none;stroke:#000000;stroke-linecap:square;stroke-width:0.8;\"/>\r\n    </g>\r\n    <g id=\"text_5\">\r\n     <!-- 0.0 -->\r\n     <g transform=\"translate(88.522171 264.557202)scale(0.1 -0.1)\">\r\n      <use xlink:href=\"#DejaVuSans-48\"/>\r\n      <use x=\"63.623047\" xlink:href=\"#DejaVuSans-46\"/>\r\n      <use x=\"95.410156\" xlink:href=\"#DejaVuSans-48\"/>\r\n     </g>\r\n    </g>\r\n   </g>\r\n   <g id=\"xtick_6\">\r\n    <g id=\"line2d_7\">\r\n     <path d=\"M 121.760638 245.672735 \r\nL 119.493978 247.811357 \r\n\" style=\"fill:none;stroke:#000000;stroke-linecap:square;stroke-width:0.8;\"/>\r\n    </g>\r\n    <g id=\"text_6\">\r\n     <!-- 0.5 -->\r\n     <g transform=\"translate(105.614529 270.247488)scale(0.1 -0.1)\">\r\n      <use xlink:href=\"#DejaVuSans-48\"/>\r\n      <use x=\"63.623047\" xlink:href=\"#DejaVuSans-46\"/>\r\n      <use x=\"95.410156\" xlink:href=\"#DejaVuSans-53\"/>\r\n     </g>\r\n    </g>\r\n   </g>\r\n   <g id=\"xtick_7\">\r\n    <g id=\"line2d_8\">\r\n     <path d=\"M 139.023945 251.30536 \r\nL 136.78241 253.468952 \r\n\" style=\"fill:none;stroke:#000000;stroke-linecap:square;stroke-width:0.8;\"/>\r\n    </g>\r\n    <g id=\"text_7\">\r\n     <!-- 1.0 -->\r\n     <g transform=\"translate(122.906538 276.00424)scale(0.1 -0.1)\">\r\n      <use xlink:href=\"#DejaVuSans-49\"/>\r\n      <use x=\"63.623047\" xlink:href=\"#DejaVuSans-46\"/>\r\n      <use x=\"95.410156\" xlink:href=\"#DejaVuSans-48\"/>\r\n     </g>\r\n    </g>\r\n   </g>\r\n   <g id=\"xtick_8\">\r\n    <g id=\"line2d_9\">\r\n     <path d=\"M 156.489184 257.00387 \r\nL 154.27352 259.192872 \r\n\" style=\"fill:none;stroke:#000000;stroke-linecap:square;stroke-width:0.8;\"/>\r\n    </g>\r\n    <g id=\"text_8\">\r\n     <!-- 1.5 -->\r\n     <g transform=\"translate(140.401716 281.82863)scale(0.1 -0.1)\">\r\n      <use xlink:href=\"#DejaVuSans-49\"/>\r\n      <use x=\"63.623047\" xlink:href=\"#DejaVuSans-46\"/>\r\n      <use x=\"95.410156\" xlink:href=\"#DejaVuSans-53\"/>\r\n     </g>\r\n    </g>\r\n   </g>\r\n   <g id=\"xtick_9\">\r\n    <g id=\"line2d_10\">\r\n     <path d=\"M 174.159918 262.769428 \r\nL 171.970892 264.984291 \r\n\" style=\"fill:none;stroke:#000000;stroke-linecap:square;stroke-width:0.8;\"/>\r\n    </g>\r\n    <g id=\"text_9\">\r\n     <!-- 2.0 -->\r\n     <g transform=\"translate(158.103667 287.721858)scale(0.1 -0.1)\">\r\n      <use xlink:href=\"#DejaVuSans-50\"/>\r\n      <use x=\"63.623047\" xlink:href=\"#DejaVuSans-46\"/>\r\n      <use x=\"95.410156\" xlink:href=\"#DejaVuSans-48\"/>\r\n     </g>\r\n    </g>\r\n   </g>\r\n  </g>\r\n  <g id=\"axis3d_2\">\r\n   <g id=\"line2d_11\">\r\n    <path d=\"M 266.560834 182.015381 \r\nL 183.840905 266.906378 \r\n\" style=\"fill:none;stroke:#000000;stroke-linecap:square;stroke-width:0.8;\"/>\r\n   </g>\r\n   <g id=\"Line3DCollection_2\">\r\n    <path d=\"M 29.110514 93.818716 \r\nL 34.438425 210.763945 \r\nL 189.564484 261.032578 \r\n\" style=\"fill:none;stroke:#b0b0b0;stroke-width:0.8;\"/>\r\n    <path d=\"M 40.301686 85.651908 \r\nL 45.088313 201.836998 \r\nL 199.219903 251.123743 \r\n\" style=\"fill:none;stroke:#b0b0b0;stroke-width:0.8;\"/>\r\n    <path d=\"M 51.271297 77.646785 \r\nL 55.536507 193.079114 \r\nL 208.682815 241.412467 \r\n\" style=\"fill:none;stroke:#b0b0b0;stroke-width:0.8;\"/>\r\n    <path d=\"M 62.025863 69.798593 \r\nL 65.788684 184.485537 \r\nL 217.958919 231.892902 \r\n\" style=\"fill:none;stroke:#b0b0b0;stroke-width:0.8;\"/>\r\n    <path d=\"M 72.571645 62.102762 \r\nL 75.850307 176.051685 \r\nL 227.053695 222.559425 \r\n\" style=\"fill:none;stroke:#b0b0b0;stroke-width:0.8;\"/>\r\n    <path d=\"M 82.914665 54.554897 \r\nL 85.726641 167.773145 \r\nL 235.972406 213.406634 \r\n\" style=\"fill:none;stroke:#b0b0b0;stroke-width:0.8;\"/>\r\n    <path d=\"M 93.060715 47.150772 \r\nL 95.422758 159.645668 \r\nL 244.720116 204.429331 \r\n\" style=\"fill:none;stroke:#b0b0b0;stroke-width:0.8;\"/>\r\n    <path d=\"M 103.015368 39.886319 \r\nL 104.943545 151.665156 \r\nL 253.301698 195.622517 \r\n\" style=\"fill:none;stroke:#b0b0b0;stroke-width:0.8;\"/>\r\n    <path d=\"M 112.783989 32.757624 \r\nL 114.293716 143.827657 \r\nL 261.721838 186.981382 \r\n\" style=\"fill:none;stroke:#b0b0b0;stroke-width:0.8;\"/>\r\n   </g>\r\n   <g id=\"xtick_10\">\r\n    <g id=\"line2d_12\">\r\n     <path d=\"M 188.257232 260.608963 \r\nL 192.182369 261.880904 \r\n\" style=\"fill:none;stroke:#000000;stroke-linecap:square;stroke-width:0.8;\"/>\r\n    </g>\r\n    <g id=\"text_10\">\r\n     <!-- −2.0 -->\r\n     <g transform=\"translate(190.303403 282.053986)scale(0.1 -0.1)\">\r\n      <use xlink:href=\"#DejaVuSans-8722\"/>\r\n      <use x=\"83.789062\" xlink:href=\"#DejaVuSans-50\"/>\r\n      <use x=\"147.412109\" xlink:href=\"#DejaVuSans-46\"/>\r\n      <use x=\"179.199219\" xlink:href=\"#DejaVuSans-48\"/>\r\n     </g>\r\n    </g>\r\n   </g>\r\n   <g id=\"xtick_11\">\r\n    <g id=\"line2d_13\">\r\n     <path d=\"M 197.921694 250.708613 \r\nL 201.819645 251.955063 \r\n\" style=\"fill:none;stroke:#000000;stroke-linecap:square;stroke-width:0.8;\"/>\r\n    </g>\r\n    <g id=\"text_11\">\r\n     <!-- −1.5 -->\r\n     <g transform=\"translate(199.834547 272.004276)scale(0.1 -0.1)\">\r\n      <use xlink:href=\"#DejaVuSans-8722\"/>\r\n      <use x=\"83.789062\" xlink:href=\"#DejaVuSans-49\"/>\r\n      <use x=\"147.412109\" xlink:href=\"#DejaVuSans-46\"/>\r\n      <use x=\"179.199219\" xlink:href=\"#DejaVuSans-53\"/>\r\n     </g>\r\n    </g>\r\n   </g>\r\n   <g id=\"xtick_12\">\r\n    <g id=\"line2d_14\">\r\n     <path d=\"M 207.39355 241.005572 \r\nL 211.264613 242.227289 \r\n\" style=\"fill:none;stroke:#000000;stroke-linecap:square;stroke-width:0.8;\"/>\r\n    </g>\r\n    <g id=\"text_12\">\r\n     <!-- −1.0 -->\r\n     <g transform=\"translate(209.175555 262.155048)scale(0.1 -0.1)\">\r\n      <use xlink:href=\"#DejaVuSans-8722\"/>\r\n      <use x=\"83.789062\" xlink:href=\"#DejaVuSans-49\"/>\r\n      <use x=\"147.412109\" xlink:href=\"#DejaVuSans-46\"/>\r\n      <use x=\"179.199219\" xlink:href=\"#DejaVuSans-48\"/>\r\n     </g>\r\n    </g>\r\n   </g>\r\n   <g id=\"xtick_13\">\r\n    <g id=\"line2d_15\">\r\n     <path d=\"M 216.6785 231.493998 \r\nL 220.522972 232.691711 \r\n\" style=\"fill:none;stroke:#000000;stroke-linecap:square;stroke-width:0.8;\"/>\r\n    </g>\r\n    <g id=\"text_13\">\r\n     <!-- −0.5 -->\r\n     <g transform=\"translate(218.332059 252.500362)scale(0.1 -0.1)\">\r\n      <use xlink:href=\"#DejaVuSans-8722\"/>\r\n      <use x=\"83.789062\" xlink:href=\"#DejaVuSans-48\"/>\r\n      <use x=\"147.412109\" xlink:href=\"#DejaVuSans-46\"/>\r\n      <use x=\"179.199219\" xlink:href=\"#DejaVuSans-53\"/>\r\n     </g>\r\n    </g>\r\n   </g>\r\n   <g id=\"xtick_14\">\r\n    <g id=\"line2d_16\">\r\n     <path d=\"M 225.782022 222.168279 \r\nL 229.600199 223.342689 \r\n\" style=\"fill:none;stroke:#000000;stroke-linecap:square;stroke-width:0.8;\"/>\r\n    </g>\r\n    <g id=\"text_14\">\r\n     <!-- 0.0 -->\r\n     <g transform=\"translate(231.499316 243.034509)scale(0.1 -0.1)\">\r\n      <use xlink:href=\"#DejaVuSans-48\"/>\r\n      <use x=\"63.623047\" xlink:href=\"#DejaVuSans-46\"/>\r\n      <use x=\"95.410156\" xlink:href=\"#DejaVuSans-48\"/>\r\n     </g>\r\n    </g>\r\n   </g>\r\n   <g id=\"xtick_15\">\r\n    <g id=\"line2d_17\">\r\n     <path d=\"M 234.709384 213.023022 \r\nL 238.501557 214.174802 \r\n\" style=\"fill:none;stroke:#000000;stroke-linecap:square;stroke-width:0.8;\"/>\r\n    </g>\r\n    <g id=\"text_15\">\r\n     <!-- 0.5 -->\r\n     <g transform=\"translate(240.302842 233.752005)scale(0.1 -0.1)\">\r\n      <use xlink:href=\"#DejaVuSans-48\"/>\r\n      <use x=\"63.623047\" xlink:href=\"#DejaVuSans-46\"/>\r\n      <use x=\"95.410156\" xlink:href=\"#DejaVuSans-53\"/>\r\n     </g>\r\n    </g>\r\n   </g>\r\n   <g id=\"xtick_16\">\r\n    <g id=\"line2d_18\">\r\n     <path d=\"M 243.465649 204.053037 \r\nL 247.232109 205.182835 \r\n\" style=\"fill:none;stroke:#000000;stroke-linecap:square;stroke-width:0.8;\"/>\r\n    </g>\r\n    <g id=\"text_16\">\r\n     <!-- 1.0 -->\r\n     <g transform=\"translate(248.937485 224.647572)scale(0.1 -0.1)\">\r\n      <use xlink:href=\"#DejaVuSans-49\"/>\r\n      <use x=\"63.623047\" xlink:href=\"#DejaVuSans-46\"/>\r\n      <use x=\"95.410156\" xlink:href=\"#DejaVuSans-48\"/>\r\n     </g>\r\n    </g>\r\n   </g>\r\n   <g id=\"xtick_17\">\r\n    <g id=\"line2d_19\">\r\n     <path d=\"M 252.055689 195.253334 \r\nL 255.796724 196.361774 \r\n\" style=\"fill:none;stroke:#000000;stroke-linecap:square;stroke-width:0.8;\"/>\r\n    </g>\r\n    <g id=\"text_17\">\r\n     <!-- 1.5 -->\r\n     <g transform=\"translate(257.408058 215.716137)scale(0.1 -0.1)\">\r\n      <use xlink:href=\"#DejaVuSans-49\"/>\r\n      <use x=\"63.623047\" xlink:href=\"#DejaVuSans-46\"/>\r\n      <use x=\"95.410156\" xlink:href=\"#DejaVuSans-53\"/>\r\n     </g>\r\n    </g>\r\n   </g>\r\n   <g id=\"xtick_18\">\r\n    <g id=\"line2d_20\">\r\n     <path d=\"M 260.484193 186.61911 \r\nL 264.200089 187.706791 \r\n\" style=\"fill:none;stroke:#000000;stroke-linecap:square;stroke-width:0.8;\"/>\r\n    </g>\r\n    <g id=\"text_18\">\r\n     <!-- 2.0 -->\r\n     <g transform=\"translate(265.719194 206.952813)scale(0.1 -0.1)\">\r\n      <use xlink:href=\"#DejaVuSans-50\"/>\r\n      <use x=\"63.623047\" xlink:href=\"#DejaVuSans-46\"/>\r\n      <use x=\"95.410156\" xlink:href=\"#DejaVuSans-48\"/>\r\n     </g>\r\n    </g>\r\n   </g>\r\n  </g>\r\n  <g id=\"axis3d_3\">\r\n   <g id=\"line2d_21\">\r\n    <path d=\"M 266.560834 182.015381 \r\nL 271.802814 67.543928 \r\n\" style=\"fill:none;stroke:#000000;stroke-linecap:square;stroke-width:0.8;\"/>\r\n   </g>\r\n   <g id=\"Line3DCollection_3\">\r\n    <path d=\"M 266.794833 176.905441 \r\nL 119.614086 134.37054 \r\nL 27.878563 210.819484 \r\n\" style=\"fill:none;stroke:#b0b0b0;stroke-width:0.8;\"/>\r\n    <path d=\"M 267.368674 164.374209 \r\nL 119.474549 122.236057 \r\nL 27.260542 197.985886 \r\n\" style=\"fill:none;stroke:#b0b0b0;stroke-width:0.8;\"/>\r\n    <path d=\"M 267.948161 151.719712 \r\nL 119.333705 109.987906 \r\nL 26.636211 185.021244 \r\n\" style=\"fill:none;stroke:#b0b0b0;stroke-width:0.8;\"/>\r\n    <path d=\"M 268.533375 138.940124 \r\nL 119.191536 97.624483 \r\nL 26.005472 171.923539 \r\n\" style=\"fill:none;stroke:#b0b0b0;stroke-width:0.8;\"/>\r\n    <path d=\"M 269.124403 126.033579 \r\nL 119.048022 85.144153 \r\nL 25.368226 158.690714 \r\n\" style=\"fill:none;stroke:#b0b0b0;stroke-width:0.8;\"/>\r\n    <path d=\"M 269.721332 112.998176 \r\nL 118.903145 72.54525 \r\nL 24.724372 145.320666 \r\n\" style=\"fill:none;stroke:#b0b0b0;stroke-width:0.8;\"/>\r\n    <path d=\"M 270.324251 99.831977 \r\nL 118.756884 59.826076 \r\nL 24.073806 131.811249 \r\n\" style=\"fill:none;stroke:#b0b0b0;stroke-width:0.8;\"/>\r\n    <path d=\"M 270.933249 86.533002 \r\nL 118.609221 46.984901 \r\nL 23.416424 118.160273 \r\n\" style=\"fill:none;stroke:#b0b0b0;stroke-width:0.8;\"/>\r\n    <path d=\"M 271.548421 73.099233 \r\nL 118.460135 34.01996 \r\nL 22.752116 104.365502 \r\n\" style=\"fill:none;stroke:#b0b0b0;stroke-width:0.8;\"/>\r\n   </g>\r\n   <g id=\"xtick_19\">\r\n    <g id=\"line2d_22\">\r\n     <path d=\"M 265.559465 176.548423 \r\nL 269.268512 177.620329 \r\n\" style=\"fill:none;stroke:#000000;stroke-linecap:square;stroke-width:0.8;\"/>\r\n    </g>\r\n    <g id=\"text_19\">\r\n     <!-- −0.4 -->\r\n     <g transform=\"translate(272.939971 181.908113)scale(0.1 -0.1)\">\r\n      <defs>\r\n       <path d=\"M 37.796875 64.3125 \r\nL 12.890625 25.390625 \r\nL 37.796875 25.390625 \r\nz\r\nM 35.203125 72.90625 \r\nL 47.609375 72.90625 \r\nL 47.609375 25.390625 \r\nL 58.015625 25.390625 \r\nL 58.015625 17.1875 \r\nL 47.609375 17.1875 \r\nL 47.609375 0 \r\nL 37.796875 0 \r\nL 37.796875 17.1875 \r\nL 4.890625 17.1875 \r\nL 4.890625 26.703125 \r\nz\r\n\" id=\"DejaVuSans-52\"/>\r\n      </defs>\r\n      <use xlink:href=\"#DejaVuSans-8722\"/>\r\n      <use x=\"83.789062\" xlink:href=\"#DejaVuSans-48\"/>\r\n      <use x=\"147.412109\" xlink:href=\"#DejaVuSans-46\"/>\r\n      <use x=\"179.199219\" xlink:href=\"#DejaVuSans-52\"/>\r\n     </g>\r\n    </g>\r\n   </g>\r\n   <g id=\"xtick_20\">\r\n    <g id=\"line2d_23\">\r\n     <path d=\"M 266.127034 164.02044 \r\nL 269.854928 165.082595 \r\n\" style=\"fill:none;stroke:#000000;stroke-linecap:square;stroke-width:0.8;\"/>\r\n    </g>\r\n    <g id=\"text_20\">\r\n     <!-- −0.3 -->\r\n     <g transform=\"translate(273.601389 169.400534)scale(0.1 -0.1)\">\r\n      <defs>\r\n       <path d=\"M 40.578125 39.3125 \r\nQ 47.65625 37.796875 51.625 33 \r\nQ 55.609375 28.21875 55.609375 21.1875 \r\nQ 55.609375 10.40625 48.1875 4.484375 \r\nQ 40.765625 -1.421875 27.09375 -1.421875 \r\nQ 22.515625 -1.421875 17.65625 -0.515625 \r\nQ 12.796875 0.390625 7.625 2.203125 \r\nL 7.625 11.71875 \r\nQ 11.71875 9.328125 16.59375 8.109375 \r\nQ 21.484375 6.890625 26.8125 6.890625 \r\nQ 36.078125 6.890625 40.9375 10.546875 \r\nQ 45.796875 14.203125 45.796875 21.1875 \r\nQ 45.796875 27.640625 41.28125 31.265625 \r\nQ 36.765625 34.90625 28.71875 34.90625 \r\nL 20.21875 34.90625 \r\nL 20.21875 43.015625 \r\nL 29.109375 43.015625 \r\nQ 36.375 43.015625 40.234375 45.921875 \r\nQ 44.09375 48.828125 44.09375 54.296875 \r\nQ 44.09375 59.90625 40.109375 62.90625 \r\nQ 36.140625 65.921875 28.71875 65.921875 \r\nQ 24.65625 65.921875 20.015625 65.03125 \r\nQ 15.375 64.15625 9.8125 62.3125 \r\nL 9.8125 71.09375 \r\nQ 15.4375 72.65625 20.34375 73.4375 \r\nQ 25.25 74.21875 29.59375 74.21875 \r\nQ 40.828125 74.21875 47.359375 69.109375 \r\nQ 53.90625 64.015625 53.90625 55.328125 \r\nQ 53.90625 49.265625 50.4375 45.09375 \r\nQ 46.96875 40.921875 40.578125 39.3125 \r\nz\r\n\" id=\"DejaVuSans-51\"/>\r\n      </defs>\r\n      <use xlink:href=\"#DejaVuSans-8722\"/>\r\n      <use x=\"83.789062\" xlink:href=\"#DejaVuSans-48\"/>\r\n      <use x=\"147.412109\" xlink:href=\"#DejaVuSans-46\"/>\r\n      <use x=\"179.199219\" xlink:href=\"#DejaVuSans-51\"/>\r\n     </g>\r\n    </g>\r\n   </g>\r\n   <g id=\"xtick_21\">\r\n    <g id=\"line2d_24\">\r\n     <path d=\"M 266.700184 151.369273 \r\nL 270.447117 152.421434 \r\n\" style=\"fill:none;stroke:#000000;stroke-linecap:square;stroke-width:0.8;\"/>\r\n    </g>\r\n    <g id=\"text_21\">\r\n     <!-- −0.2 -->\r\n     <g transform=\"translate(274.269293 156.770283)scale(0.1 -0.1)\">\r\n      <use xlink:href=\"#DejaVuSans-8722\"/>\r\n      <use x=\"83.789062\" xlink:href=\"#DejaVuSans-48\"/>\r\n      <use x=\"147.412109\" xlink:href=\"#DejaVuSans-46\"/>\r\n      <use x=\"179.199219\" xlink:href=\"#DejaVuSans-50\"/>\r\n     </g>\r\n    </g>\r\n   </g>\r\n   <g id=\"xtick_22\">\r\n    <g id=\"line2d_25\">\r\n     <path d=\"M 267.278997 138.593098 \r\nL 271.045164 139.635014 \r\n\" style=\"fill:none;stroke:#000000;stroke-linecap:square;stroke-width:0.8;\"/>\r\n    </g>\r\n    <g id=\"text_22\">\r\n     <!-- −0.1 -->\r\n     <g transform=\"translate(274.94378 144.015544)scale(0.1 -0.1)\">\r\n      <use xlink:href=\"#DejaVuSans-8722\"/>\r\n      <use x=\"83.789062\" xlink:href=\"#DejaVuSans-48\"/>\r\n      <use x=\"147.412109\" xlink:href=\"#DejaVuSans-46\"/>\r\n      <use x=\"179.199219\" xlink:href=\"#DejaVuSans-49\"/>\r\n     </g>\r\n    </g>\r\n   </g>\r\n   <g id=\"xtick_23\">\r\n    <g id=\"line2d_26\">\r\n     <path d=\"M 267.863558 125.690052 \r\nL 271.649158 126.721467 \r\n\" style=\"fill:none;stroke:#000000;stroke-linecap:square;stroke-width:0.8;\"/>\r\n    </g>\r\n    <g id=\"text_23\">\r\n     <!-- 0.0 -->\r\n     <g transform=\"translate(279.814792 131.134468)scale(0.1 -0.1)\">\r\n      <use xlink:href=\"#DejaVuSans-48\"/>\r\n      <use x=\"63.623047\" xlink:href=\"#DejaVuSans-46\"/>\r\n      <use x=\"95.410156\" xlink:href=\"#DejaVuSans-48\"/>\r\n     </g>\r\n    </g>\r\n   </g>\r\n   <g id=\"xtick_24\">\r\n    <g id=\"line2d_27\">\r\n     <path d=\"M 268.453953 112.658236 \r\nL 272.259186 113.678887 \r\n\" style=\"fill:none;stroke:#000000;stroke-linecap:square;stroke-width:0.8;\"/>\r\n    </g>\r\n    <g id=\"text_24\">\r\n     <!-- 0.1 -->\r\n     <g transform=\"translate(280.502741 118.12517)scale(0.1 -0.1)\">\r\n      <use xlink:href=\"#DejaVuSans-48\"/>\r\n      <use x=\"63.623047\" xlink:href=\"#DejaVuSans-46\"/>\r\n      <use x=\"95.410156\" xlink:href=\"#DejaVuSans-49\"/>\r\n     </g>\r\n    </g>\r\n   </g>\r\n   <g id=\"xtick_25\">\r\n    <g id=\"line2d_28\">\r\n     <path d=\"M 269.050269 99.495712 \r\nL 272.875341 100.505332 \r\n\" style=\"fill:none;stroke:#000000;stroke-linecap:square;stroke-width:0.8;\"/>\r\n    </g>\r\n    <g id=\"text_25\">\r\n     <!-- 0.2 -->\r\n     <g transform=\"translate(281.197572 104.985724)scale(0.1 -0.1)\">\r\n      <use xlink:href=\"#DejaVuSans-48\"/>\r\n      <use x=\"63.623047\" xlink:href=\"#DejaVuSans-46\"/>\r\n      <use x=\"95.410156\" xlink:href=\"#DejaVuSans-50\"/>\r\n     </g>\r\n    </g>\r\n   </g>\r\n   <g id=\"xtick_26\">\r\n    <g id=\"line2d_29\">\r\n     <path d=\"M 269.652597 86.200504 \r\nL 273.497715 87.198817 \r\n\" style=\"fill:none;stroke:#000000;stroke-linecap:square;stroke-width:0.8;\"/>\r\n    </g>\r\n    <g id=\"text_26\">\r\n     <!-- 0.3 -->\r\n     <g transform=\"translate(281.899389 91.714168)scale(0.1 -0.1)\">\r\n      <use xlink:href=\"#DejaVuSans-48\"/>\r\n      <use x=\"63.623047\" xlink:href=\"#DejaVuSans-46\"/>\r\n      <use x=\"95.410156\" xlink:href=\"#DejaVuSans-51\"/>\r\n     </g>\r\n    </g>\r\n   </g>\r\n   <g id=\"xtick_27\">\r\n    <g id=\"line2d_30\">\r\n     <path d=\"M 270.261026 72.770596 \r\nL 274.126401 73.757321 \r\n\" style=\"fill:none;stroke:#000000;stroke-linecap:square;stroke-width:0.8;\"/>\r\n    </g>\r\n    <g id=\"text_27\">\r\n     <!-- 0.4 -->\r\n     <g transform=\"translate(282.608299 78.3085)scale(0.1 -0.1)\">\r\n      <use xlink:href=\"#DejaVuSans-48\"/>\r\n      <use x=\"63.623047\" xlink:href=\"#DejaVuSans-46\"/>\r\n      <use x=\"95.410156\" xlink:href=\"#DejaVuSans-52\"/>\r\n     </g>\r\n    </g>\r\n   </g>\r\n  </g>\r\n  <g id=\"axes_1\">\r\n   <g id=\"Poly3DCollection_1\">\r\n    <path clip-path=\"url(#pe5f761325c)\" d=\"M 118.728425 95.317435 \r\nL 122.705704 92.052497 \r\nL 129.345987 93.958365 \r\nL 125.386395 97.340199 \r\nz\r\n\" style=\"fill:#dcdddd;\"/>\r\n    <path clip-path=\"url(#pe5f761325c)\" d=\"M 125.386395 97.340199 \r\nL 129.345987 93.958365 \r\nL 136.015861 95.922642 \r\nL 132.074109 99.483051 \r\nz\r\n\" style=\"fill:#dcdddd;\"/>\r\n    <path clip-path=\"url(#pe5f761325c)\" d=\"M 114.721691 98.698683 \r\nL 118.728425 95.317435 \r\nL 125.386395 97.340199 \r\nL 121.398461 100.92922 \r\nz\r\n\" style=\"fill:#dbdcde;\"/>\r\n    <path clip-path=\"url(#pe5f761325c)\" d=\"M 132.074109 99.483051 \r\nL 136.015861 95.922642 \r\nL 142.715143 97.946876 \r\nL 138.79092 101.749333 \r\nz\r\n\" style=\"fill:#dbdcde;\"/>\r\n    <path clip-path=\"url(#pe5f761325c)\" d=\"M 121.398461 100.92922 \r\nL 125.386395 97.340199 \r\nL 132.074109 99.483051 \r\nL 128.105293 103.395818 \r\nz\r\n\" style=\"fill:#dbdcde;\"/>\r\n    <path clip-path=\"url(#pe5f761325c)\" d=\"M 138.79092 101.749333 \r\nL 142.715143 97.946876 \r\nL 149.443634 100.009564 \r\nL 145.536063 104.091067 \r\nz\r\n\" style=\"fill:#dadce0;\"/>\r\n    <path clip-path=\"url(#pe5f761325c)\" d=\"M 110.686231 102.241269 \r\nL 114.721691 98.698683 \r\nL 121.398461 100.92922 \r\nL 117.383761 104.814621 \r\nz\r\n\" style=\"fill:#dadce0;\"/>\r\n    <path clip-path=\"url(#pe5f761325c)\" d=\"M 128.105293 103.395818 \r\nL 132.074109 99.483051 \r\nL 138.79092 101.749333 \r\nL 134.840669 106.105068 \r\nz\r\n\" style=\"fill:#d9dce1;\"/>\r\n    <path clip-path=\"url(#pe5f761325c)\" d=\"M 145.536063 104.091067 \r\nL 149.443634 100.009564 \r\nL 156.201426 102.059241 \r\nL 152.309328 106.393654 \r\nz\r\n\" style=\"fill:#d9dce1;\"/>\r\n    <path clip-path=\"url(#pe5f761325c)\" d=\"M 117.383761 104.814621 \r\nL 121.398461 100.92922 \r\nL 128.105293 103.395818 \r\nL 124.112114 107.820539 \r\nz\r\n\" style=\"fill:#d9dce1;\"/>\r\n    <path clip-path=\"url(#pe5f761325c)\" d=\"M 134.840669 106.105068 \r\nL 138.79092 101.749333 \r\nL 145.536063 104.091067 \r\nL 141.602666 108.959042 \r\nz\r\n\" style=\"fill:#d8dce2;\"/>\r\n    <path clip-path=\"url(#pe5f761325c)\" d=\"M 152.309328 106.393654 \r\nL 156.201426 102.059241 \r\nL 162.98926 104.021987 \r\nL 159.111868 108.492623 \r\nz\r\n\" style=\"fill:#d9dce1;\"/>\r\n    <path clip-path=\"url(#pe5f761325c)\" d=\"M 106.622933 105.982737 \r\nL 110.686231 102.241269 \r\nL 117.383761 104.814621 \r\nL 113.344228 109.070554 \r\nz\r\n\" style=\"fill:#d9dce1;\"/>\r\n    <path clip-path=\"url(#pe5f761325c)\" d=\"M 124.112114 107.820539 \r\nL 128.105293 103.395818 \r\nL 134.840669 106.105068 \r\nL 130.868291 111.270741 \r\nz\r\n\" style=\"fill:#d6dce4;\"/>\r\n    <path clip-path=\"url(#pe5f761325c)\" d=\"M 141.602666 108.959042 \r\nL 145.536063 104.091067 \r\nL 152.309328 106.393654 \r\nL 148.390298 111.724384 \r\nz\r\n\" style=\"fill:#d6dce4;\"/>\r\n    <path clip-path=\"url(#pe5f761325c)\" d=\"M 159.111868 108.492623 \r\nL 162.98926 104.021987 \r\nL 169.808617 105.827422 \r\nL 165.946509 110.23139 \r\nz\r\n\" style=\"fill:#d9dce1;\"/>\r\n    <path clip-path=\"url(#pe5f761325c)\" d=\"M 113.344228 109.070554 \r\nL 117.383761 104.814621 \r\nL 124.112114 107.820539 \r\nL 120.097975 112.889378 \r\nz\r\n\" style=\"fill:#d6dce4;\"/>\r\n    <path clip-path=\"url(#pe5f761325c)\" d=\"M 130.868291 111.270741 \r\nL 134.840669 106.105068 \r\nL 141.602666 108.959042 \r\nL 137.648252 114.982221 \r\nz\r\n\" style=\"fill:#d3dbe7;\"/>\r\n    <path clip-path=\"url(#pe5f761325c)\" d=\"M 148.390298 111.724384 \r\nL 152.309328 106.393654 \r\nL 159.111868 108.492623 \r\nL 155.205206 114.066594 \r\nz\r\n\" style=\"fill:#d5dbe5;\"/>\r\n    <path clip-path=\"url(#pe5f761325c)\" d=\"M 120.097975 112.889378 \r\nL 124.112114 107.820539 \r\nL 130.868291 111.270741 \r\nL 126.878923 117.457803 \r\nz\r\n\" style=\"fill:#d1dae9;\"/>\r\n    <path clip-path=\"url(#pe5f761325c)\" d=\"M 102.532379 109.929911 \r\nL 106.622933 105.982737 \r\nL 113.344228 109.070554 \r\nL 109.281341 113.709894 \r\nz\r\n\" style=\"fill:#d7dce3;\"/>\r\n    <path clip-path=\"url(#pe5f761325c)\" d=\"M 137.648252 114.982221 \r\nL 141.602666 108.959042 \r\nL 148.390298 111.724384 \r\nL 144.449322 118.520458 \r\nz\r\n\" style=\"fill:#cfdaea;\"/>\r\n    <path clip-path=\"url(#pe5f761325c)\" d=\"M 165.946509 110.23139 \r\nL 169.808617 105.827422 \r\nL 176.66132 107.44481 \r\nL 172.816957 111.541427 \r\nz\r\n\" style=\"fill:#d9dce1;\"/>\r\n    <path clip-path=\"url(#pe5f761325c)\" d=\"M 126.878923 117.457803 \r\nL 130.868291 111.270741 \r\nL 137.648252 114.982221 \r\nL 133.679545 122.462591 \r\nz\r\n\" style=\"fill:#cbd8ee;\"/>\r\n    <path clip-path=\"url(#pe5f761325c)\" d=\"M 155.205206 114.066594 \r\nL 159.111868 108.492623 \r\nL 165.946509 110.23139 \r\nL 162.052465 115.667306 \r\nz\r\n\" style=\"fill:#d5dbe5;\"/>\r\n    <path clip-path=\"url(#pe5f761325c)\" d=\"M 109.281341 113.709894 \r\nL 113.344228 109.070554 \r\nL 120.097975 112.889378 \r\nL 116.065737 118.624038 \r\nz\r\n\" style=\"fill:#d2dbe8;\"/>\r\n    <path clip-path=\"url(#pe5f761325c)\" d=\"M 144.449322 118.520458 \r\nL 148.390298 111.724384 \r\nL 155.205206 114.066594 \r\nL 151.273462 121.263842 \r\nz\r\n\" style=\"fill:#ccd9ed;\"/>\r\n    <path clip-path=\"url(#pe5f761325c)\" d=\"M 133.679545 122.462591 \r\nL 137.648252 114.982221 \r\nL 144.449322 118.520458 \r\nL 140.494027 127.163955 \r\nz\r\n\" style=\"fill:#c4d5f3;\"/>\r\n    <path clip-path=\"url(#pe5f761325c)\" d=\"M 116.065737 118.624038 \r\nL 120.097975 112.889378 \r\nL 126.878923 117.457803 \r\nL 122.877253 124.698468 \r\nz\r\n\" style=\"fill:#cad8ef;\"/>\r\n    <path clip-path=\"url(#pe5f761325c)\" d=\"M 172.816957 111.541427 \r\nL 176.66132 107.44481 \r\nL 183.548675 108.909325 \r\nL 179.725996 112.500638 \r\nz\r\n\" style=\"fill:#dbdcde;\"/>\r\n    <path clip-path=\"url(#pe5f761325c)\" d=\"M 98.414144 114.035209 \r\nL 102.532379 109.929911 \r\nL 109.281341 113.709894 \r\nL 105.194856 118.637301 \r\nz\r\n\" style=\"fill:#d4dbe6;\"/>\r\n    <path clip-path=\"url(#pe5f761325c)\" d=\"M 122.877253 124.698468 \r\nL 126.878923 117.457803 \r\nL 133.679545 122.462591 \r\nL 129.703263 131.442093 \r\nz\r\n\" style=\"fill:#bfd3f6;\"/>\r\n    <path clip-path=\"url(#pe5f761325c)\" d=\"M 162.052465 115.667306 \r\nL 165.946509 110.23139 \r\nL 172.816957 111.541427 \r\nL 168.939218 116.386717 \r\nz\r\n\" style=\"fill:#d6dce4;\"/>\r\n    <path clip-path=\"url(#pe5f761325c)\" d=\"M 140.494027 127.163955 \r\nL 144.449322 118.520458 \r\nL 151.273462 121.263842 \r\nL 147.323987 130.506756 \r\nz\r\n\" style=\"fill:#bfd3f6;\"/>\r\n    <path clip-path=\"url(#pe5f761325c)\" d=\"M 151.273462 121.263842 \r\nL 155.205206 114.066594 \r\nL 162.052465 115.667306 \r\nL 158.129071 122.621032 \r\nz\r\n\" style=\"fill:#ccd9ed;\"/>\r\n    <path clip-path=\"url(#pe5f761325c)\" d=\"M 129.703263 131.442093 \r\nL 133.679545 122.462591 \r\nL 140.494027 127.163955 \r\nL 136.53285 137.703306 \r\nz\r\n\" style=\"fill:#b2ccfb;\"/>\r\n    <path clip-path=\"url(#pe5f761325c)\" d=\"M 105.194856 118.637301 \r\nL 109.281341 113.709894 \r\nL 116.065737 118.624038 \r\nL 112.015659 124.852027 \r\nz\r\n\" style=\"fill:#ccd9ed;\"/>\r\n    <path clip-path=\"url(#pe5f761325c)\" d=\"M 112.015659 124.852027 \r\nL 116.065737 118.624038 \r\nL 122.877253 124.698468 \r\nL 118.864577 132.711813 \r\nz\r\n\" style=\"fill:#bfd3f6;\"/>\r\n    <path clip-path=\"url(#pe5f761325c)\" d=\"M 118.864577 132.711813 \r\nL 122.877253 124.698468 \r\nL 129.703263 131.442093 \r\nL 125.72238 141.511618 \r\nz\r\n\" style=\"fill:#aec9fc;\"/>\r\n    <path clip-path=\"url(#pe5f761325c)\" d=\"M 179.725996 112.500638 \r\nL 183.548675 108.909325 \r\nL 190.470666 110.318833 \r\nL 186.673652 113.32649 \r\nz\r\n\" style=\"fill:#dddcdc;\"/>\r\n    <path clip-path=\"url(#pe5f761325c)\" d=\"M 136.53285 137.703306 \r\nL 140.494027 127.163955 \r\nL 147.323987 130.506756 \r\nL 143.365973 141.846255 \r\nz\r\n\" style=\"fill:#aac7fd;\"/>\r\n    <path clip-path=\"url(#pe5f761325c)\" d=\"M 125.72238 141.511618 \r\nL 129.703263 131.442093 \r\nL 136.53285 137.703306 \r\nL 132.570932 149.611965 \r\nz\r\n\" style=\"fill:#9bbcff;\"/>\r\n    <path clip-path=\"url(#pe5f761325c)\" d=\"M 132.570932 149.611965 \r\nL 136.53285 137.703306 \r\nL 143.365973 141.846255 \r\nL 139.406618 154.69519 \r\nz\r\n\" style=\"fill:#8fb1fe;\"/>\r\n    <path clip-path=\"url(#pe5f761325c)\" d=\"M 147.323987 130.506756 \r\nL 151.273462 121.263842 \r\nL 158.129071 122.621032 \r\nL 154.182086 131.487996 \r\nz\r\n\" style=\"fill:#bfd3f6;\"/>\r\n    <path clip-path=\"url(#pe5f761325c)\" d=\"M 121.731871 151.745328 \r\nL 125.72238 141.511618 \r\nL 132.570932 149.611965 \r\nL 128.604974 161.709682 \r\nz\r\n\" style=\"fill:#81a4fb;\"/>\r\n    <path clip-path=\"url(#pe5f761325c)\" d=\"M 168.939218 116.386717 \r\nL 172.816957 111.541427 \r\nL 179.725996 112.500638 \r\nL 175.871177 116.382214 \r\nz\r\n\" style=\"fill:#d9dce1;\"/>\r\n    <path clip-path=\"url(#pe5f761325c)\" d=\"M 128.604974 161.709682 \r\nL 132.570932 149.611965 \r\nL 139.406618 154.69519 \r\nL 135.445688 167.743811 \r\nz\r\n\" style=\"fill:#6f92f3;\"/>\r\n    <path clip-path=\"url(#pe5f761325c)\" d=\"M 158.129071 122.621032 \r\nL 162.052465 115.667306 \r\nL 168.939218 116.386717 \r\nL 165.02891 122.330961 \r\nz\r\n\" style=\"fill:#cfdaea;\"/>\r\n    <path clip-path=\"url(#pe5f761325c)\" d=\"M 94.266158 118.187199 \r\nL 98.414144 114.035209 \r\nL 105.194856 118.637301 \r\nL 101.081595 123.630845 \r\nz\r\n\" style=\"fill:#d1dae9;\"/>\r\n    <path clip-path=\"url(#pe5f761325c)\" d=\"M 114.835669 140.85514 \r\nL 118.864577 132.711813 \r\nL 125.72238 141.511618 \r\nL 121.731871 151.745328 \r\nz\r\n\" style=\"fill:#9bbcff;\"/>\r\n    <path clip-path=\"url(#pe5f761325c)\" d=\"M 124.619992 172.371185 \r\nL 128.604974 161.709682 \r\nL 135.445688 167.743811 \r\nL 131.47138 179.193746 \r\nz\r\n\" style=\"fill:#5572df;\"/>\r\n    <path clip-path=\"url(#pe5f761325c)\" d=\"M 101.081595 123.630845 \r\nL 105.194856 118.637301 \r\nL 112.015659 124.852027 \r\nL 107.94335 131.174866 \r\nz\r\n\" style=\"fill:#c5d6f2;\"/>\r\n    <path clip-path=\"url(#pe5f761325c)\" d=\"M 107.94335 131.174866 \r\nL 112.015659 124.852027 \r\nL 118.864577 132.711813 \r\nL 114.835669 140.85514 \r\nz\r\n\" style=\"fill:#b3cdfb;\"/>\r\n    <path clip-path=\"url(#pe5f761325c)\" d=\"M 143.365973 141.846255 \r\nL 147.323987 130.506756 \r\nL 154.182086 131.487996 \r\nL 150.219896 142.317509 \r\nz\r\n\" style=\"fill:#a9c6fd;\"/>\r\n    <path clip-path=\"url(#pe5f761325c)\" d=\"M 117.716499 160.86099 \r\nL 121.731871 151.745328 \r\nL 128.604974 161.709682 \r\nL 124.619992 172.371185 \r\nz\r\n\" style=\"fill:#6a8bef;\"/>\r\n    <path clip-path=\"url(#pe5f761325c)\" d=\"M 186.673652 113.32649 \r\nL 190.470666 110.318833 \r\nL 197.42577 111.797601 \r\nL 193.656674 114.295603 \r\nz\r\n\" style=\"fill:#dedcdb;\"/>\r\n    <path clip-path=\"url(#pe5f761325c)\" d=\"M 139.406618 154.69519 \r\nL 143.365973 141.846255 \r\nL 150.219896 142.317509 \r\nL 146.25061 154.563061 \r\nz\r\n\" style=\"fill:#8db0fe;\"/>\r\n    <path clip-path=\"url(#pe5f761325c)\" d=\"M 135.445688 167.743811 \r\nL 139.406618 154.69519 \r\nL 146.25061 154.563061 \r\nL 142.277222 167.001635 \r\nz\r\n\" style=\"fill:#6e90f2;\"/>\r\n    <path clip-path=\"url(#pe5f761325c)\" d=\"M 110.777452 148.232634 \r\nL 114.835669 140.85514 \r\nL 121.731871 151.745328 \r\nL 117.716499 160.86099 \r\nz\r\n\" style=\"fill:#89acfd;\"/>\r\n    <path clip-path=\"url(#pe5f761325c)\" d=\"M 120.590961 180.003891 \r\nL 124.619992 172.371185 \r\nL 131.47138 179.193746 \r\nL 127.460782 187.286833 \r\nz\r\n\" style=\"fill:#4358cb;\"/>\r\n    <path clip-path=\"url(#pe5f761325c)\" d=\"M 154.182086 131.487996 \r\nL 158.129071 122.621032 \r\nL 165.02891 122.330961 \r\nL 161.089275 129.661317 \r\nz\r\n\" style=\"fill:#c4d5f3;\"/>\r\n    <path clip-path=\"url(#pe5f761325c)\" d=\"M 175.871177 116.382214 \r\nL 179.725996 112.500638 \r\nL 186.673652 113.32649 \r\nL 182.848854 116.095454 \r\nz\r\n\" style=\"fill:#dddcdc;\"/>\r\n    <path clip-path=\"url(#pe5f761325c)\" d=\"M 131.47138 179.193746 \r\nL 135.445688 167.743811 \r\nL 142.277222 167.001635 \r\nL 138.293165 177.950719 \r\nz\r\n\" style=\"fill:#536edd;\"/>\r\n    <path clip-path=\"url(#pe5f761325c)\" d=\"M 113.653045 167.596495 \r\nL 117.716499 160.86099 \r\nL 124.619992 172.371185 \r\nL 120.590961 180.003891 \r\nz\r\n\" style=\"fill:#5977e3;\"/>\r\n    <path clip-path=\"url(#pe5f761325c)\" d=\"M 165.02891 122.330961 \r\nL 168.939218 116.386717 \r\nL 175.871177 116.382214 \r\nL 171.98393 120.682971 \r\nz\r\n\" style=\"fill:#d5dbe5;\"/>\r\n    <path clip-path=\"url(#pe5f761325c)\" d=\"M 103.839076 137.034034 \r\nL 107.94335 131.174866 \r\nL 114.835669 140.85514 \r\nL 110.777452 148.232634 \r\nz\r\n\" style=\"fill:#a7c5fe;\"/>\r\n    <path clip-path=\"url(#pe5f761325c)\" d=\"M 90.084589 122.228591 \r\nL 94.266158 118.187199 \r\nL 101.081595 123.630845 \r\nL 96.93514 128.378164 \r\nz\r\n\" style=\"fill:#cdd9ec;\"/>\r\n    <path clip-path=\"url(#pe5f761325c)\" d=\"M 193.656674 114.295603 \r\nL 197.42577 111.797601 \r\nL 204.411663 113.445113 \r\nL 200.669929 115.629785 \r\nz\r\n\" style=\"fill:#e0dbd8;\"/>\r\n    <path clip-path=\"url(#pe5f761325c)\" d=\"M 96.93514 128.378164 \r\nL 101.081595 123.630845 \r\nL 107.94335 131.174866 \r\nL 103.839076 137.034034 \r\nz\r\n\" style=\"fill:#bfd3f6;\"/>\r\n    <path clip-path=\"url(#pe5f761325c)\" d=\"M 150.219896 142.317509 \r\nL 154.182086 131.487996 \r\nL 161.089275 129.661317 \r\nL 157.126105 138.418312 \r\nz\r\n\" style=\"fill:#b3cdfb;\"/>\r\n    <path clip-path=\"url(#pe5f761325c)\" d=\"M 127.460782 187.286833 \r\nL 131.47138 179.193746 \r\nL 138.293165 177.950719 \r\nL 134.281433 185.762909 \r\nz\r\n\" style=\"fill:#4055c8;\"/>\r\n    <path clip-path=\"url(#pe5f761325c)\" d=\"M 106.671206 153.958121 \r\nL 110.777452 148.232634 \r\nL 117.716499 160.86099 \r\nL 113.653045 167.596495 \r\nz\r\n\" style=\"fill:#7b9ff9;\"/>\r\n    <path clip-path=\"url(#pe5f761325c)\" d=\"M 116.490026 183.606768 \r\nL 120.590961 180.003891 \r\nL 127.460782 187.286833 \r\nL 123.386204 190.919706 \r\nz\r\n\" style=\"fill:#3c4ec2;\"/>\r\n    <path clip-path=\"url(#pe5f761325c)\" d=\"M 182.848854 116.095454 \r\nL 186.673652 113.32649 \r\nL 193.656674 114.295603 \r\nL 189.866233 116.090035 \r\nz\r\n\" style=\"fill:#e0dbd8;\"/>\r\n    <path clip-path=\"url(#pe5f761325c)\" d=\"M 146.25061 154.563061 \r\nL 150.219896 142.317509 \r\nL 157.126105 138.418312 \r\nL 153.14616 148.214188 \r\nz\r\n\" style=\"fill:#9dbdff;\"/>\r\n    <path clip-path=\"url(#pe5f761325c)\" d=\"M 200.669929 115.629785 \r\nL 204.411663 113.445113 \r\nL 211.426414 115.29869 \r\nL 207.708949 117.412415 \r\nz\r\n\" style=\"fill:#e0dbd8;\"/>\r\n    <path clip-path=\"url(#pe5f761325c)\" d=\"M 109.51721 171.156085 \r\nL 113.653045 167.596495 \r\nL 120.590961 180.003891 \r\nL 116.490026 183.606768 \r\nz\r\n\" style=\"fill:#5470de;\"/>\r\n    <path clip-path=\"url(#pe5f761325c)\" d=\"M 161.089275 129.661317 \r\nL 165.02891 122.330961 \r\nL 171.98393 120.682971 \r\nL 168.064906 125.509856 \r\nz\r\n\" style=\"fill:#cfdaea;\"/>\r\n    <path clip-path=\"url(#pe5f761325c)\" d=\"M 99.689527 141.87463 \r\nL 103.839076 137.034034 \r\nL 110.777452 148.232634 \r\nL 106.671206 153.958121 \r\nz\r\n\" style=\"fill:#9fbfff;\"/>\r\n    <path clip-path=\"url(#pe5f761325c)\" d=\"M 171.98393 120.682971 \r\nL 175.871177 116.382214 \r\nL 182.848854 116.095454 \r\nL 178.996198 118.496153 \r\nz\r\n\" style=\"fill:#dddcdc;\"/>\r\n    <path clip-path=\"url(#pe5f761325c)\" d=\"M 142.277222 167.001635 \r\nL 146.25061 154.563061 \r\nL 153.14616 148.214188 \r\nL 149.153866 158.169875 \r\nz\r\n\" style=\"fill:#82a6fb;\"/>\r\n    <path clip-path=\"url(#pe5f761325c)\" d=\"M 85.864564 126.002324 \r\nL 90.084589 122.228591 \r\nL 96.93514 128.378164 \r\nL 92.747039 132.567954 \r\nz\r\n\" style=\"fill:#cbd8ee;\"/>\r\n    <path clip-path=\"url(#pe5f761325c)\" d=\"M 92.747039 132.567954 \r\nL 96.93514 128.378164 \r\nL 103.839076 137.034034 \r\nL 99.689527 141.87463 \r\nz\r\n\" style=\"fill:#bad0f8;\"/>\r\n    <path clip-path=\"url(#pe5f761325c)\" d=\"M 123.386204 190.919706 \r\nL 127.460782 187.286833 \r\nL 134.281433 185.762909 \r\nL 130.218944 189.403259 \r\nz\r\n\" style=\"fill:#3b4cc0;\"/>\r\n    <path clip-path=\"url(#pe5f761325c)\" d=\"M 138.293165 177.950719 \r\nL 142.277222 167.001635 \r\nL 149.153866 158.169875 \r\nL 145.147686 167.066654 \r\nz\r\n\" style=\"fill:#6a8bef;\"/>\r\n    <path clip-path=\"url(#pe5f761325c)\" d=\"M 102.498246 157.470964 \r\nL 106.671206 153.958121 \r\nL 113.653045 167.596495 \r\nL 109.51721 171.156085 \r\nz\r\n\" style=\"fill:#779af7;\"/>\r\n    <path clip-path=\"url(#pe5f761325c)\" d=\"M 189.866233 116.090035 \r\nL 193.656674 114.295603 \r\nL 200.669929 115.629785 \r\nL 196.913249 116.819294 \r\nz\r\n\" style=\"fill:#e3d9d3;\"/>\r\n    <path clip-path=\"url(#pe5f761325c)\" d=\"M 207.708949 117.412415 \r\nL 211.426414 115.29869 \r\nL 218.469429 117.329041 \r\nL 214.772035 119.578234 \r\nz\r\n\" style=\"fill:#e0dbd8;\"/>\r\n    <path clip-path=\"url(#pe5f761325c)\" d=\"M 157.126105 138.418312 \r\nL 161.089275 129.661317 \r\nL 168.064906 125.509856 \r\nL 164.115924 130.88088 \r\nz\r\n\" style=\"fill:#c6d6f1;\"/>\r\n    <path clip-path=\"url(#pe5f761325c)\" d=\"M 134.281433 185.762909 \r\nL 138.293165 177.950719 \r\nL 145.147686 167.066654 \r\nL 141.11847 173.703963 \r\nz\r\n\" style=\"fill:#5a78e4;\"/>\r\n    <path clip-path=\"url(#pe5f761325c)\" d=\"M 178.996198 118.496153 \r\nL 182.848854 116.095454 \r\nL 189.866233 116.090035 \r\nL 186.055884 116.821417 \r\nz\r\n\" style=\"fill:#e4d9d2;\"/>\r\n    <path clip-path=\"url(#pe5f761325c)\" d=\"M 95.481907 145.344593 \r\nL 99.689527 141.87463 \r\nL 106.671206 153.958121 \r\nL 102.498246 157.470964 \r\nz\r\n\" style=\"fill:#9dbdff;\"/>\r\n    <path clip-path=\"url(#pe5f761325c)\" d=\"M 112.296592 183.148649 \r\nL 116.490026 183.606768 \r\nL 123.386204 190.919706 \r\nL 119.225127 190.058047 \r\nz\r\n\" style=\"fill:#4358cb;\"/>\r\n    <path clip-path=\"url(#pe5f761325c)\" d=\"M 168.064906 125.509856 \r\nL 171.98393 120.682971 \r\nL 178.996198 118.496153 \r\nL 175.114604 120.419799 \r\nz\r\n\" style=\"fill:#dddcdc;\"/>\r\n    <path clip-path=\"url(#pe5f761325c)\" d=\"M 214.772035 119.578234 \r\nL 218.469429 117.329041 \r\nL 225.541603 119.465994 \r\nL 221.86068 121.970721 \r\nz\r\n\" style=\"fill:#e0dbd8;\"/>\r\n    <path clip-path=\"url(#pe5f761325c)\" d=\"M 196.913249 116.819294 \r\nL 200.669929 115.629785 \r\nL 207.708949 117.412415 \r\nL 203.980766 118.454427 \r\nz\r\n\" style=\"fill:#e4d9d2;\"/>\r\n    <path clip-path=\"url(#pe5f761325c)\" d=\"M 105.292485 171.514936 \r\nL 109.51721 171.156085 \r\nL 116.490026 183.606768 \r\nL 112.296592 183.148649 \r\nz\r\n\" style=\"fill:#5977e3;\"/>\r\n    <path clip-path=\"url(#pe5f761325c)\" d=\"M 81.601633 129.408485 \r\nL 85.864564 126.002324 \r\nL 92.747039 132.567954 \r\nL 88.509404 136.002331 \r\nz\r\n\" style=\"fill:#cbd8ee;\"/>\r\n    <path clip-path=\"url(#pe5f761325c)\" d=\"M 88.509404 136.002331 \r\nL 92.747039 132.567954 \r\nL 99.689527 141.87463 \r\nL 95.481907 145.344593 \r\nz\r\n\" style=\"fill:#b9d0f9;\"/>\r\n    <path clip-path=\"url(#pe5f761325c)\" d=\"M 153.14616 148.214188 \r\nL 157.126105 138.418312 \r\nL 164.115924 130.88088 \r\nL 160.139591 136.657394 \r\nz\r\n\" style=\"fill:#bad0f8;\"/>\r\n    <path clip-path=\"url(#pe5f761325c)\" d=\"M 119.225127 190.058047 \r\nL 123.386204 190.919706 \r\nL 130.218944 189.403259 \r\nL 126.084805 188.83952 \r\nz\r\n\" style=\"fill:#4055c8;\"/>\r\n    <path clip-path=\"url(#pe5f761325c)\" d=\"M 98.246793 158.753682 \r\nL 102.498246 157.470964 \r\nL 109.51721 171.156085 \r\nL 105.292485 171.514936 \r\nz\r\n\" style=\"fill:#7b9ff9;\"/>\r\n    <path clip-path=\"url(#pe5f761325c)\" d=\"M 221.86068 121.970721 \r\nL 225.541603 119.465994 \r\nL 232.644726 121.634895 \r\nL 228.978371 124.423381 \r\nz\r\n\" style=\"fill:#dfdbd9;\"/>\r\n    <path clip-path=\"url(#pe5f761325c)\" d=\"M 203.980766 118.454427 \r\nL 207.708949 117.412415 \r\nL 214.772035 119.578234 \r\nL 211.064862 120.862517 \r\nz\r\n\" style=\"fill:#e4d9d2;\"/>\r\n    <path clip-path=\"url(#pe5f761325c)\" d=\"M 186.055884 116.821417 \r\nL 189.866233 116.090035 \r\nL 196.913249 116.819294 \r\nL 193.145202 116.508617 \r\nz\r\n\" style=\"fill:#e9d5cb;\"/>\r\n    <path clip-path=\"url(#pe5f761325c)\" d=\"M 130.218944 189.403259 \r\nL 134.281433 185.762909 \r\nL 141.11847 173.703963 \r\nL 137.051464 177.324409 \r\nz\r\n\" style=\"fill:#5572df;\"/>\r\n    <path clip-path=\"url(#pe5f761325c)\" d=\"M 149.153866 158.169875 \r\nL 153.14616 148.214188 \r\nL 160.139591 136.657394 \r\nL 156.138174 142.518013 \r\nz\r\n\" style=\"fill:#adc9fd;\"/>\r\n    <path clip-path=\"url(#pe5f761325c)\" d=\"M 91.208641 147.433019 \r\nL 95.481907 145.344593 \r\nL 102.498246 157.470964 \r\nL 98.246793 158.753682 \r\nz\r\n\" style=\"fill:#9fbfff;\"/>\r\n    <path clip-path=\"url(#pe5f761325c)\" d=\"M 164.115924 130.88088 \r\nL 168.064906 125.509856 \r\nL 175.114604 120.419799 \r\nL 171.201575 121.845449 \r\nz\r\n\" style=\"fill:#dcdddd;\"/>\r\n    <path clip-path=\"url(#pe5f761325c)\" d=\"M 175.114604 120.419799 \r\nL 178.996198 118.496153 \r\nL 186.055884 116.821417 \r\nL 182.224206 116.1844 \r\nz\r\n\" style=\"fill:#e9d5cb;\"/>\r\n    <path clip-path=\"url(#pe5f761325c)\" d=\"M 228.978371 124.423381 \r\nL 232.644726 121.634895 \r\nL 239.780643 123.783234 \r\nL 236.128776 126.819153 \r\nz\r\n\" style=\"fill:#dedcdb;\"/>\r\n    <path clip-path=\"url(#pe5f761325c)\" d=\"M 211.064862 120.862517 \r\nL 214.772035 119.578234 \r\nL 221.86068 121.970721 \r\nL 218.167892 123.723772 \r\nz\r\n\" style=\"fill:#e3d9d3;\"/>\r\n    <path clip-path=\"url(#pe5f761325c)\" d=\"M 77.293325 132.444193 \r\nL 81.601633 129.408485 \r\nL 88.509404 136.002331 \r\nL 84.217776 138.675289 \r\nz\r\n\" style=\"fill:#cbd8ee;\"/>\r\n    <path clip-path=\"url(#pe5f761325c)\" d=\"M 84.217776 138.675289 \r\nL 88.509404 136.002331 \r\nL 95.481907 145.344593 \r\nL 91.208641 147.433019 \r\nz\r\n\" style=\"fill:#bad0f8;\"/>\r\n    <path clip-path=\"url(#pe5f761325c)\" d=\"M 193.145202 116.508617 \r\nL 196.913249 116.819294 \r\nL 203.980766 118.454427 \r\nL 200.24726 117.88125 \r\nz\r\n\" style=\"fill:#ebd3c6;\"/>\r\n    <path clip-path=\"url(#pe5f761325c)\" d=\"M 145.147686 167.066654 \r\nL 149.153866 158.169875 \r\nL 156.138174 142.518013 \r\nL 152.112106 148.011446 \r\nz\r\n\" style=\"fill:#9fbfff;\"/>\r\n    <path clip-path=\"url(#pe5f761325c)\" d=\"M 108.005359 179.580177 \r\nL 112.296592 183.148649 \r\nL 119.225127 190.058047 \r\nL 114.968988 185.749603 \r\nz\r\n\" style=\"fill:#5572df;\"/>\r\n    <path clip-path=\"url(#pe5f761325c)\" d=\"M 100.976613 169.428887 \r\nL 105.292485 171.514936 \r\nL 112.296592 183.148649 \r\nL 108.005359 179.580177 \r\nz\r\n\" style=\"fill:#6a8bef;\"/>\r\n    <path clip-path=\"url(#pe5f761325c)\" d=\"M 236.128776 126.819153 \r\nL 239.780643 123.783234 \r\nL 246.950653 125.888671 \r\nL 243.314448 129.108248 \r\nz\r\n\" style=\"fill:#dddcdc;\"/>\r\n    <path clip-path=\"url(#pe5f761325c)\" d=\"M 218.167892 123.723772 \r\nL 221.86068 121.970721 \r\nL 228.978371 124.423381 \r\nL 225.296258 126.698115 \r\nz\r\n\" style=\"fill:#e1dad6;\"/>\r\n    <path clip-path=\"url(#pe5f761325c)\" d=\"M 126.084805 188.83952 \r\nL 130.218944 189.403259 \r\nL 137.051464 177.324409 \r\nL 132.931558 177.904301 \r\nz\r\n\" style=\"fill:#5a78e4;\"/>\r\n    <path clip-path=\"url(#pe5f761325c)\" d=\"M 93.916568 158.338979 \r\nL 98.246793 158.753682 \r\nL 105.292485 171.514936 \r\nL 100.976613 169.428887 \r\nz\r\n\" style=\"fill:#89acfd;\"/>\r\n    <path clip-path=\"url(#pe5f761325c)\" d=\"M 200.24726 117.88125 \r\nL 203.980766 118.454427 \r\nL 211.064862 120.862517 \r\nL 207.354107 120.691802 \r\nz\r\n\" style=\"fill:#ebd3c6;\"/>\r\n    <path clip-path=\"url(#pe5f761325c)\" d=\"M 160.139591 136.657394 \r\nL 164.115924 130.88088 \r\nL 171.201575 121.845449 \r\nL 167.253363 122.909523 \r\nz\r\n\" style=\"fill:#dcdddd;\"/>\r\n    <path clip-path=\"url(#pe5f761325c)\" d=\"M 114.968988 185.749603 \r\nL 119.225127 190.058047 \r\nL 126.084805 188.83952 \r\nL 121.868469 185.05447 \r\nz\r\n\" style=\"fill:#536edd;\"/>\r\n    <path clip-path=\"url(#pe5f761325c)\" d=\"M 182.224206 116.1844 \r\nL 186.055884 116.821417 \r\nL 193.145202 116.508617 \r\nL 189.365213 114.265732 \r\nz\r\n\" style=\"fill:#f0cdbb;\"/>\r\n    <path clip-path=\"url(#pe5f761325c)\" d=\"M 141.11847 173.703963 \r\nL 145.147686 167.066654 \r\nL 152.112106 148.011446 \r\nL 148.058997 152.688703 \r\nz\r\n\" style=\"fill:#96b7ff;\"/>\r\n    <path clip-path=\"url(#pe5f761325c)\" d=\"M 225.296258 126.698115 \r\nL 228.978371 124.423381 \r\nL 236.128776 126.819153 \r\nL 232.456878 129.546694 \r\nz\r\n\" style=\"fill:#e0dbd8;\"/>\r\n    <path clip-path=\"url(#pe5f761325c)\" d=\"M 86.87029 148.47467 \r\nL 91.208641 147.433019 \r\nL 98.246793 158.753682 \r\nL 93.916568 158.338979 \r\nz\r\n\" style=\"fill:#a7c5fe;\"/>\r\n    <path clip-path=\"url(#pe5f761325c)\" d=\"M 243.314448 129.108248 \r\nL 246.950653 125.888671 \r\nL 254.155372 127.952352 \r\nL 250.536477 131.293183 \r\nz\r\n\" style=\"fill:#dddcdc;\"/>\r\n    <path clip-path=\"url(#pe5f761325c)\" d=\"M 72.939989 135.20491 \r\nL 77.293325 132.444193 \r\nL 84.217776 138.675289 \r\nL 79.872776 140.775271 \r\nz\r\n\" style=\"fill:#cdd9ec;\"/>\r\n    <path clip-path=\"url(#pe5f761325c)\" d=\"M 79.872776 140.775271 \r\nL 84.217776 138.675289 \r\nL 91.208641 147.433019 \r\nL 86.87029 148.47467 \r\nz\r\n\" style=\"fill:#bfd3f6;\"/>\r\n    <path clip-path=\"url(#pe5f761325c)\" d=\"M 171.201575 121.845449 \r\nL 175.114604 120.419799 \r\nL 182.224206 116.1844 \r\nL 178.365235 114.112103 \r\nz\r\n\" style=\"fill:#efcfbf;\"/>\r\n    <path clip-path=\"url(#pe5f761325c)\" d=\"M 207.354107 120.691802 \r\nL 211.064862 120.862517 \r\nL 218.167892 123.723772 \r\nL 214.469087 124.341357 \r\nz\r\n\" style=\"fill:#e9d5cb;\"/>\r\n    <path clip-path=\"url(#pe5f761325c)\" d=\"M 232.456878 129.546694 \r\nL 236.128776 126.819153 \r\nL 243.314448 129.108248 \r\nL 239.654578 132.168089 \r\nz\r\n\" style=\"fill:#dedcdb;\"/>\r\n    <path clip-path=\"url(#pe5f761325c)\" d=\"M 189.365213 114.265732 \r\nL 193.145202 116.508617 \r\nL 200.24726 117.88125 \r\nL 196.50918 115.227103 \r\nz\r\n\" style=\"fill:#f2cab5;\"/>\r\n    <path clip-path=\"url(#pe5f761325c)\" d=\"M 214.469087 124.341357 \r\nL 218.167892 123.723772 \r\nL 225.296258 126.698115 \r\nL 221.603076 128.193295 \r\nz\r\n\" style=\"fill:#e6d7cf;\"/>\r\n    <path clip-path=\"url(#pe5f761325c)\" d=\"M 156.138174 142.518013 \r\nL 160.139591 136.657394 \r\nL 167.253363 122.909523 \r\nL 163.266005 123.935537 \r\nz\r\n\" style=\"fill:#dcdddd;\"/>\r\n    <path clip-path=\"url(#pe5f761325c)\" d=\"M 137.051464 177.324409 \r\nL 141.11847 173.703963 \r\nL 148.058997 152.688703 \r\nL 143.973915 156.264655 \r\nz\r\n\" style=\"fill:#92b4fe;\"/>\r\n    <path clip-path=\"url(#pe5f761325c)\" d=\"M 239.654578 132.168089 \r\nL 243.314448 129.108248 \r\nL 250.536477 131.293183 \r\nL 246.891354 134.567531 \r\nz\r\n\" style=\"fill:#dedcdb;\"/>\r\n    <path clip-path=\"url(#pe5f761325c)\" d=\"M 96.582175 166.144475 \r\nL 100.976613 169.428887 \r\nL 108.005359 179.580177 \r\nL 103.628086 174.473703 \r\nz\r\n\" style=\"fill:#81a4fb;\"/>\r\n    <path clip-path=\"url(#pe5f761325c)\" d=\"M 221.603076 128.193295 \r\nL 225.296258 126.698115 \r\nL 232.456878 129.546694 \r\nL 228.768181 131.801356 \r\nz\r\n\" style=\"fill:#e3d9d3;\"/>\r\n    <path clip-path=\"url(#pe5f761325c)\" d=\"M 103.628086 174.473703 \r\nL 108.005359 179.580177 \r\nL 114.968988 185.749603 \r\nL 110.626169 179.729892 \r\nz\r\n\" style=\"fill:#6f92f3;\"/>\r\n    <path clip-path=\"url(#pe5f761325c)\" d=\"M 121.868469 185.05447 \r\nL 126.084805 188.83952 \r\nL 132.931558 177.904301 \r\nL 128.749187 176.162978 \r\nz\r\n\" style=\"fill:#6a8bef;\"/>\r\n    <path clip-path=\"url(#pe5f761325c)\" d=\"M 68.544464 137.846461 \r\nL 72.939989 135.20491 \r\nL 79.872776 140.775271 \r\nL 75.479641 142.610458 \r\nz\r\n\" style=\"fill:#d1dae9;\"/>\r\n    <path clip-path=\"url(#pe5f761325c)\" d=\"M 196.50918 115.227103 \r\nL 200.24726 117.88125 \r\nL 207.354107 120.691802 \r\nL 203.641585 118.647121 \r\nz\r\n\" style=\"fill:#f2cab5;\"/>\r\n    <path clip-path=\"url(#pe5f761325c)\" d=\"M 89.518627 157.102547 \r\nL 93.916568 158.338979 \r\nL 100.976613 169.428887 \r\nL 96.582175 166.144475 \r\nz\r\n\" style=\"fill:#9bbcff;\"/>\r\n    <path clip-path=\"url(#pe5f761325c)\" d=\"M 75.479641 142.610458 \r\nL 79.872776 140.775271 \r\nL 86.87029 148.47467 \r\nL 82.475074 149.018268 \r\nz\r\n\" style=\"fill:#c5d6f2;\"/>\r\n    <path clip-path=\"url(#pe5f761325c)\" d=\"M 82.475074 149.018268 \r\nL 86.87029 148.47467 \r\nL 93.916568 158.338979 \r\nL 89.518627 157.102547 \r\nz\r\n\" style=\"fill:#b3cdfb;\"/>\r\n    <path clip-path=\"url(#pe5f761325c)\" d=\"M 178.365235 114.112103 \r\nL 182.224206 116.1844 \r\nL 189.365213 114.265732 \r\nL 185.565478 109.989242 \r\nz\r\n\" style=\"fill:#f5c0a7;\"/>\r\n    <path clip-path=\"url(#pe5f761325c)\" d=\"M 228.768181 131.801356 \r\nL 232.456878 129.546694 \r\nL 239.654578 132.168089 \r\nL 235.97295 134.976676 \r\nz\r\n\" style=\"fill:#e0dbd8;\"/>\r\n    <path clip-path=\"url(#pe5f761325c)\" d=\"M 167.253363 122.909523 \r\nL 171.201575 121.845449 \r\nL 178.365235 114.112103 \r\nL 174.468351 110.971276 \r\nz\r\n\" style=\"fill:#f4c6af;\"/>\r\n    <path clip-path=\"url(#pe5f761325c)\" d=\"M 203.641585 118.647121 \r\nL 207.354107 120.691802 \r\nL 214.469087 124.341357 \r\nL 210.766503 123.497052 \r\nz\r\n\" style=\"fill:#f0cdbb;\"/>\r\n    <path clip-path=\"url(#pe5f761325c)\" d=\"M 110.626169 179.729892 \r\nL 114.968988 185.749603 \r\nL 121.868469 185.05447 \r\nL 117.573472 179.674462 \r\nz\r\n\" style=\"fill:#6e90f2;\"/>\r\n    <path clip-path=\"url(#pe5f761325c)\" d=\"M 152.112106 148.011446 \r\nL 156.138174 142.518013 \r\nL 163.266005 123.935537 \r\nL 159.236977 125.384263 \r\nz\r\n\" style=\"fill:#dcdddd;\"/>\r\n    <path clip-path=\"url(#pe5f761325c)\" d=\"M 210.766503 123.497052 \r\nL 214.469087 124.341357 \r\nL 221.603076 128.193295 \r\nL 217.900878 128.684161 \r\nz\r\n\" style=\"fill:#ecd3c5;\"/>\r\n    <path clip-path=\"url(#pe5f761325c)\" d=\"M 132.931558 177.904301 \r\nL 137.051464 177.324409 \r\nL 143.973915 156.264655 \r\nL 139.85105 158.730492 \r\nz\r\n\" style=\"fill:#96b7ff;\"/>\r\n    <path clip-path=\"url(#pe5f761325c)\" d=\"M 235.97295 134.976676 \r\nL 239.654578 132.168089 \r\nL 246.891354 134.567531 \r\nL 243.220916 137.729504 \r\nz\r\n\" style=\"fill:#dfdbd9;\"/>\r\n    <path clip-path=\"url(#pe5f761325c)\" d=\"M 185.565478 109.989242 \r\nL 189.365213 114.265732 \r\nL 196.50918 115.227103 \r\nL 192.758559 110.380744 \r\nz\r\n\" style=\"fill:#f7b79b;\"/>\r\n    <path clip-path=\"url(#pe5f761325c)\" d=\"M 64.110746 140.528326 \r\nL 68.544464 137.846461 \r\nL 75.479641 142.610458 \r\nL 71.0459 144.496866 \r\nz\r\n\" style=\"fill:#d4dbe6;\"/>\r\n    <path clip-path=\"url(#pe5f761325c)\" d=\"M 217.900878 128.684161 \r\nL 221.603076 128.193295 \r\nL 228.768181 131.801356 \r\nL 225.064201 133.444753 \r\nz\r\n\" style=\"fill:#e8d6cc;\"/>\r\n    <path clip-path=\"url(#pe5f761325c)\" d=\"M 71.0459 144.496866 \r\nL 75.479641 142.610458 \r\nL 82.475074 149.018268 \r\nL 78.035296 149.628198 \r\nz\r\n\" style=\"fill:#ccd9ed;\"/>\r\n    <path clip-path=\"url(#pe5f761325c)\" d=\"M 225.064201 133.444753 \r\nL 228.768181 131.801356 \r\nL 235.97295 134.976676 \r\nL 232.27046 137.457331 \r\nz\r\n\" style=\"fill:#e3d9d3;\"/>\r\n    <path clip-path=\"url(#pe5f761325c)\" d=\"M 78.035296 149.628198 \r\nL 82.475074 149.018268 \r\nL 89.518627 157.102547 \r\nL 85.070538 155.948867 \r\nz\r\n\" style=\"fill:#bfd3f6;\"/>\r\n    <path clip-path=\"url(#pe5f761325c)\" d=\"M 85.070538 155.948867 \r\nL 89.518627 157.102547 \r\nL 96.582175 166.144475 \r\nL 92.131009 162.955485 \r\nz\r\n\" style=\"fill:#aec9fc;\"/>\r\n    <path clip-path=\"url(#pe5f761325c)\" d=\"M 192.758559 110.380744 \r\nL 196.50918 115.227103 \r\nL 203.641585 118.647121 \r\nL 199.920362 114.630751 \r\nz\r\n\" style=\"fill:#f7b89c;\"/>\r\n    <path clip-path=\"url(#pe5f761325c)\" d=\"M 148.058997 152.688703 \r\nL 152.112106 148.011446 \r\nL 159.236977 125.384263 \r\nL 155.166596 127.719459 \r\nz\r\n\" style=\"fill:#dcdddd;\"/>\r\n    <path clip-path=\"url(#pe5f761325c)\" d=\"M 92.131009 162.955485 \r\nL 96.582175 166.144475 \r\nL 103.628086 174.473703 \r\nL 99.18813 169.46832 \r\nz\r\n\" style=\"fill:#9bbcff;\"/>\r\n    <path clip-path=\"url(#pe5f761325c)\" d=\"M 117.573472 179.674462 \r\nL 121.868469 185.05447 \r\nL 128.749187 176.162978 \r\nL 124.50374 173.286245 \r\nz\r\n\" style=\"fill:#82a6fb;\"/>\r\n    <path clip-path=\"url(#pe5f761325c)\" d=\"M 163.266005 123.935537 \r\nL 167.253363 122.909523 \r\nL 174.468351 110.971276 \r\nL 170.520813 107.653014 \r\nz\r\n\" style=\"fill:#f7ba9f;\"/>\r\n    <path clip-path=\"url(#pe5f761325c)\" d=\"M 99.18813 169.46832 \r\nL 103.628086 174.473703 \r\nL 110.626169 179.729892 \r\nL 106.217659 173.812149 \r\nz\r\n\" style=\"fill:#8fb1fe;\"/>\r\n    <path clip-path=\"url(#pe5f761325c)\" d=\"M 174.468351 110.971276 \r\nL 178.365235 114.112103 \r\nL 185.565478 109.989242 \r\nL 181.729976 104.184719 \r\nz\r\n\" style=\"fill:#f7aa8c;\"/>\r\n    <path clip-path=\"url(#pe5f761325c)\" d=\"M 199.920362 114.630751 \r\nL 203.641585 118.647121 \r\nL 210.766503 123.497052 \r\nL 207.054798 121.118433 \r\nz\r\n\" style=\"fill:#f6bfa6;\"/>\r\n    <path clip-path=\"url(#pe5f761325c)\" d=\"M 232.27046 137.457331 \r\nL 235.97295 134.976676 \r\nL 243.220916 137.729504 \r\nL 239.525545 140.740767 \r\nz\r\n\" style=\"fill:#e0dbd8;\"/>\r\n    <path clip-path=\"url(#pe5f761325c)\" d=\"M 128.749187 176.162978 \r\nL 132.931558 177.904301 \r\nL 139.85105 158.730492 \r\nL 135.685912 160.35742 \r\nz\r\n\" style=\"fill:#9fbfff;\"/>\r\n    <path clip-path=\"url(#pe5f761325c)\" d=\"M 207.054798 121.118433 \r\nL 210.766503 123.497052 \r\nL 217.900878 128.684161 \r\nL 214.185944 128.123772 \r\nz\r\n\" style=\"fill:#f2cab5;\"/>\r\n    <path clip-path=\"url(#pe5f761325c)\" d=\"M 59.642411 143.366231 \r\nL 64.110746 140.528326 \r\nL 71.0459 144.496866 \r\nL 66.578486 146.664277 \r\nz\r\n\" style=\"fill:#d7dce3;\"/>\r\n    <path clip-path=\"url(#pe5f761325c)\" d=\"M 214.185944 128.123772 \r\nL 217.900878 128.684161 \r\nL 225.064201 133.444753 \r\nL 221.342546 134.449623 \r\nz\r\n\" style=\"fill:#edd2c3;\"/>\r\n    <path clip-path=\"url(#pe5f761325c)\" d=\"M 106.217659 173.812149 \r\nL 110.626169 179.729892 \r\nL 117.573472 179.674462 \r\nL 113.214874 174.396201 \r\nz\r\n\" style=\"fill:#8db0fe;\"/>\r\n    <path clip-path=\"url(#pe5f761325c)\" d=\"M 66.578486 146.664277 \r\nL 71.0459 144.496866 \r\nL 78.035296 149.628198 \r\nL 73.562638 150.716372 \r\nz\r\n\" style=\"fill:#d2dbe8;\"/>\r\n    <path clip-path=\"url(#pe5f761325c)\" d=\"M 143.973915 156.264655 \r\nL 148.058997 152.688703 \r\nL 155.166596 127.719459 \r\nL 151.058224 131.238257 \r\nz\r\n\" style=\"fill:#dcdddd;\"/>\r\n    <path clip-path=\"url(#pe5f761325c)\" d=\"M 221.342546 134.449623 \r\nL 225.064201 133.444753 \r\nL 232.27046 137.457331 \r\nL 228.545647 139.595694 \r\nz\r\n\" style=\"fill:#e7d7ce;\"/>\r\n    <path clip-path=\"url(#pe5f761325c)\" d=\"M 73.562638 150.716372 \r\nL 78.035296 149.628198 \r\nL 85.070538 155.948867 \r\nL 80.589592 155.541583 \r\nz\r\n\" style=\"fill:#cad8ef;\"/>\r\n    <path clip-path=\"url(#pe5f761325c)\" d=\"M 181.729976 104.184719 \r\nL 185.565478 109.989242 \r\nL 192.758559 110.380744 \r\nL 188.976791 103.883483 \r\nz\r\n\" style=\"fill:#f49a7b;\"/>\r\n    <path clip-path=\"url(#pe5f761325c)\" d=\"M 228.545647 139.595694 \r\nL 232.27046 137.457331 \r\nL 239.525545 140.740767 \r\nL 235.804338 143.594483 \r\nz\r\n\" style=\"fill:#e2dad5;\"/>\r\n    <path clip-path=\"url(#pe5f761325c)\" d=\"M 80.589592 155.541583 \r\nL 85.070538 155.948867 \r\nL 92.131009 162.955485 \r\nL 87.645581 160.817118 \r\nz\r\n\" style=\"fill:#bfd3f6;\"/>\r\n    <path clip-path=\"url(#pe5f761325c)\" d=\"M 159.236977 125.384263 \r\nL 163.266005 123.935537 \r\nL 170.520813 107.653014 \r\nL 166.512664 105.443554 \r\nz\r\n\" style=\"fill:#f7ad90;\"/>\r\n    <path clip-path=\"url(#pe5f761325c)\" d=\"M 55.141529 146.41228 \r\nL 59.642411 143.366231 \r\nL 66.578486 146.664277 \r\nL 62.081688 149.216371 \r\nz\r\n\" style=\"fill:#d9dce1;\"/>\r\n    <path clip-path=\"url(#pe5f761325c)\" d=\"M 87.645581 160.817118 \r\nL 92.131009 162.955485 \r\nL 99.18813 169.46832 \r\nL 94.71088 165.780933 \r\nz\r\n\" style=\"fill:#b2ccfb;\"/>\r\n    <path clip-path=\"url(#pe5f761325c)\" d=\"M 113.214874 174.396201 \r\nL 117.573472 179.674462 \r\nL 124.50374 173.286245 \r\nL 120.202736 170.503976 \r\nz\r\n\" style=\"fill:#9dbdff;\"/>\r\n    <path clip-path=\"url(#pe5f761325c)\" d=\"M 188.976791 103.883483 \r\nL 192.758559 110.380744 \r\nL 199.920362 114.630751 \r\nL 196.172283 109.134195 \r\nz\r\n\" style=\"fill:#f59c7d;\"/>\r\n    <path clip-path=\"url(#pe5f761325c)\" d=\"M 124.50374 173.286245 \r\nL 128.749187 176.162978 \r\nL 135.685912 160.35742 \r\nL 131.476867 161.5896 \r\nz\r\n\" style=\"fill:#adc9fd;\"/>\r\n    <path clip-path=\"url(#pe5f761325c)\" d=\"M 170.520813 107.653014 \r\nL 174.468351 110.971276 \r\nL 181.729976 104.184719 \r\nL 177.837557 98.099504 \r\nz\r\n\" style=\"fill:#f18d6f;\"/>\r\n    <path clip-path=\"url(#pe5f761325c)\" d=\"M 196.172283 109.134195 \r\nL 199.920362 114.630751 \r\nL 207.054798 121.118433 \r\nL 203.31856 117.595734 \r\nz\r\n\" style=\"fill:#f7a98b;\"/>\r\n    <path clip-path=\"url(#pe5f761325c)\" d=\"M 139.85105 158.730492 \r\nL 143.973915 156.264655 \r\nL 151.058224 131.238257 \r\nL 146.916902 135.950677 \r\nz\r\n\" style=\"fill:#dcdddd;\"/>\r\n    <path clip-path=\"url(#pe5f761325c)\" d=\"M 94.71088 165.780933 \r\nL 99.18813 169.46832 \r\nL 106.217659 173.812149 \r\nL 101.767971 169.346412 \r\nz\r\n\" style=\"fill:#aac7fd;\"/>\r\n    <path clip-path=\"url(#pe5f761325c)\" d=\"M 203.31856 117.595734 \r\nL 207.054798 121.118433 \r\nL 214.185944 128.123772 \r\nL 210.446674 126.786602 \r\nz\r\n\" style=\"fill:#f7bca1;\"/>\r\n    <path clip-path=\"url(#pe5f761325c)\" d=\"M 210.446674 126.786602 \r\nL 214.185944 128.123772 \r\nL 221.342546 134.449623 \r\nL 217.595383 134.988232 \r\nz\r\n\" style=\"fill:#f2cab5;\"/>\r\n    <path clip-path=\"url(#pe5f761325c)\" d=\"M 62.081688 149.216371 \r\nL 66.578486 146.664277 \r\nL 73.562638 150.716372 \r\nL 69.064663 152.469694 \r\nz\r\n\" style=\"fill:#d6dce4;\"/>\r\n    <path clip-path=\"url(#pe5f761325c)\" d=\"M 217.595383 134.988232 \r\nL 221.342546 134.449623 \r\nL 228.545647 139.595694 \r\nL 224.793695 141.488774 \r\nz\r\n\" style=\"fill:#ebd3c6;\"/>\r\n    <path clip-path=\"url(#pe5f761325c)\" d=\"M 69.064663 152.469694 \r\nL 73.562638 150.716372 \r\nL 80.589592 155.541583 \r\nL 76.087472 156.184372 \r\nz\r\n\" style=\"fill:#d1dae9;\"/>\r\n    <path clip-path=\"url(#pe5f761325c)\" d=\"M 224.793695 141.488774 \r\nL 228.545647 139.595694 \r\nL 235.804338 143.594483 \r\nL 232.054544 146.339934 \r\nz\r\n\" style=\"fill:#e5d8d1;\"/>\r\n    <path clip-path=\"url(#pe5f761325c)\" d=\"M 101.767971 169.346412 \r\nL 106.217659 173.812149 \r\nL 113.214874 174.396201 \r\nL 108.812109 170.480619 \r\nz\r\n\" style=\"fill:#a9c6fd;\"/>\r\n    <path clip-path=\"url(#pe5f761325c)\" d=\"M 50.608425 149.663021 \r\nL 55.141529 146.41228 \r\nL 62.081688 149.216371 \r\nL 57.556623 152.146353 \r\nz\r\n\" style=\"fill:#dadce0;\"/>\r\n    <path clip-path=\"url(#pe5f761325c)\" d=\"M 155.166596 127.719459 \r\nL 159.236977 125.384263 \r\nL 166.512664 105.443554 \r\nL 162.441761 105.650785 \r\nz\r\n\" style=\"fill:#f6a385;\"/>\r\n    <path clip-path=\"url(#pe5f761325c)\" d=\"M 76.087472 156.184372 \r\nL 80.589592 155.541583 \r\nL 87.645581 160.817118 \r\nL 83.141759 160.170819 \r\nz\r\n\" style=\"fill:#cbd8ee;\"/>\r\n    <path clip-path=\"url(#pe5f761325c)\" d=\"M 135.685912 160.35742 \r\nL 139.85105 158.730492 \r\nL 146.916902 135.950677 \r\nL 142.747085 141.575552 \r\nz\r\n\" style=\"fill:#dcdddd;\"/>\r\n    <path clip-path=\"url(#pe5f761325c)\" d=\"M 177.837557 98.099504 \r\nL 181.729976 104.184719 \r\nL 188.976791 103.883483 \r\nL 185.137491 97.076352 \r\nz\r\n\" style=\"fill:#e67259;\"/>\r\n    <path clip-path=\"url(#pe5f761325c)\" d=\"M 83.141759 160.170819 \r\nL 87.645581 160.817118 \r\nL 94.71088 165.780933 \r\nL 90.215173 163.978968 \r\nz\r\n\" style=\"fill:#c4d5f3;\"/>\r\n    <path clip-path=\"url(#pe5f761325c)\" d=\"M 57.556623 152.146353 \r\nL 62.081688 149.216371 \r\nL 69.064663 152.469694 \r\nL 64.543785 154.876882 \r\nz\r\n\" style=\"fill:#d9dce1;\"/>\r\n    <path clip-path=\"url(#pe5f761325c)\" d=\"M 120.202736 170.503976 \r\nL 124.50374 173.286245 \r\nL 131.476867 161.5896 \r\nL 127.22522 162.883314 \r\nz\r\n\" style=\"fill:#bad0f8;\"/>\r\n    <path clip-path=\"url(#pe5f761325c)\" d=\"M 108.812109 170.480619 \r\nL 113.214874 174.396201 \r\nL 120.202736 170.503976 \r\nL 115.857596 168.723343 \r\nz\r\n\" style=\"fill:#b3cdfb;\"/>\r\n    <path clip-path=\"url(#pe5f761325c)\" d=\"M 206.66452 125.333182 \r\nL 210.446674 126.786602 \r\nL 217.595383 134.988232 \r\nL 213.809929 135.470727 \r\nz\r\n\" style=\"fill:#f5c0a7;\"/>\r\n    <path clip-path=\"url(#pe5f761325c)\" d=\"M 213.809929 135.470727 \r\nL 217.595383 134.988232 \r\nL 224.793695 141.488774 \r\nL 221.006665 143.365646 \r\nz\r\n\" style=\"fill:#efcebd;\"/>\r\n    <path clip-path=\"url(#pe5f761325c)\" d=\"M 199.53383 113.879691 \r\nL 203.31856 117.595734 \r\nL 210.446674 126.786602 \r\nL 206.66452 125.333182 \r\nz\r\n\" style=\"fill:#f7a98b;\"/>\r\n    <path clip-path=\"url(#pe5f761325c)\" d=\"M 221.006665 143.365646 \r\nL 224.793695 141.488774 \r\nL 232.054544 146.339934 \r\nL 228.271648 149.092719 \r\nz\r\n\" style=\"fill:#e8d6cc;\"/>\r\n    <path clip-path=\"url(#pe5f761325c)\" d=\"M 90.215173 163.978968 \r\nL 94.71088 165.780933 \r\nL 101.767971 169.346412 \r\nL 97.296315 166.965047 \r\nz\r\n\" style=\"fill:#bfd3f6;\"/>\r\n    <path clip-path=\"url(#pe5f761325c)\" d=\"M 166.512664 105.443554 \r\nL 170.520813 107.653014 \r\nL 177.837557 98.099504 \r\nL 173.869254 93.54928 \r\nz\r\n\" style=\"fill:#e36c55;\"/>\r\n    <path clip-path=\"url(#pe5f761325c)\" d=\"M 185.137491 97.076352 \r\nL 188.976791 103.883483 \r\nL 196.172283 109.134195 \r\nL 192.370207 103.36831 \r\nz\r\n\" style=\"fill:#e7745b;\"/>\r\n    <path clip-path=\"url(#pe5f761325c)\" d=\"M 64.543785 154.876882 \r\nL 69.064663 152.469694 \r\nL 76.087472 156.184372 \r\nL 71.568425 157.861488 \r\nz\r\n\" style=\"fill:#d6dce4;\"/>\r\n    <path clip-path=\"url(#pe5f761325c)\" d=\"M 192.370207 103.36831 \r\nL 196.172283 109.134195 \r\nL 203.31856 117.595734 \r\nL 199.53383 113.879691 \r\nz\r\n\" style=\"fill:#f08b6e;\"/>\r\n    <path clip-path=\"url(#pe5f761325c)\" d=\"M 46.042116 153.082726 \r\nL 50.608425 149.663021 \r\nL 57.556623 152.146353 \r\nL 53.001983 155.383044 \r\nz\r\n\" style=\"fill:#dbdcde;\"/>\r\n    <path clip-path=\"url(#pe5f761325c)\" d=\"M 151.058224 131.238257 \r\nL 155.166596 127.719459 \r\nL 162.441761 105.650785 \r\nL 158.315782 109.118392 \r\nz\r\n\" style=\"fill:#f59f80;\"/>\r\n    <path clip-path=\"url(#pe5f761325c)\" d=\"M 131.476867 161.5896 \r\nL 135.685912 160.35742 \r\nL 142.747085 141.575552 \r\nL 138.550766 147.655266 \r\nz\r\n\" style=\"fill:#dcdddd;\"/>\r\n    <path clip-path=\"url(#pe5f761325c)\" d=\"M 71.568425 157.861488 \r\nL 76.087472 156.184372 \r\nL 83.141759 160.170819 \r\nL 78.625965 160.998187 \r\nz\r\n\" style=\"fill:#d3dbe7;\"/>\r\n    <path clip-path=\"url(#pe5f761325c)\" d=\"M 97.296315 166.965047 \r\nL 101.767971 169.346412 \r\nL 108.812109 170.480619 \r\nL 104.381424 168.516603 \r\nz\r\n\" style=\"fill:#bfd3f6;\"/>\r\n    <path clip-path=\"url(#pe5f761325c)\" d=\"M 53.001983 155.383044 \r\nL 57.556623 152.146353 \r\nL 64.543785 154.876882 \r\nL 59.998367 157.810625 \r\nz\r\n\" style=\"fill:#dbdcde;\"/>\r\n    <path clip-path=\"url(#pe5f761325c)\" d=\"M 78.625965 160.998187 \r\nL 83.141759 160.170819 \r\nL 90.215173 163.978968 \r\nL 85.709414 164.043945 \r\nz\r\n\" style=\"fill:#cfdaea;\"/>\r\n    <path clip-path=\"url(#pe5f761325c)\" d=\"M 115.857596 168.723343 \r\nL 120.202736 170.503976 \r\nL 127.22522 162.883314 \r\nL 122.933992 164.571067 \r\nz\r\n\" style=\"fill:#c6d6f1;\"/>\r\n    <path clip-path=\"url(#pe5f761325c)\" d=\"M 209.971675 136.482527 \r\nL 213.809929 135.470727 \r\nL 221.006665 143.365646 \r\nL 217.175399 145.551841 \r\nz\r\n\" style=\"fill:#f2cab5;\"/>\r\n    <path clip-path=\"url(#pe5f761325c)\" d=\"M 217.175399 145.551841 \r\nL 221.006665 143.365646 \r\nL 228.271648 149.092719 \r\nL 224.450386 152.016617 \r\nz\r\n\" style=\"fill:#ead4c8;\"/>\r\n    <path clip-path=\"url(#pe5f761325c)\" d=\"M 41.441002 156.626964 \r\nL 46.042116 153.082726 \r\nL 53.001983 155.383044 \r\nL 48.415282 158.837801 \r\nz\r\n\" style=\"fill:#dcdddd;\"/>\r\n    <path clip-path=\"url(#pe5f761325c)\" d=\"M 202.818873 124.711895 \r\nL 206.66452 125.333182 \r\nL 213.809929 135.470727 \r\nL 209.971675 136.482527 \r\nz\r\n\" style=\"fill:#f7b599;\"/>\r\n    <path clip-path=\"url(#pe5f761325c)\" d=\"M 59.998367 157.810625 \r\nL 64.543785 154.876882 \r\nL 71.568425 157.861488 \r\nL 67.030663 160.368992 \r\nz\r\n\" style=\"fill:#d9dce1;\"/>\r\n    <path clip-path=\"url(#pe5f761325c)\" d=\"M 146.916902 135.950677 \r\nL 151.058224 131.238257 \r\nL 158.315782 109.118392 \r\nL 154.149404 115.874508 \r\nz\r\n\" style=\"fill:#f6a385;\"/>\r\n    <path clip-path=\"url(#pe5f761325c)\" d=\"M 104.381424 168.516603 \r\nL 108.812109 170.480619 \r\nL 115.857596 168.723343 \r\nL 111.478671 168.362993 \r\nz\r\n\" style=\"fill:#c4d5f3;\"/>\r\n    <path clip-path=\"url(#pe5f761325c)\" d=\"M 173.869254 93.54928 \r\nL 177.837557 98.099504 \r\nL 185.137491 97.076352 \r\nL 181.214819 91.915819 \r\nz\r\n\" style=\"fill:#d0473d;\"/>\r\n    <path clip-path=\"url(#pe5f761325c)\" d=\"M 127.22522 162.883314 \r\nL 131.476867 161.5896 \r\nL 138.550766 147.655266 \r\nL 134.326971 153.72492 \r\nz\r\n\" style=\"fill:#dcdddd;\"/>\r\n    <path clip-path=\"url(#pe5f761325c)\" d=\"M 85.709414 164.043945 \r\nL 90.215173 163.978968 \r\nL 97.296315 166.965047 \r\nL 92.812106 166.650397 \r\nz\r\n\" style=\"fill:#ccd9ed;\"/>\r\n    <path clip-path=\"url(#pe5f761325c)\" d=\"M 195.674739 111.344706 \r\nL 199.53383 113.879691 \r\nL 206.66452 125.333182 \r\nL 202.818873 124.711895 \r\nz\r\n\" style=\"fill:#f39577;\"/>\r\n    <path clip-path=\"url(#pe5f761325c)\" d=\"M 162.441761 105.650785 \r\nL 166.512664 105.443554 \r\nL 173.869254 93.54928 \r\nL 169.816881 92.392309 \r\nz\r\n\" style=\"fill:#d75445;\"/>\r\n    <path clip-path=\"url(#pe5f761325c)\" d=\"M 67.030663 160.368992 \r\nL 71.568425 157.861488 \r\nL 78.625965 160.998187 \r\nL 74.096647 163.007922 \r\nz\r\n\" style=\"fill:#d8dce2;\"/>\r\n    <path clip-path=\"url(#pe5f761325c)\" d=\"M 48.415282 158.837801 \r\nL 53.001983 155.383044 \r\nL 59.998367 157.810625 \r\nL 55.424748 161.111818 \r\nz\r\n\" style=\"fill:#dcdddd;\"/>\r\n    <path clip-path=\"url(#pe5f761325c)\" d=\"M 188.485967 99.094266 \r\nL 192.370207 103.36831 \r\nL 199.53383 113.879691 \r\nL 195.674739 111.344706 \r\nz\r\n\" style=\"fill:#e36c55;\"/>\r\n    <path clip-path=\"url(#pe5f761325c)\" d=\"M 181.214819 91.915819 \r\nL 185.137491 97.076352 \r\nL 192.370207 103.36831 \r\nL 188.485967 99.094266 \r\nz\r\n\" style=\"fill:#d24b40;\"/>\r\n    <path clip-path=\"url(#pe5f761325c)\" d=\"M 142.747085 141.575552 \r\nL 146.916902 135.950677 \r\nL 154.149404 115.874508 \r\nL 149.957943 125.119588 \r\nz\r\n\" style=\"fill:#f7ad90;\"/>\r\n    <path clip-path=\"url(#pe5f761325c)\" d=\"M 92.812106 166.650397 \r\nL 97.296315 166.965047 \r\nL 104.381424 168.516603 \r\nL 99.931551 168.485944 \r\nz\r\n\" style=\"fill:#ccd9ed;\"/>\r\n    <path clip-path=\"url(#pe5f761325c)\" d=\"M 206.069458 138.613823 \r\nL 209.971675 136.482527 \r\nL 217.175399 145.551841 \r\nL 213.292599 148.374483 \r\nz\r\n\" style=\"fill:#f4c6af;\"/>\r\n    <path clip-path=\"url(#pe5f761325c)\" d=\"M 213.292599 148.374483 \r\nL 217.175399 145.551841 \r\nL 224.450386 152.016617 \r\nL 220.586425 155.275871 \r\nz\r\n\" style=\"fill:#ecd3c5;\"/>\r\n    <path clip-path=\"url(#pe5f761325c)\" d=\"M 74.096647 163.007922 \r\nL 78.625965 160.998187 \r\nL 85.709414 164.043945 \r\nL 81.192774 165.607414 \r\nz\r\n\" style=\"fill:#d6dce4;\"/>\r\n    <path clip-path=\"url(#pe5f761325c)\" d=\"M 55.424748 161.111818 \r\nL 59.998367 157.810625 \r\nL 67.030663 160.368992 \r\nL 62.469263 163.450669 \r\nz\r\n\" style=\"fill:#dbdcde;\"/>\r\n    <path clip-path=\"url(#pe5f761325c)\" d=\"M 111.478671 168.362993 \r\nL 115.857596 168.723343 \r\nL 122.933992 164.571067 \r\nL 118.606253 166.803392 \r\nz\r\n\" style=\"fill:#cfdaea;\"/>\r\n    <path clip-path=\"url(#pe5f761325c)\" d=\"M 122.933992 164.571067 \r\nL 127.22522 162.883314 \r\nL 134.326971 153.72492 \r\nL 130.072665 159.45081 \r\nz\r\n\" style=\"fill:#dcdddd;\"/>\r\n    <path clip-path=\"url(#pe5f761325c)\" d=\"M 198.894535 125.883173 \r\nL 202.818873 124.711895 \r\nL 209.971675 136.482527 \r\nL 206.069458 138.613823 \r\nz\r\n\" style=\"fill:#f7ad90;\"/>\r\n    <path clip-path=\"url(#pe5f761325c)\" d=\"M 138.550766 147.655266 \r\nL 142.747085 141.575552 \r\nL 149.957943 125.119588 \r\nL 145.751167 135.561009 \r\nz\r\n\" style=\"fill:#f7ba9f;\"/>\r\n    <path clip-path=\"url(#pe5f761325c)\" d=\"M 158.315782 109.118392 \r\nL 162.441761 105.650785 \r\nL 169.816881 92.392309 \r\nL 165.687928 95.832628 \r\nz\r\n\" style=\"fill:#d24b40;\"/>\r\n    <path clip-path=\"url(#pe5f761325c)\" d=\"M 99.931551 168.485944 \r\nL 104.381424 168.516603 \r\nL 111.478671 168.362993 \r\nL 107.072066 169.404867 \r\nz\r\n\" style=\"fill:#cfdaea;\"/>\r\n    <path clip-path=\"url(#pe5f761325c)\" d=\"M 81.192774 165.607414 \r\nL 85.709414 164.043945 \r\nL 92.812106 166.650397 \r\nL 88.315572 167.995231 \r\nz\r\n\" style=\"fill:#d5dbe5;\"/>\r\n    <path clip-path=\"url(#pe5f761325c)\" d=\"M 62.469263 163.450669 \r\nL 67.030663 160.368992 \r\nL 74.096647 163.007922 \r\nL 69.547917 165.831732 \r\nz\r\n\" style=\"fill:#dadce0;\"/>\r\n    <path clip-path=\"url(#pe5f761325c)\" d=\"M 191.723251 111.389952 \r\nL 195.674739 111.344706 \r\nL 202.818873 124.711895 \r\nL 198.894535 125.883173 \r\nz\r\n\" style=\"fill:#ee8468;\"/>\r\n    <path clip-path=\"url(#pe5f761325c)\" d=\"M 169.816881 92.392309 \r\nL 173.869254 93.54928 \r\nL 181.214819 91.915819 \r\nL 177.194306 90.407706 \r\nz\r\n\" style=\"fill:#bb1b2c;\"/>\r\n    <path clip-path=\"url(#pe5f761325c)\" d=\"M 134.326971 153.72492 \r\nL 138.550766 147.655266 \r\nL 145.751167 135.561009 \r\nL 141.530633 145.898513 \r\nz\r\n\" style=\"fill:#f4c6af;\"/>\r\n    <path clip-path=\"url(#pe5f761325c)\" d=\"M 202.099981 142.243186 \r\nL 206.069458 138.613823 \r\nL 213.292599 148.374483 \r\nL 209.355656 152.042994 \r\nz\r\n\" style=\"fill:#f4c5ad;\"/>\r\n    <path clip-path=\"url(#pe5f761325c)\" d=\"M 209.355656 152.042994 \r\nL 213.292599 148.374483 \r\nL 220.586425 155.275871 \r\nL 216.677947 158.975558 \r\nz\r\n\" style=\"fill:#ecd3c5;\"/>\r\n    <path clip-path=\"url(#pe5f761325c)\" d=\"M 184.501487 98.113435 \r\nL 188.485967 99.094266 \r\nL 195.674739 111.344706 \r\nL 191.723251 111.389952 \r\nz\r\n\" style=\"fill:#d65244;\"/>\r\n    <path clip-path=\"url(#pe5f761325c)\" d=\"M 88.315572 167.995231 \r\nL 92.812106 166.650397 \r\nL 99.931551 168.485944 \r\nL 95.463654 170.007374 \r\nz\r\n\" style=\"fill:#d5dbe5;\"/>\r\n    <path clip-path=\"url(#pe5f761325c)\" d=\"M 69.547917 165.831732 \r\nL 74.096647 163.007922 \r\nL 81.192774 165.607414 \r\nL 76.65915 168.200831 \r\nz\r\n\" style=\"fill:#d9dce1;\"/>\r\n    <path clip-path=\"url(#pe5f761325c)\" d=\"M 118.606253 166.803392 \r\nL 122.933992 164.571067 \r\nL 130.072665 159.45081 \r\nL 125.784278 164.685881 \r\nz\r\n\" style=\"fill:#dddcdc;\"/>\r\n    <path clip-path=\"url(#pe5f761325c)\" d=\"M 177.194306 90.407706 \r\nL 181.214819 91.915819 \r\nL 188.485967 99.094266 \r\nL 184.501487 98.113435 \r\nz\r\n\" style=\"fill:#be242e;\"/>\r\n    <path clip-path=\"url(#pe5f761325c)\" d=\"M 194.888134 129.464907 \r\nL 198.894535 125.883173 \r\nL 206.069458 138.613823 \r\nL 202.099981 142.243186 \r\nz\r\n\" style=\"fill:#f7aa8c;\"/>\r\n    <path clip-path=\"url(#pe5f761325c)\" d=\"M 107.072066 169.404867 \r\nL 111.478671 168.362993 \r\nL 118.606253 166.803392 \r\nL 114.243936 169.570893 \r\nz\r\n\" style=\"fill:#d5dbe5;\"/>\r\n    <path clip-path=\"url(#pe5f761325c)\" d=\"M 154.149404 115.874508 \r\nL 158.315782 109.118392 \r\nL 165.687928 95.832628 \r\nL 161.503062 103.910541 \r\nz\r\n\" style=\"fill:#d75445;\"/>\r\n    <path clip-path=\"url(#pe5f761325c)\" d=\"M 130.072665 159.45081 \r\nL 134.326971 153.72492 \r\nL 141.530633 145.898513 \r\nL 137.291223 155.210532 \r\nz\r\n\" style=\"fill:#efcfbf;\"/>\r\n    <path clip-path=\"url(#pe5f761325c)\" d=\"M 76.65915 168.200831 \r\nL 81.192774 165.607414 \r\nL 88.315572 167.995231 \r\nL 83.801392 170.480139 \r\nz\r\n\" style=\"fill:#d9dce1;\"/>\r\n    <path clip-path=\"url(#pe5f761325c)\" d=\"M 95.463654 170.007374 \r\nL 99.931551 168.485944 \r\nL 107.072066 169.404867 \r\nL 102.639174 171.572029 \r\nz\r\n\" style=\"fill:#d6dce4;\"/>\r\n    <path clip-path=\"url(#pe5f761325c)\" d=\"M 187.677155 114.918767 \r\nL 191.723251 111.389952 \r\nL 198.894535 125.883173 \r\nL 194.888134 129.464907 \r\nz\r\n\" style=\"fill:#ec7f63;\"/>\r\n    <path clip-path=\"url(#pe5f761325c)\" d=\"M 149.957943 125.119588 \r\nL 154.149404 115.874508 \r\nL 161.503062 103.910541 \r\nL 157.287161 115.484798 \r\nz\r\n\" style=\"fill:#e36c55;\"/>\r\n    <path clip-path=\"url(#pe5f761325c)\" d=\"M 165.687928 95.832628 \r\nL 169.816881 92.392309 \r\nL 177.194306 90.407706 \r\nL 173.08028 93.853219 \r\nz\r\n\" style=\"fill:#b40426;\"/>\r\n    <path clip-path=\"url(#pe5f761325c)\" d=\"M 198.069192 147.383399 \r\nL 202.099981 142.243186 \r\nL 209.355656 152.042994 \r\nL 205.367642 156.564597 \r\nz\r\n\" style=\"fill:#f4c6af;\"/>\r\n    <path clip-path=\"url(#pe5f761325c)\" d=\"M 205.367642 156.564597 \r\nL 209.355656 152.042994 \r\nL 216.677947 158.975558 \r\nL 212.726267 163.119485 \r\nz\r\n\" style=\"fill:#ecd3c5;\"/>\r\n    <path clip-path=\"url(#pe5f761325c)\" d=\"M 145.751167 135.561009 \r\nL 149.957943 125.119588 \r\nL 157.287161 115.484798 \r\nL 153.059195 128.717855 \r\nz\r\n\" style=\"fill:#f18d6f;\"/>\r\n    <path clip-path=\"url(#pe5f761325c)\" d=\"M 114.243936 169.570893 \r\nL 118.606253 166.803392 \r\nL 125.784278 164.685881 \r\nL 121.458951 169.443931 \r\nz\r\n\" style=\"fill:#dddcdc;\"/>\r\n    <path clip-path=\"url(#pe5f761325c)\" d=\"M 190.809706 135.477801 \r\nL 194.888134 129.464907 \r\nL 202.099981 142.243186 \r\nL 198.069192 147.383399 \r\nz\r\n\" style=\"fill:#f7ad90;\"/>\r\n    <path clip-path=\"url(#pe5f761325c)\" d=\"M 125.784278 164.685881 \r\nL 130.072665 159.45081 \r\nL 137.291223 155.210532 \r\nL 133.025002 163.099385 \r\nz\r\n\" style=\"fill:#e9d5cb;\"/>\r\n    <path clip-path=\"url(#pe5f761325c)\" d=\"M 180.417292 101.592541 \r\nL 184.501487 98.113435 \r\nL 191.723251 111.389952 \r\nL 187.677155 114.918767 \r\nz\r\n\" style=\"fill:#d1493f;\"/>\r\n    <path clip-path=\"url(#pe5f761325c)\" d=\"M 83.801392 170.480139 \r\nL 88.315572 167.995231 \r\nL 95.463654 170.007374 \r\nL 90.974029 172.59554 \r\nz\r\n\" style=\"fill:#d9dce1;\"/>\r\n    <path clip-path=\"url(#pe5f761325c)\" d=\"M 141.530633 145.898513 \r\nL 145.751167 135.561009 \r\nL 153.059195 128.717855 \r\nL 148.826568 141.77284 \r\nz\r\n\" style=\"fill:#f7aa8c;\"/>\r\n    <path clip-path=\"url(#pe5f761325c)\" d=\"M 102.639174 171.572029 \r\nL 107.072066 169.404867 \r\nL 114.243936 169.570893 \r\nL 109.847508 172.770723 \r\nz\r\n\" style=\"fill:#d9dce1;\"/>\r\n    <path clip-path=\"url(#pe5f761325c)\" d=\"M 173.08028 93.853219 \r\nL 177.194306 90.407706 \r\nL 184.501487 98.113435 \r\nL 180.417292 101.592541 \r\nz\r\n\" style=\"fill:#b50927;\"/>\r\n    <path clip-path=\"url(#pe5f761325c)\" d=\"M 183.551393 121.961393 \r\nL 187.677155 114.918767 \r\nL 194.888134 129.464907 \r\nL 190.809706 135.477801 \r\nz\r\n\" style=\"fill:#ee8468;\"/>\r\n    <path clip-path=\"url(#pe5f761325c)\" d=\"M 161.503062 103.910541 \r\nL 165.687928 95.832628 \r\nL 173.08028 93.853219 \r\nL 168.894775 102.296001 \r\nz\r\n\" style=\"fill:#bb1b2c;\"/>\r\n    <path clip-path=\"url(#pe5f761325c)\" d=\"M 137.291223 155.210532 \r\nL 141.530633 145.898513 \r\nL 148.826568 141.77284 \r\nL 144.585845 153.358439 \r\nz\r\n\" style=\"fill:#f5c0a7;\"/>\r\n    <path clip-path=\"url(#pe5f761325c)\" d=\"M 193.989641 153.676198 \r\nL 198.069192 147.383399 \r\nL 205.367642 156.564597 \r\nL 201.335875 161.741447 \r\nz\r\n\" style=\"fill:#f2cab5;\"/>\r\n    <path clip-path=\"url(#pe5f761325c)\" d=\"M 90.974029 172.59554 \r\nL 95.463654 170.007374 \r\nL 102.639174 171.572029 \r\nL 98.178123 174.51466 \r\nz\r\n\" style=\"fill:#d9dce1;\"/>\r\n    <path clip-path=\"url(#pe5f761325c)\" d=\"M 201.335875 161.741447 \r\nL 205.367642 156.564597 \r\nL 212.726267 163.119485 \r\nL 208.735122 167.608774 \r\nz\r\n\" style=\"fill:#ead4c8;\"/>\r\n    <path clip-path=\"url(#pe5f761325c)\" d=\"M 186.678326 143.33663 \r\nL 190.809706 135.477801 \r\nL 198.069192 147.383399 \r\nL 193.989641 153.676198 \r\nz\r\n\" style=\"fill:#f7b599;\"/>\r\n    <path clip-path=\"url(#pe5f761325c)\" d=\"M 121.458951 169.443931 \r\nL 125.784278 164.685881 \r\nL 133.025002 163.099385 \r\nL 128.724821 169.61118 \r\nz\r\n\" style=\"fill:#e4d9d2;\"/>\r\n    <path clip-path=\"url(#pe5f761325c)\" d=\"M 176.252916 109.570695 \r\nL 180.417292 101.592541 \r\nL 187.677155 114.918767 \r\nL 183.551393 121.961393 \r\nz\r\n\" style=\"fill:#d65244;\"/>\r\n    <path clip-path=\"url(#pe5f761325c)\" d=\"M 157.287161 115.484798 \r\nL 161.503062 103.910541 \r\nL 168.894775 102.296001 \r\nL 164.667964 114.502717 \r\nz\r\n\" style=\"fill:#d0473d;\"/>\r\n    <path clip-path=\"url(#pe5f761325c)\" d=\"M 109.847508 172.770723 \r\nL 114.243936 169.570893 \r\nL 121.458951 169.443931 \r\nL 117.095018 173.831198 \r\nz\r\n\" style=\"fill:#dddcdc;\"/>\r\n    <path clip-path=\"url(#pe5f761325c)\" d=\"M 133.025002 163.099385 \r\nL 137.291223 155.210532 \r\nL 144.585845 153.358439 \r\nL 140.327647 162.925171 \r\nz\r\n\" style=\"fill:#f0cdbb;\"/>\r\n    <path clip-path=\"url(#pe5f761325c)\" d=\"M 168.894775 102.296001 \r\nL 173.08028 93.853219 \r\nL 180.417292 101.592541 \r\nL 176.252916 109.570695 \r\nz\r\n\" style=\"fill:#be242e;\"/>\r\n    <path clip-path=\"url(#pe5f761325c)\" d=\"M 179.371589 131.661888 \r\nL 183.551393 121.961393 \r\nL 190.809706 135.477801 \r\nL 186.678326 143.33663 \r\nz\r\n\" style=\"fill:#f39577;\"/>\r\n    <path clip-path=\"url(#pe5f761325c)\" d=\"M 153.059195 128.717855 \r\nL 157.287161 115.484798 \r\nL 164.667964 114.502717 \r\nL 160.4258 128.489672 \r\nz\r\n\" style=\"fill:#e67259;\"/>\r\n    <path clip-path=\"url(#pe5f761325c)\" d=\"M 148.826568 141.77284 \r\nL 153.059195 128.717855 \r\nL 160.4258 128.489672 \r\nL 156.181828 142.277183 \r\nz\r\n\" style=\"fill:#f49a7b;\"/>\r\n    <path clip-path=\"url(#pe5f761325c)\" d=\"M 98.178123 174.51466 \r\nL 102.639174 171.572029 \r\nL 109.847508 172.770723 \r\nL 105.416324 176.274528 \r\nz\r\n\" style=\"fill:#dbdcde;\"/>\r\n    <path clip-path=\"url(#pe5f761325c)\" d=\"M 172.038429 120.942146 \r\nL 176.252916 109.570695 \r\nL 183.551393 121.961393 \r\nL 179.371589 131.661888 \r\nz\r\n\" style=\"fill:#e36c55;\"/>\r\n    <path clip-path=\"url(#pe5f761325c)\" d=\"M 144.585845 153.358439 \r\nL 148.826568 141.77284 \r\nL 156.181828 142.277183 \r\nL 151.936316 154.476564 \r\nz\r\n\" style=\"fill:#f7b79b;\"/>\r\n    <path clip-path=\"url(#pe5f761325c)\" d=\"M 182.514293 152.092662 \r\nL 186.678326 143.33663 \r\nL 193.989641 153.676198 \r\nL 189.875312 160.539041 \r\nz\r\n\" style=\"fill:#f5c0a7;\"/>\r\n    <path clip-path=\"url(#pe5f761325c)\" d=\"M 189.875312 160.539041 \r\nL 193.989641 153.676198 \r\nL 201.335875 161.741447 \r\nL 197.268842 167.251073 \r\nz\r\n\" style=\"fill:#efcebd;\"/>\r\n    <path clip-path=\"url(#pe5f761325c)\" d=\"M 164.667964 114.502717 \r\nL 168.894775 102.296001 \r\nL 176.252916 109.570695 \r\nL 172.038429 120.942146 \r\nz\r\n\" style=\"fill:#d24b40;\"/>\r\n    <path clip-path=\"url(#pe5f761325c)\" d=\"M 175.163538 142.637338 \r\nL 179.371589 131.661888 \r\nL 186.678326 143.33663 \r\nL 182.514293 152.092662 \r\nz\r\n\" style=\"fill:#f7a98b;\"/>\r\n    <path clip-path=\"url(#pe5f761325c)\" d=\"M 197.268842 167.251073 \r\nL 201.335875 161.741447 \r\nL 208.735122 167.608774 \r\nL 204.709024 172.28193 \r\nz\r\n\" style=\"fill:#e8d6cc;\"/>\r\n    <path clip-path=\"url(#pe5f761325c)\" d=\"M 128.724821 169.61118 \r\nL 133.025002 163.099385 \r\nL 140.327647 162.925171 \r\nL 136.041999 170.545215 \r\nz\r\n\" style=\"fill:#e9d5cb;\"/>\r\n    <path clip-path=\"url(#pe5f761325c)\" d=\"M 160.4258 128.489672 \r\nL 164.667964 114.502717 \r\nL 172.038429 120.942146 \r\nL 167.802095 133.925734 \r\nz\r\n\" style=\"fill:#e7745b;\"/>\r\n    <path clip-path=\"url(#pe5f761325c)\" d=\"M 117.095018 173.831198 \r\nL 121.458951 169.443931 \r\nL 128.724821 169.61118 \r\nL 124.386138 175.043246 \r\nz\r\n\" style=\"fill:#e0dbd8;\"/>\r\n    <path clip-path=\"url(#pe5f761325c)\" d=\"M 167.802095 133.925734 \r\nL 172.038429 120.942146 \r\nL 179.371589 131.661888 \r\nL 175.163538 142.637338 \r\nz\r\n\" style=\"fill:#f08b6e;\"/>\r\n    <path clip-path=\"url(#pe5f761325c)\" d=\"M 140.327647 162.925171 \r\nL 144.585845 153.358439 \r\nL 151.936316 154.476564 \r\nL 147.680922 164.499128 \r\nz\r\n\" style=\"fill:#f2cab5;\"/>\r\n    <path clip-path=\"url(#pe5f761325c)\" d=\"M 156.181828 142.277183 \r\nL 160.4258 128.489672 \r\nL 167.802095 133.925734 \r\nL 163.561122 146.739834 \r\nz\r\n\" style=\"fill:#f59c7d;\"/>\r\n    <path clip-path=\"url(#pe5f761325c)\" d=\"M 163.561122 146.739834 \r\nL 167.802095 133.925734 \r\nL 175.163538 142.637338 \r\nL 170.944567 153.498138 \r\nz\r\n\" style=\"fill:#f7a98b;\"/>\r\n    <path clip-path=\"url(#pe5f761325c)\" d=\"M 151.936316 154.476564 \r\nL 156.181828 142.277183 \r\nL 163.561122 146.739834 \r\nL 159.31934 158.130956 \r\nz\r\n\" style=\"fill:#f7b89c;\"/>\r\n    <path clip-path=\"url(#pe5f761325c)\" d=\"M 105.416324 176.274528 \r\nL 109.847508 172.770723 \r\nL 117.095018 173.831198 \r\nL 112.691835 177.978214 \r\nz\r\n\" style=\"fill:#dddcdc;\"/>\r\n    <path clip-path=\"url(#pe5f761325c)\" d=\"M 170.944567 153.498138 \r\nL 175.163538 142.637338 \r\nL 182.514293 152.092662 \r\nL 178.332198 160.787715 \r\nz\r\n\" style=\"fill:#f7bca1;\"/>\r\n    <path clip-path=\"url(#pe5f761325c)\" d=\"M 178.332198 160.787715 \r\nL 182.514293 152.092662 \r\nL 189.875312 160.539041 \r\nL 185.736764 167.381 \r\nz\r\n\" style=\"fill:#f2cab5;\"/>\r\n    <path clip-path=\"url(#pe5f761325c)\" d=\"M 185.736764 167.381 \r\nL 189.875312 160.539041 \r\nL 197.268842 167.251073 \r\nL 193.173177 172.765326 \r\nz\r\n\" style=\"fill:#ebd3c6;\"/>\r\n    <path clip-path=\"url(#pe5f761325c)\" d=\"M 159.31934 158.130956 \r\nL 163.561122 146.739834 \r\nL 170.944567 153.498138 \r\nL 166.720481 163.260771 \r\nz\r\n\" style=\"fill:#f6bfa6;\"/>\r\n    <path clip-path=\"url(#pe5f761325c)\" d=\"M 136.041999 170.545215 \r\nL 140.327647 162.925171 \r\nL 147.680922 164.499128 \r\nL 143.404793 172.424682 \r\nz\r\n\" style=\"fill:#ebd3c6;\"/>\r\n    <path clip-path=\"url(#pe5f761325c)\" d=\"M 147.680922 164.499128 \r\nL 151.936316 154.476564 \r\nL 159.31934 158.130956 \r\nL 155.070793 167.564966 \r\nz\r\n\" style=\"fill:#f2cab5;\"/>\r\n    <path clip-path=\"url(#pe5f761325c)\" d=\"M 124.386138 175.043246 \r\nL 128.724821 169.61118 \r\nL 136.041999 170.545215 \r\nL 131.721606 176.63933 \r\nz\r\n\" style=\"fill:#e3d9d3;\"/>\r\n    <path clip-path=\"url(#pe5f761325c)\" d=\"M 166.720481 163.260771 \r\nL 170.944567 153.498138 \r\nL 178.332198 160.787715 \r\nL 174.137962 168.739138 \r\nz\r\n\" style=\"fill:#f2cab5;\"/>\r\n    <path clip-path=\"url(#pe5f761325c)\" d=\"M 193.173177 172.765326 \r\nL 197.268842 167.251073 \r\nL 204.709024 172.28193 \r\nL 200.651574 176.974283 \r\nz\r\n\" style=\"fill:#e5d8d1;\"/>\r\n    <path clip-path=\"url(#pe5f761325c)\" d=\"M 112.691835 177.978214 \r\nL 117.095018 173.831198 \r\nL 124.386138 175.043246 \r\nL 120.007033 179.75663 \r\nz\r\n\" style=\"fill:#dedcdb;\"/>\r\n    <path clip-path=\"url(#pe5f761325c)\" d=\"M 174.137962 168.739138 \r\nL 178.332198 160.787715 \r\nL 185.736764 167.381 \r\nL 181.578763 173.778709 \r\nz\r\n\" style=\"fill:#edd2c3;\"/>\r\n    <path clip-path=\"url(#pe5f761325c)\" d=\"M 155.070793 167.564966 \r\nL 159.31934 158.130956 \r\nL 166.720481 163.260771 \r\nL 162.487836 171.501835 \r\nz\r\n\" style=\"fill:#f0cdbb;\"/>\r\n    <path clip-path=\"url(#pe5f761325c)\" d=\"M 143.404793 172.424682 \r\nL 147.680922 164.499128 \r\nL 155.070793 167.564966 \r\nL 150.805519 175.1112 \r\nz\r\n\" style=\"fill:#ebd3c6;\"/>\r\n    <path clip-path=\"url(#pe5f761325c)\" d=\"M 181.578763 173.778709 \r\nL 185.736764 167.381 \r\nL 193.173177 172.765326 \r\nL 189.052048 178.048189 \r\nz\r\n\" style=\"fill:#e7d7ce;\"/>\r\n    <path clip-path=\"url(#pe5f761325c)\" d=\"M 131.721606 176.63933 \r\nL 136.041999 170.545215 \r\nL 143.404793 172.424682 \r\nL 139.098883 178.706912 \r\nz\r\n\" style=\"fill:#e4d9d2;\"/>\r\n    <path clip-path=\"url(#pe5f761325c)\" d=\"M 162.487836 171.501835 \r\nL 166.720481 163.260771 \r\nL 174.137962 168.739138 \r\nL 169.930008 175.649759 \r\nz\r\n\" style=\"fill:#ecd3c5;\"/>\r\n    <path clip-path=\"url(#pe5f761325c)\" d=\"M 120.007033 179.75663 \r\nL 124.386138 175.043246 \r\nL 131.721606 176.63933 \r\nL 127.362575 181.71461 \r\nz\r\n\" style=\"fill:#e0dbd8;\"/>\r\n    <path clip-path=\"url(#pe5f761325c)\" d=\"M 150.805519 175.1112 \r\nL 155.070793 167.564966 \r\nL 162.487836 171.501835 \r\nL 158.23866 178.271524 \r\nz\r\n\" style=\"fill:#e9d5cb;\"/>\r\n    <path clip-path=\"url(#pe5f761325c)\" d=\"M 189.052048 178.048189 \r\nL 193.173177 172.765326 \r\nL 200.651574 176.974283 \r\nL 196.564505 181.567155 \r\nz\r\n\" style=\"fill:#e2dad5;\"/>\r\n    <path clip-path=\"url(#pe5f761325c)\" d=\"M 169.930008 175.649759 \r\nL 174.137962 168.739138 \r\nL 181.578763 173.778709 \r\nL 177.400758 179.546168 \r\nz\r\n\" style=\"fill:#e8d6cc;\"/>\r\n    <path clip-path=\"url(#pe5f761325c)\" d=\"M 139.098883 178.706912 \r\nL 143.404793 172.424682 \r\nL 150.805519 175.1112 \r\nL 146.514192 181.177688 \r\nz\r\n\" style=\"fill:#e4d9d2;\"/>\r\n    <path clip-path=\"url(#pe5f761325c)\" d=\"M 158.23866 178.271524 \r\nL 162.487836 171.501835 \r\nL 169.930008 175.649759 \r\nL 165.702644 181.55123 \r\nz\r\n\" style=\"fill:#e6d7cf;\"/>\r\n    <path clip-path=\"url(#pe5f761325c)\" d=\"M 177.400758 179.546168 \r\nL 181.578763 173.778709 \r\nL 189.052048 178.048189 \r\nL 184.905285 182.995357 \r\nz\r\n\" style=\"fill:#e3d9d3;\"/>\r\n    <path clip-path=\"url(#pe5f761325c)\" d=\"M 127.362575 181.71461 \r\nL 131.721606 176.63933 \r\nL 139.098883 178.706912 \r\nL 134.757525 183.891522 \r\nz\r\n\" style=\"fill:#e0dbd8;\"/>\r\n    <path clip-path=\"url(#pe5f761325c)\" d=\"M 146.514192 181.177688 \r\nL 150.805519 175.1112 \r\nL 158.23866 178.271524 \r\nL 153.964671 183.887691 \r\nz\r\n\" style=\"fill:#e3d9d3;\"/>\r\n    <path clip-path=\"url(#pe5f761325c)\" d=\"M 165.702644 181.55123 \r\nL 169.930008 175.649759 \r\nL 177.400758 179.546168 \r\nL 173.199042 184.701402 \r\nz\r\n\" style=\"fill:#e3d9d3;\"/>\r\n    <path clip-path=\"url(#pe5f761325c)\" d=\"M 184.905285 182.995357 \r\nL 189.052048 178.048189 \r\nL 196.564505 181.567155 \r\nL 192.447677 186.00799 \r\nz\r\n\" style=\"fill:#e0dbd8;\"/>\r\n    <path clip-path=\"url(#pe5f761325c)\" d=\"M 134.757525 183.891522 \r\nL 139.098883 178.706912 \r\nL 146.514192 181.177688 \r\nL 142.190271 186.256551 \r\nz\r\n\" style=\"fill:#e0dbd8;\"/>\r\n    <path clip-path=\"url(#pe5f761325c)\" d=\"M 153.964671 183.887691 \r\nL 158.23866 178.271524 \r\nL 165.702644 181.55123 \r\nL 161.449385 186.662482 \r\nz\r\n\" style=\"fill:#e1dad6;\"/>\r\n    <path clip-path=\"url(#pe5f761325c)\" d=\"M 173.199042 184.701402 \r\nL 177.400758 179.546168 \r\nL 184.905285 182.995357 \r\nL 180.730616 187.616362 \r\nz\r\n\" style=\"fill:#e0dbd8;\"/>\r\n    <path clip-path=\"url(#pe5f761325c)\" d=\"M 142.190271 186.256551 \r\nL 146.514192 181.177688 \r\nL 153.964671 183.887691 \r\nL 149.659543 188.735804 \r\nz\r\n\" style=\"fill:#e0dbd8;\"/>\r\n    <path clip-path=\"url(#pe5f761325c)\" d=\"M 161.449385 186.662482 \r\nL 165.702644 181.55123 \r\nL 173.199042 184.701402 \r\nL 168.969048 189.379412 \r\nz\r\n\" style=\"fill:#e0dbd8;\"/>\r\n    <path clip-path=\"url(#pe5f761325c)\" d=\"M 180.730616 187.616362 \r\nL 184.905285 182.995357 \r\nL 192.447677 186.00799 \r\nL 188.299717 190.30158 \r\nz\r\n\" style=\"fill:#dfdbd9;\"/>\r\n    <path clip-path=\"url(#pe5f761325c)\" d=\"M 149.659543 188.735804 \r\nL 153.964671 183.887691 \r\nL 161.449385 186.662482 \r\nL 157.164939 191.250652 \r\nz\r\n\" style=\"fill:#dfdbd9;\"/>\r\n    <path clip-path=\"url(#pe5f761325c)\" d=\"M 168.969048 189.379412 \r\nL 173.199042 184.701402 \r\nL 180.730616 187.616362 \r\nL 176.525082 191.986322 \r\nz\r\n\" style=\"fill:#dedcdb;\"/>\r\n    <path clip-path=\"url(#pe5f761325c)\" d=\"M 157.164939 191.250652 \r\nL 161.449385 186.662482 \r\nL 168.969048 189.379412 \r\nL 164.706843 193.745789 \r\nz\r\n\" style=\"fill:#dedcdb;\"/>\r\n    <path clip-path=\"url(#pe5f761325c)\" d=\"M 176.525082 191.986322 \r\nL 180.730616 187.616362 \r\nL 188.299717 190.30158 \r\nL 184.1188 194.485861 \r\nz\r\n\" style=\"fill:#dedcdb;\"/>\r\n    <path clip-path=\"url(#pe5f761325c)\" d=\"M 164.706843 193.745789 \r\nL 168.969048 189.379412 \r\nL 176.525082 191.986322 \r\nL 172.286016 196.197696 \r\nz\r\n\" style=\"fill:#dddcdc;\"/>\r\n    <path clip-path=\"url(#pe5f761325c)\" d=\"M 172.286016 196.197696 \r\nL 176.525082 191.986322 \r\nL 184.1188 194.485861 \r\nL 179.903215 198.607594 \r\nz\r\n\" style=\"fill:#dddcdc;\"/>\r\n   </g>\r\n  </g>\r\n </g>\r\n <defs>\r\n  <clipPath id=\"pe5f761325c\">\r\n   <rect height=\"277.2\" width=\"277.2\" x=\"7.2\" y=\"7.2\"/>\r\n  </clipPath>\r\n </defs>\r\n</svg>\r\n",
      "text/plain": [
       "<Figure size 1500x500 with 1 Axes>"
      ]
     },
     "metadata": {},
     "output_type": "display_data"
    }
   ],
   "source": [
    "#%figonly=使用`ogrid`計算二元函數的曲面\n",
    "from mpl_toolkits.mplot3d.axes3d import Axes3D\n",
    "import pylab as pl\n",
    "\n",
    "fig = pl.figure(figsize=(15, 5))\n",
    "ax = fig.add_subplot(1, 2, 1, projection='3d')\n",
    "surf = ax.plot_surface(x, y, z, rstride=1, cstride=1, cmap=\"coolwarm\", linewidth=0.2)"
   ]
  },
  {
   "cell_type": "markdown",
   "metadata": {},
   "source": [
    "為了充分利用 ufunc 函數的廣播功能，我們經常需要調整陣列的形狀，因此陣列支援特殊的索引物件 `None`，它表示在 `None` 對應的位置建立一個長度為 1 的新軸，例如對一維陣列 a ，`a[None, :]` 和 `a.reshape(1, -1)`相等，而 `a[:,None]` 和 `a.reshape(-1,1)` 相等："
   ]
  },
  {
   "cell_type": "code",
   "execution_count": 31,
   "metadata": {
    "collapsed": false
   },
   "outputs": [
    {
     "name": "stdout",
     "output_type": "stream",
     "text": [
      "  a[None, :]    a[:, None]\n",
      "--------------  ----------\n",
      "[[0, 1, 2, 3]]  [[0],     \n",
      "                 [1],     \n",
      "                 [2],     \n",
      "                 [3]]     \n"
     ]
    }
   ],
   "source": [
    "a = np.arange(4)\n",
    "%C a[None, :]; a[:, None]"
   ]
  },
  {
   "cell_type": "markdown",
   "metadata": {},
   "source": [
    "下面的實例利用 `None` 作為索引，實現廣播運算："
   ]
  },
  {
   "cell_type": "code",
   "execution_count": 42,
   "metadata": {
    "collapsed": false
   },
   "outputs": [
    {
     "data": {
      "text/plain": [
       "array([[ 2,  3,  6, 12],\n",
       "       [ 3,  4,  7, 13],\n",
       "       [ 8,  9, 12, 18]])"
      ]
     },
     "execution_count": 42,
     "metadata": {},
     "output_type": "execute_result"
    }
   ],
   "source": [
    "x = np.array([0, 1, 4, 10])    \n",
    "y = np.array([2, 3, 8])   \n",
    "x[None, :] + y[:, None]"
   ]
  },
  {
   "cell_type": "markdown",
   "metadata": {},
   "source": [
    "還可以使用 `ix_()` 將兩個一維陣列轉換成可廣播的二維陣列："
   ]
  },
  {
   "cell_type": "code",
   "execution_count": 44,
   "metadata": {
    "collapsed": false
   },
   "outputs": [
    {
     "name": "stdout",
     "output_type": "stream",
     "text": [
      "        gx            gy        gx + gy      \n",
      "------------------  -----  ------------------\n",
      "[[ 0,  1,  4, 10]]  [[2],  [[ 2,  3,  6, 12],\n",
      "                     [3],   [ 3,  4,  7, 13],\n",
      "                     [8]]   [ 8,  9, 12, 18]]\n"
     ]
    }
   ],
   "source": [
    "gy, gx = np.ix_(y, x) \n",
    "%C gx; gy; gx + gy"
   ]
  },
  {
   "cell_type": "markdown",
   "metadata": {},
   "source": [
    "在上面的實例中，透過 `ix_()` 將陣列 x 和 y 轉換成能進行廣播運算的二維陣列。注意陣列 y 對應廣播運算結果中的第 0 軸，而陣列 x 與第 1 軸對應。`ix_()` 的參數可以是 N 個一維陣列，它將這些陣列轉換成 N 維空間中可廣播的 N 維陣列。"
   ]
  },
  {
   "cell_type": "markdown",
   "metadata": {},
   "source": [
    "### ufunc的方法\n",
    "\n",
    "ufunc 函數物件本身還有一些方法函數，這些方法只對兩個輸入、一個輸出的 ufunc 函數有效，其他的 ufunc 物件呼叫這些方法時會拋出 `ValueError` 例外。\n",
    "\n",
    "`reduce()` 方法和 python 的 `reduce()` 函數類似，它沿著 `axis` 參數指定的軸對陣列操作，相當於將 `<op>` 運算子插入到沿 `axis` 軸的所有元素之間： `<op>.reduce(array, axis=0, dtype=None)`。例如："
   ]
  },
  {
   "cell_type": "code",
   "execution_count": 45,
   "metadata": {
    "collapsed": false
   },
   "outputs": [
    {
     "name": "stdout",
     "output_type": "stream",
     "text": [
      "r1     r2   \n",
      "--  --------\n",
      "6   [ 6, 15]\n"
     ]
    }
   ],
   "source": [
    "r1 = np.add.reduce([1, 2, 3])  # 1 + 2 + 3\n",
    "r2 = np.add.reduce([[1, 2, 3], [4, 5, 6]], axis=1)  # (1+2+3),(4+5+6)\n",
    "%C r1; r2"
   ]
  },
  {
   "cell_type": "markdown",
   "metadata": {},
   "source": [
    "`accumulate()` 方法和 `reduce()` 類似，只是它傳回的陣列和輸入陣列的形狀相同。儲存所有的中間計算結果："
   ]
  },
  {
   "cell_type": "code",
   "execution_count": 46,
   "metadata": {
    "collapsed": false
   },
   "outputs": [
    {
     "name": "stdout",
     "output_type": "stream",
     "text": [
      "    a1           a2      \n",
      "---------  --------------\n",
      "[1, 3, 6]  [[ 1,  3,  6],\n",
      "            [ 4,  9, 15]]\n"
     ]
    }
   ],
   "source": [
    "a1 = np.add.accumulate([1, 2, 3])\n",
    "a2 = np.add.accumulate([[1, 2, 3], [4, 5, 6]], axis=1)\n",
    "%C a1; a2"
   ]
  },
  {
   "cell_type": "markdown",
   "metadata": {},
   "source": [
    "`reduceat()` 方法計算多組 `reduce()` 的結果，透過 `indices` 參數指定一系列的起始和終止位置。它的計算有些特別，讓我們透過實例詳細解釋一下："
   ]
  },
  {
   "cell_type": "code",
   "execution_count": 37,
   "metadata": {
    "collapsed": false
   },
   "outputs": [
    {
     "data": {
      "text/plain": [
       "array([ 1,  2,  3,  3,  6,  4, 10])"
      ]
     },
     "execution_count": 37,
     "metadata": {},
     "output_type": "execute_result"
    }
   ],
   "source": [
    "a = np.array([1, 2, 3, 4])\n",
    "result = np.add.reduceat(a, indices=[0, 1, 0, 2, 0, 3, 0])\n",
    "result"
   ]
  },
  {
   "cell_type": "markdown",
   "metadata": {},
   "source": [
    "對於 `indices` 參數中的每個元素都會計算出一個值，因此最後的計算結果和 `indices` 參數的長度相同。結果陣列 result 中除最後一個元素之外，都按照以下計算得出：\n",
    "\n",
    "```python\n",
    "if indices[i] < indices[i+1]:\n",
    "    result[i] = <op>.reduce(indices[i]:indices[i+1])\n",
    "else:\n",
    "    result[i] = a[indices[-1]:]\n",
    "```\n",
    "而最後一個元素如下計算:\n",
    "```python\n",
    "<op>.reduce(a[indices[-1]:])\n",
    "```\n",
    "因此在上面的實例中，陣列 result 的每個元素按照以下計算得出:\n",
    "```\n",
    "    1: a[0] -> 1\n",
    "    2: a[1] -> 2\n",
    "    3: a[0] + a[1] -> 1 + 2\n",
    "    3: a[2] -> 3\n",
    "    6: a[0] + a[1] + a[2] -> 1 + 2 + 3 = 6\n",
    "    4: a[3] -> 4\n",
    "    10: a[0] + a[1] + a[2] + a[4] -> 1 + 2 + 3 + 4 = 10\n",
    "```\n",
    "\n",
    "可以看出 `result[::2]` 和 `a` 相等，而 `result[1::2]` 和 `np.add.accumulate(a)` 相等。\n",
    "\n",
    "ufunc 函數物件的 `outer()` 方法等於以下程式：\n",
    "```python\n",
    "a.shape += (1,)*b.ndim\n",
    "<op>(a,b)\n",
    "a = a.squeeze()\n",
    "```\n",
    "其中 `squeeze()` 方法剔除陣列 a 中長度為 1 的軸。讓我們看一個實例："
   ]
  },
  {
   "cell_type": "code",
   "execution_count": 47,
   "metadata": {
    "collapsed": false
   },
   "outputs": [
    {
     "data": {
      "text/plain": [
       "array([[ 2,  3,  4],\n",
       "       [ 4,  6,  8],\n",
       "       [ 6,  9, 12],\n",
       "       [ 8, 12, 16],\n",
       "       [10, 15, 20]])"
      ]
     },
     "execution_count": 47,
     "metadata": {},
     "output_type": "execute_result"
    }
   ],
   "source": [
    "np.multiply.outer([1, 2, 3, 4, 5], [2, 3, 4])"
   ]
  },
  {
   "cell_type": "markdown",
   "metadata": {},
   "source": [
    "可以看出透過 `outer()` 計算的結果是以下乘法表：\n",
    "```\n",
    "* | 2  3  4\n",
    "------------\n",
    "1 | 2  3  4\n",
    "2 | 4  6  8\n",
    "3 | 6  9 12\n",
    "4 | 8 12 16\n",
    "5 |10 15 20\n",
    "```\n",
    "如果將這兩個陣列按照等同程式一步一步地進行計算，就會發現乘法表最後是透過廣播的方式計算出來的。"
   ]
  },
  {
   "cell_type": "markdown",
   "metadata": {},
   "source": []
  }
 ],
 "metadata": {
  "kernelspec": {
   "display_name": "Python 3",
   "language": "python",
   "name": "python3"
  },
  "language_info": {
   "codemirror_mode": {
    "name": "ipython",
    "version": 3
   },
   "file_extension": ".py",
   "mimetype": "text/x-python",
   "name": "python",
   "nbconvert_exporter": "python",
   "pygments_lexer": "ipython3",
   "version": "3.8.3"
  }
 },
 "nbformat": 4,
 "nbformat_minor": 0
}
